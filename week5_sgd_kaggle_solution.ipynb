{
 "cells": [
  {
   "cell_type": "markdown",
   "metadata": {},
   "source": [
    "<center>\n",
    "<img src=\"https://habrastorage.org/web/677/8e1/337/6778e1337c3d4b159d7e99df94227cb2.jpg\"/>\n",
    "## Специализация \"Машинное обучение и анализ данных\"\n",
    "<center>Автор материала: программист-исследователь Mail.Ru Group, старший преподаватель Факультета Компьютерных Наук ВШЭ [Юрий Кашницкий](https://yorko.github.io/)"
   ]
  },
  {
   "cell_type": "markdown",
   "metadata": {},
   "source": [
    "# <center> Capstone проект №1 <br> Идентификация пользователей по посещенным веб-страницам\n",
    "<img src='http://i.istockimg.com/file_thumbview_approve/21546327/5/stock-illustration-21546327-identification-de-l-utilisateur.jpg'>\n",
    "\n",
    "# <center>Неделя 5.  Соревнование Kaggle \"Catch Me If You Can\"\n",
    "\n",
    "На этой неделе мы вспомним про концепцию стохастического градиентного спуска и опробуем классификатор Scikit-learn SGDClassifier, который работает намного быстрее на больших выборках, чем алгоритмы, которые мы тестировали на 4 неделе. Также мы познакомимся с данными [соревнования](https://inclass.kaggle.com/c/catch-me-if-you-can-intruder-detection-through-webpage-session-tracking2) Kaggle по идентификации пользователей и сделаем в нем первые посылки. По итогам этой недели дополнительные баллы получат те, кто попадет в топ-30 публичного лидерборда соревнования.\n",
    "\n",
    "**В этой части проекта Вам могут быть полезны видеозаписи следующих лекций курса \"Обучение на размеченных данных\":**\n",
    "   - [Стохатический градиентный спуск](https://www.coursera.org/learn/supervised-learning/lecture/xRY50/stokhastichieskii-ghradiientnyi-spusk)\n",
    "   - [Линейные модели. Sklearn.linear_model. Классификация](https://www.coursera.org/learn/supervised-learning/lecture/EBg9t/linieinyie-modieli-sklearn-linear-model-klassifikatsiia)\n",
    "   \n",
    "**Также рекомендуется вернуться и просмотреть [задание](https://www.coursera.org/learn/supervised-learning/programming/t2Idc/linieinaia-rieghriessiia-i-stokhastichieskii-ghradiientnyi-spusk) \"Линейная регрессия и стохастический градиентный спуск\" 1 недели 2 курса специализации.**"
   ]
  },
  {
   "cell_type": "markdown",
   "metadata": {},
   "source": [
    "### Задание\n",
    "1. Заполните код в этой тетрадке \n",
    "2. Если вы проходите специализацию Яндеса и МФТИ, пошлите тетрадку в соответствующем Peer Review. <br> Если вы проходите курс ODS, выберите ответы в [веб-форме](https://docs.google.com/forms/d/1pLsegkAICL9PzOLyAeH9DmDOBfktte0l8JW75uWcTng). "
   ]
  },
  {
   "cell_type": "code",
   "execution_count": 1,
   "metadata": {},
   "outputs": [],
   "source": [
    "from __future__ import division, print_function\n",
    "# отключим всякие предупреждения Anaconda\n",
    "import warnings\n",
    "warnings.filterwarnings('ignore')\n",
    "import os\n",
    "import pickle\n",
    "import numpy as np\n",
    "import pandas as pd\n",
    "from scipy.sparse import csr_matrix\n",
    "from sklearn.model_selection import train_test_split\n",
    "from sklearn.linear_model import SGDClassifier\n",
    "from sklearn.metrics import roc_auc_score"
   ]
  },
  {
   "cell_type": "markdown",
   "metadata": {},
   "source": [
    "**Считаем данные [соревнования](https://inclass.kaggle.com/c/catch-me-if-you-can-intruder-detection-through-webpage-session-tracking2) в DataFrame train_df и test_df (обучающая и тестовая выборки).**"
   ]
  },
  {
   "cell_type": "code",
   "execution_count": 2,
   "metadata": {},
   "outputs": [],
   "source": [
    "# Поменяйте на свой путь к данным\n",
    "PATH_TO_DATA = 'w5data'"
   ]
  },
  {
   "cell_type": "code",
   "execution_count": 3,
   "metadata": {},
   "outputs": [],
   "source": [
    "train_df = pd.read_csv(os.path.join(PATH_TO_DATA, 'train_sessions.csv'),\n",
    "                       index_col='session_id')\n",
    "test_df = pd.read_csv(os.path.join(PATH_TO_DATA, 'test_sessions.csv'),\n",
    "                      index_col='session_id')"
   ]
  },
  {
   "cell_type": "code",
   "execution_count": 4,
   "metadata": {},
   "outputs": [
    {
     "data": {
      "text/html": [
       "<div>\n",
       "<style scoped>\n",
       "    .dataframe tbody tr th:only-of-type {\n",
       "        vertical-align: middle;\n",
       "    }\n",
       "\n",
       "    .dataframe tbody tr th {\n",
       "        vertical-align: top;\n",
       "    }\n",
       "\n",
       "    .dataframe thead th {\n",
       "        text-align: right;\n",
       "    }\n",
       "</style>\n",
       "<table border=\"1\" class=\"dataframe\">\n",
       "  <thead>\n",
       "    <tr style=\"text-align: right;\">\n",
       "      <th></th>\n",
       "      <th>site1</th>\n",
       "      <th>time1</th>\n",
       "      <th>site2</th>\n",
       "      <th>time2</th>\n",
       "      <th>site3</th>\n",
       "      <th>time3</th>\n",
       "      <th>site4</th>\n",
       "      <th>time4</th>\n",
       "      <th>site5</th>\n",
       "      <th>time5</th>\n",
       "      <th>...</th>\n",
       "      <th>time6</th>\n",
       "      <th>site7</th>\n",
       "      <th>time7</th>\n",
       "      <th>site8</th>\n",
       "      <th>time8</th>\n",
       "      <th>site9</th>\n",
       "      <th>time9</th>\n",
       "      <th>site10</th>\n",
       "      <th>time10</th>\n",
       "      <th>target</th>\n",
       "    </tr>\n",
       "    <tr>\n",
       "      <th>session_id</th>\n",
       "      <th></th>\n",
       "      <th></th>\n",
       "      <th></th>\n",
       "      <th></th>\n",
       "      <th></th>\n",
       "      <th></th>\n",
       "      <th></th>\n",
       "      <th></th>\n",
       "      <th></th>\n",
       "      <th></th>\n",
       "      <th></th>\n",
       "      <th></th>\n",
       "      <th></th>\n",
       "      <th></th>\n",
       "      <th></th>\n",
       "      <th></th>\n",
       "      <th></th>\n",
       "      <th></th>\n",
       "      <th></th>\n",
       "      <th></th>\n",
       "      <th></th>\n",
       "    </tr>\n",
       "  </thead>\n",
       "  <tbody>\n",
       "    <tr>\n",
       "      <th>1</th>\n",
       "      <td>718</td>\n",
       "      <td>2014-02-20 10:02:45</td>\n",
       "      <td>NaN</td>\n",
       "      <td>NaN</td>\n",
       "      <td>NaN</td>\n",
       "      <td>NaN</td>\n",
       "      <td>NaN</td>\n",
       "      <td>NaN</td>\n",
       "      <td>NaN</td>\n",
       "      <td>NaN</td>\n",
       "      <td>...</td>\n",
       "      <td>NaN</td>\n",
       "      <td>NaN</td>\n",
       "      <td>NaN</td>\n",
       "      <td>NaN</td>\n",
       "      <td>NaN</td>\n",
       "      <td>NaN</td>\n",
       "      <td>NaN</td>\n",
       "      <td>NaN</td>\n",
       "      <td>NaN</td>\n",
       "      <td>0</td>\n",
       "    </tr>\n",
       "    <tr>\n",
       "      <th>2</th>\n",
       "      <td>890</td>\n",
       "      <td>2014-02-22 11:19:50</td>\n",
       "      <td>941.0</td>\n",
       "      <td>2014-02-22 11:19:50</td>\n",
       "      <td>3847.0</td>\n",
       "      <td>2014-02-22 11:19:51</td>\n",
       "      <td>941.0</td>\n",
       "      <td>2014-02-22 11:19:51</td>\n",
       "      <td>942.0</td>\n",
       "      <td>2014-02-22 11:19:51</td>\n",
       "      <td>...</td>\n",
       "      <td>2014-02-22 11:19:51</td>\n",
       "      <td>3847.0</td>\n",
       "      <td>2014-02-22 11:19:52</td>\n",
       "      <td>3846.0</td>\n",
       "      <td>2014-02-22 11:19:52</td>\n",
       "      <td>1516.0</td>\n",
       "      <td>2014-02-22 11:20:15</td>\n",
       "      <td>1518.0</td>\n",
       "      <td>2014-02-22 11:20:16</td>\n",
       "      <td>0</td>\n",
       "    </tr>\n",
       "    <tr>\n",
       "      <th>3</th>\n",
       "      <td>14769</td>\n",
       "      <td>2013-12-16 16:40:17</td>\n",
       "      <td>39.0</td>\n",
       "      <td>2013-12-16 16:40:18</td>\n",
       "      <td>14768.0</td>\n",
       "      <td>2013-12-16 16:40:19</td>\n",
       "      <td>14769.0</td>\n",
       "      <td>2013-12-16 16:40:19</td>\n",
       "      <td>37.0</td>\n",
       "      <td>2013-12-16 16:40:19</td>\n",
       "      <td>...</td>\n",
       "      <td>2013-12-16 16:40:19</td>\n",
       "      <td>14768.0</td>\n",
       "      <td>2013-12-16 16:40:20</td>\n",
       "      <td>14768.0</td>\n",
       "      <td>2013-12-16 16:40:21</td>\n",
       "      <td>14768.0</td>\n",
       "      <td>2013-12-16 16:40:22</td>\n",
       "      <td>14768.0</td>\n",
       "      <td>2013-12-16 16:40:24</td>\n",
       "      <td>0</td>\n",
       "    </tr>\n",
       "    <tr>\n",
       "      <th>4</th>\n",
       "      <td>782</td>\n",
       "      <td>2014-03-28 10:52:12</td>\n",
       "      <td>782.0</td>\n",
       "      <td>2014-03-28 10:52:42</td>\n",
       "      <td>782.0</td>\n",
       "      <td>2014-03-28 10:53:12</td>\n",
       "      <td>782.0</td>\n",
       "      <td>2014-03-28 10:53:42</td>\n",
       "      <td>782.0</td>\n",
       "      <td>2014-03-28 10:54:12</td>\n",
       "      <td>...</td>\n",
       "      <td>2014-03-28 10:54:42</td>\n",
       "      <td>782.0</td>\n",
       "      <td>2014-03-28 10:55:12</td>\n",
       "      <td>782.0</td>\n",
       "      <td>2014-03-28 10:55:42</td>\n",
       "      <td>782.0</td>\n",
       "      <td>2014-03-28 10:56:12</td>\n",
       "      <td>782.0</td>\n",
       "      <td>2014-03-28 10:56:42</td>\n",
       "      <td>0</td>\n",
       "    </tr>\n",
       "    <tr>\n",
       "      <th>5</th>\n",
       "      <td>22</td>\n",
       "      <td>2014-02-28 10:53:05</td>\n",
       "      <td>177.0</td>\n",
       "      <td>2014-02-28 10:55:22</td>\n",
       "      <td>175.0</td>\n",
       "      <td>2014-02-28 10:55:22</td>\n",
       "      <td>178.0</td>\n",
       "      <td>2014-02-28 10:55:23</td>\n",
       "      <td>177.0</td>\n",
       "      <td>2014-02-28 10:55:23</td>\n",
       "      <td>...</td>\n",
       "      <td>2014-02-28 10:55:59</td>\n",
       "      <td>175.0</td>\n",
       "      <td>2014-02-28 10:55:59</td>\n",
       "      <td>177.0</td>\n",
       "      <td>2014-02-28 10:55:59</td>\n",
       "      <td>177.0</td>\n",
       "      <td>2014-02-28 10:57:06</td>\n",
       "      <td>178.0</td>\n",
       "      <td>2014-02-28 10:57:11</td>\n",
       "      <td>0</td>\n",
       "    </tr>\n",
       "  </tbody>\n",
       "</table>\n",
       "<p>5 rows × 21 columns</p>\n",
       "</div>"
      ],
      "text/plain": [
       "            site1                time1  site2                time2    site3  \\\n",
       "session_id                                                                    \n",
       "1             718  2014-02-20 10:02:45    NaN                  NaN      NaN   \n",
       "2             890  2014-02-22 11:19:50  941.0  2014-02-22 11:19:50   3847.0   \n",
       "3           14769  2013-12-16 16:40:17   39.0  2013-12-16 16:40:18  14768.0   \n",
       "4             782  2014-03-28 10:52:12  782.0  2014-03-28 10:52:42    782.0   \n",
       "5              22  2014-02-28 10:53:05  177.0  2014-02-28 10:55:22    175.0   \n",
       "\n",
       "                          time3    site4                time4  site5  \\\n",
       "session_id                                                             \n",
       "1                           NaN      NaN                  NaN    NaN   \n",
       "2           2014-02-22 11:19:51    941.0  2014-02-22 11:19:51  942.0   \n",
       "3           2013-12-16 16:40:19  14769.0  2013-12-16 16:40:19   37.0   \n",
       "4           2014-03-28 10:53:12    782.0  2014-03-28 10:53:42  782.0   \n",
       "5           2014-02-28 10:55:22    178.0  2014-02-28 10:55:23  177.0   \n",
       "\n",
       "                          time5  ...                time6    site7  \\\n",
       "session_id                       ...                                 \n",
       "1                           NaN  ...                  NaN      NaN   \n",
       "2           2014-02-22 11:19:51  ...  2014-02-22 11:19:51   3847.0   \n",
       "3           2013-12-16 16:40:19  ...  2013-12-16 16:40:19  14768.0   \n",
       "4           2014-03-28 10:54:12  ...  2014-03-28 10:54:42    782.0   \n",
       "5           2014-02-28 10:55:23  ...  2014-02-28 10:55:59    175.0   \n",
       "\n",
       "                          time7    site8                time8    site9  \\\n",
       "session_id                                                               \n",
       "1                           NaN      NaN                  NaN      NaN   \n",
       "2           2014-02-22 11:19:52   3846.0  2014-02-22 11:19:52   1516.0   \n",
       "3           2013-12-16 16:40:20  14768.0  2013-12-16 16:40:21  14768.0   \n",
       "4           2014-03-28 10:55:12    782.0  2014-03-28 10:55:42    782.0   \n",
       "5           2014-02-28 10:55:59    177.0  2014-02-28 10:55:59    177.0   \n",
       "\n",
       "                          time9   site10               time10 target  \n",
       "session_id                                                            \n",
       "1                           NaN      NaN                  NaN      0  \n",
       "2           2014-02-22 11:20:15   1518.0  2014-02-22 11:20:16      0  \n",
       "3           2013-12-16 16:40:22  14768.0  2013-12-16 16:40:24      0  \n",
       "4           2014-03-28 10:56:12    782.0  2014-03-28 10:56:42      0  \n",
       "5           2014-02-28 10:57:06    178.0  2014-02-28 10:57:11      0  \n",
       "\n",
       "[5 rows x 21 columns]"
      ]
     },
     "execution_count": 4,
     "metadata": {},
     "output_type": "execute_result"
    }
   ],
   "source": [
    "train_df.head()"
   ]
  },
  {
   "cell_type": "markdown",
   "metadata": {},
   "source": [
    "**Объединим обучающую и тестовую выборки – это понадобится, чтоб вместе потом привести их к разреженному формату.**"
   ]
  },
  {
   "cell_type": "code",
   "execution_count": 5,
   "metadata": {},
   "outputs": [],
   "source": [
    "train_test_df = pd.concat([train_df, test_df])"
   ]
  },
  {
   "cell_type": "markdown",
   "metadata": {},
   "source": [
    "В обучающей выборке видим следующие признаки:\n",
    "    - site1 – индекс первого посещенного сайта в сессии\n",
    "    - time1 – время посещения первого сайта в сессии\n",
    "    - ...\n",
    "    - site10 – индекс 10-го посещенного сайта в сессии\n",
    "    - time10 – время посещения 10-го сайта в сессии\n",
    "    - user_id – ID пользователя\n",
    "    \n",
    "Сессии пользователей выделены таким образом, что они не могут быть длинее получаса или 10 сайтов. То есть сессия считается оконченной либо когда пользователь посетил 10 сайтов подряд, либо когда сессия заняла по времени более 30 минут. "
   ]
  },
  {
   "cell_type": "markdown",
   "metadata": {},
   "source": [
    "**Посмотрим на статистику признаков.**\n",
    "\n",
    "Пропуски возникают там, где сессии короткие (менее 10 сайтов). Скажем, если человек 1 января 2015 года посетил *vk.com* в 20:01, потом *yandex.ru* в 20:29, затем *google.com* в 20:33, то первая его сессия будет состоять только из двух сайтов (site1 – ID сайта *vk.com*, time1 – 2015-01-01 20:01:00, site2 – ID сайта  *yandex.ru*, time2 – 2015-01-01 20:29:00, остальные признаки – NaN), а начиная с *google.com* пойдет новая сессия, потому что уже прошло более 30 минут с момента посещения *vk.com*."
   ]
  },
  {
   "cell_type": "code",
   "execution_count": 6,
   "metadata": {},
   "outputs": [
    {
     "name": "stdout",
     "output_type": "stream",
     "text": [
      "<class 'pandas.core.frame.DataFrame'>\n",
      "Int64Index: 253561 entries, 1 to 253561\n",
      "Data columns (total 21 columns):\n",
      " #   Column  Non-Null Count   Dtype  \n",
      "---  ------  --------------   -----  \n",
      " 0   site1   253561 non-null  int64  \n",
      " 1   time1   253561 non-null  object \n",
      " 2   site2   250098 non-null  float64\n",
      " 3   time2   250098 non-null  object \n",
      " 4   site3   246919 non-null  float64\n",
      " 5   time3   246919 non-null  object \n",
      " 6   site4   244321 non-null  float64\n",
      " 7   time4   244321 non-null  object \n",
      " 8   site5   241829 non-null  float64\n",
      " 9   time5   241829 non-null  object \n",
      " 10  site6   239495 non-null  float64\n",
      " 11  time6   239495 non-null  object \n",
      " 12  site7   237297 non-null  float64\n",
      " 13  time7   237297 non-null  object \n",
      " 14  site8   235224 non-null  float64\n",
      " 15  time8   235224 non-null  object \n",
      " 16  site9   233084 non-null  float64\n",
      " 17  time9   233084 non-null  object \n",
      " 18  site10  231052 non-null  float64\n",
      " 19  time10  231052 non-null  object \n",
      " 20  target  253561 non-null  int64  \n",
      "dtypes: float64(9), int64(2), object(10)\n",
      "memory usage: 42.6+ MB\n"
     ]
    }
   ],
   "source": [
    "train_df.info()"
   ]
  },
  {
   "cell_type": "code",
   "execution_count": 7,
   "metadata": {},
   "outputs": [
    {
     "data": {
      "text/html": [
       "<div>\n",
       "<style scoped>\n",
       "    .dataframe tbody tr th:only-of-type {\n",
       "        vertical-align: middle;\n",
       "    }\n",
       "\n",
       "    .dataframe tbody tr th {\n",
       "        vertical-align: top;\n",
       "    }\n",
       "\n",
       "    .dataframe thead th {\n",
       "        text-align: right;\n",
       "    }\n",
       "</style>\n",
       "<table border=\"1\" class=\"dataframe\">\n",
       "  <thead>\n",
       "    <tr style=\"text-align: right;\">\n",
       "      <th></th>\n",
       "      <th>site1</th>\n",
       "      <th>time1</th>\n",
       "      <th>site2</th>\n",
       "      <th>time2</th>\n",
       "      <th>site3</th>\n",
       "      <th>time3</th>\n",
       "      <th>site4</th>\n",
       "      <th>time4</th>\n",
       "      <th>site5</th>\n",
       "      <th>time5</th>\n",
       "      <th>site6</th>\n",
       "      <th>time6</th>\n",
       "      <th>site7</th>\n",
       "      <th>time7</th>\n",
       "      <th>site8</th>\n",
       "      <th>time8</th>\n",
       "      <th>site9</th>\n",
       "      <th>time9</th>\n",
       "      <th>site10</th>\n",
       "      <th>time10</th>\n",
       "    </tr>\n",
       "    <tr>\n",
       "      <th>session_id</th>\n",
       "      <th></th>\n",
       "      <th></th>\n",
       "      <th></th>\n",
       "      <th></th>\n",
       "      <th></th>\n",
       "      <th></th>\n",
       "      <th></th>\n",
       "      <th></th>\n",
       "      <th></th>\n",
       "      <th></th>\n",
       "      <th></th>\n",
       "      <th></th>\n",
       "      <th></th>\n",
       "      <th></th>\n",
       "      <th></th>\n",
       "      <th></th>\n",
       "      <th></th>\n",
       "      <th></th>\n",
       "      <th></th>\n",
       "      <th></th>\n",
       "    </tr>\n",
       "  </thead>\n",
       "  <tbody>\n",
       "    <tr>\n",
       "      <th>1</th>\n",
       "      <td>29</td>\n",
       "      <td>2014-10-04 11:19:53</td>\n",
       "      <td>35.0</td>\n",
       "      <td>2014-10-04 11:19:53</td>\n",
       "      <td>22.0</td>\n",
       "      <td>2014-10-04 11:19:54</td>\n",
       "      <td>321.0</td>\n",
       "      <td>2014-10-04 11:19:54</td>\n",
       "      <td>23.0</td>\n",
       "      <td>2014-10-04 11:19:54</td>\n",
       "      <td>2211.0</td>\n",
       "      <td>2014-10-04 11:19:54</td>\n",
       "      <td>6730.0</td>\n",
       "      <td>2014-10-04 11:19:54</td>\n",
       "      <td>21.0</td>\n",
       "      <td>2014-10-04 11:19:54</td>\n",
       "      <td>44582.0</td>\n",
       "      <td>2014-10-04 11:20:00</td>\n",
       "      <td>15336.0</td>\n",
       "      <td>2014-10-04 11:20:00</td>\n",
       "    </tr>\n",
       "    <tr>\n",
       "      <th>2</th>\n",
       "      <td>782</td>\n",
       "      <td>2014-07-03 11:00:28</td>\n",
       "      <td>782.0</td>\n",
       "      <td>2014-07-03 11:00:53</td>\n",
       "      <td>782.0</td>\n",
       "      <td>2014-07-03 11:00:58</td>\n",
       "      <td>782.0</td>\n",
       "      <td>2014-07-03 11:01:06</td>\n",
       "      <td>782.0</td>\n",
       "      <td>2014-07-03 11:01:09</td>\n",
       "      <td>782.0</td>\n",
       "      <td>2014-07-03 11:01:10</td>\n",
       "      <td>782.0</td>\n",
       "      <td>2014-07-03 11:01:23</td>\n",
       "      <td>782.0</td>\n",
       "      <td>2014-07-03 11:01:29</td>\n",
       "      <td>782.0</td>\n",
       "      <td>2014-07-03 11:01:30</td>\n",
       "      <td>782.0</td>\n",
       "      <td>2014-07-03 11:01:53</td>\n",
       "    </tr>\n",
       "    <tr>\n",
       "      <th>3</th>\n",
       "      <td>55</td>\n",
       "      <td>2014-12-05 15:55:12</td>\n",
       "      <td>55.0</td>\n",
       "      <td>2014-12-05 15:55:13</td>\n",
       "      <td>55.0</td>\n",
       "      <td>2014-12-05 15:55:14</td>\n",
       "      <td>55.0</td>\n",
       "      <td>2014-12-05 15:56:15</td>\n",
       "      <td>55.0</td>\n",
       "      <td>2014-12-05 15:56:16</td>\n",
       "      <td>55.0</td>\n",
       "      <td>2014-12-05 15:56:17</td>\n",
       "      <td>55.0</td>\n",
       "      <td>2014-12-05 15:56:18</td>\n",
       "      <td>55.0</td>\n",
       "      <td>2014-12-05 15:56:19</td>\n",
       "      <td>1445.0</td>\n",
       "      <td>2014-12-05 15:56:33</td>\n",
       "      <td>1445.0</td>\n",
       "      <td>2014-12-05 15:56:36</td>\n",
       "    </tr>\n",
       "    <tr>\n",
       "      <th>4</th>\n",
       "      <td>1023</td>\n",
       "      <td>2014-11-04 10:03:19</td>\n",
       "      <td>1022.0</td>\n",
       "      <td>2014-11-04 10:03:19</td>\n",
       "      <td>50.0</td>\n",
       "      <td>2014-11-04 10:03:20</td>\n",
       "      <td>222.0</td>\n",
       "      <td>2014-11-04 10:03:21</td>\n",
       "      <td>202.0</td>\n",
       "      <td>2014-11-04 10:03:21</td>\n",
       "      <td>3374.0</td>\n",
       "      <td>2014-11-04 10:03:22</td>\n",
       "      <td>50.0</td>\n",
       "      <td>2014-11-04 10:03:22</td>\n",
       "      <td>48.0</td>\n",
       "      <td>2014-11-04 10:03:22</td>\n",
       "      <td>48.0</td>\n",
       "      <td>2014-11-04 10:03:23</td>\n",
       "      <td>3374.0</td>\n",
       "      <td>2014-11-04 10:03:23</td>\n",
       "    </tr>\n",
       "    <tr>\n",
       "      <th>5</th>\n",
       "      <td>301</td>\n",
       "      <td>2014-05-16 15:05:31</td>\n",
       "      <td>301.0</td>\n",
       "      <td>2014-05-16 15:05:32</td>\n",
       "      <td>301.0</td>\n",
       "      <td>2014-05-16 15:05:33</td>\n",
       "      <td>66.0</td>\n",
       "      <td>2014-05-16 15:05:39</td>\n",
       "      <td>67.0</td>\n",
       "      <td>2014-05-16 15:05:40</td>\n",
       "      <td>69.0</td>\n",
       "      <td>2014-05-16 15:05:40</td>\n",
       "      <td>70.0</td>\n",
       "      <td>2014-05-16 15:05:40</td>\n",
       "      <td>68.0</td>\n",
       "      <td>2014-05-16 15:05:40</td>\n",
       "      <td>71.0</td>\n",
       "      <td>2014-05-16 15:05:40</td>\n",
       "      <td>167.0</td>\n",
       "      <td>2014-05-16 15:05:44</td>\n",
       "    </tr>\n",
       "  </tbody>\n",
       "</table>\n",
       "</div>"
      ],
      "text/plain": [
       "            site1                time1   site2                time2  site3  \\\n",
       "session_id                                                                   \n",
       "1              29  2014-10-04 11:19:53    35.0  2014-10-04 11:19:53   22.0   \n",
       "2             782  2014-07-03 11:00:28   782.0  2014-07-03 11:00:53  782.0   \n",
       "3              55  2014-12-05 15:55:12    55.0  2014-12-05 15:55:13   55.0   \n",
       "4            1023  2014-11-04 10:03:19  1022.0  2014-11-04 10:03:19   50.0   \n",
       "5             301  2014-05-16 15:05:31   301.0  2014-05-16 15:05:32  301.0   \n",
       "\n",
       "                          time3  site4                time4  site5  \\\n",
       "session_id                                                           \n",
       "1           2014-10-04 11:19:54  321.0  2014-10-04 11:19:54   23.0   \n",
       "2           2014-07-03 11:00:58  782.0  2014-07-03 11:01:06  782.0   \n",
       "3           2014-12-05 15:55:14   55.0  2014-12-05 15:56:15   55.0   \n",
       "4           2014-11-04 10:03:20  222.0  2014-11-04 10:03:21  202.0   \n",
       "5           2014-05-16 15:05:33   66.0  2014-05-16 15:05:39   67.0   \n",
       "\n",
       "                          time5   site6                time6   site7  \\\n",
       "session_id                                                             \n",
       "1           2014-10-04 11:19:54  2211.0  2014-10-04 11:19:54  6730.0   \n",
       "2           2014-07-03 11:01:09   782.0  2014-07-03 11:01:10   782.0   \n",
       "3           2014-12-05 15:56:16    55.0  2014-12-05 15:56:17    55.0   \n",
       "4           2014-11-04 10:03:21  3374.0  2014-11-04 10:03:22    50.0   \n",
       "5           2014-05-16 15:05:40    69.0  2014-05-16 15:05:40    70.0   \n",
       "\n",
       "                          time7  site8                time8    site9  \\\n",
       "session_id                                                             \n",
       "1           2014-10-04 11:19:54   21.0  2014-10-04 11:19:54  44582.0   \n",
       "2           2014-07-03 11:01:23  782.0  2014-07-03 11:01:29    782.0   \n",
       "3           2014-12-05 15:56:18   55.0  2014-12-05 15:56:19   1445.0   \n",
       "4           2014-11-04 10:03:22   48.0  2014-11-04 10:03:22     48.0   \n",
       "5           2014-05-16 15:05:40   68.0  2014-05-16 15:05:40     71.0   \n",
       "\n",
       "                          time9   site10               time10  \n",
       "session_id                                                     \n",
       "1           2014-10-04 11:20:00  15336.0  2014-10-04 11:20:00  \n",
       "2           2014-07-03 11:01:30    782.0  2014-07-03 11:01:53  \n",
       "3           2014-12-05 15:56:33   1445.0  2014-12-05 15:56:36  \n",
       "4           2014-11-04 10:03:23   3374.0  2014-11-04 10:03:23  \n",
       "5           2014-05-16 15:05:40    167.0  2014-05-16 15:05:44  "
      ]
     },
     "execution_count": 7,
     "metadata": {},
     "output_type": "execute_result"
    }
   ],
   "source": [
    "test_df.head()"
   ]
  },
  {
   "cell_type": "code",
   "execution_count": 8,
   "metadata": {},
   "outputs": [
    {
     "name": "stdout",
     "output_type": "stream",
     "text": [
      "<class 'pandas.core.frame.DataFrame'>\n",
      "Int64Index: 82797 entries, 1 to 82797\n",
      "Data columns (total 20 columns):\n",
      " #   Column  Non-Null Count  Dtype  \n",
      "---  ------  --------------  -----  \n",
      " 0   site1   82797 non-null  int64  \n",
      " 1   time1   82797 non-null  object \n",
      " 2   site2   81308 non-null  float64\n",
      " 3   time2   81308 non-null  object \n",
      " 4   site3   80075 non-null  float64\n",
      " 5   time3   80075 non-null  object \n",
      " 6   site4   79182 non-null  float64\n",
      " 7   time4   79182 non-null  object \n",
      " 8   site5   78341 non-null  float64\n",
      " 9   time5   78341 non-null  object \n",
      " 10  site6   77566 non-null  float64\n",
      " 11  time6   77566 non-null  object \n",
      " 12  site7   76840 non-null  float64\n",
      " 13  time7   76840 non-null  object \n",
      " 14  site8   76151 non-null  float64\n",
      " 15  time8   76151 non-null  object \n",
      " 16  site9   75484 non-null  float64\n",
      " 17  time9   75484 non-null  object \n",
      " 18  site10  74806 non-null  float64\n",
      " 19  time10  74806 non-null  object \n",
      "dtypes: float64(9), int64(1), object(10)\n",
      "memory usage: 13.3+ MB\n"
     ]
    }
   ],
   "source": [
    "test_df.info()"
   ]
  },
  {
   "cell_type": "markdown",
   "metadata": {},
   "source": [
    "**В обучающей выборке – 2297 сессий одного пользователя (Alice) и 251264 сессий – других пользователей, не Элис. Дисбаланс классов очень сильный, и смотреть на долю верных ответов (accuracy) непоказательно.**"
   ]
  },
  {
   "cell_type": "code",
   "execution_count": 9,
   "metadata": {},
   "outputs": [
    {
     "data": {
      "text/plain": [
       "0    251264\n",
       "1      2297\n",
       "Name: target, dtype: int64"
      ]
     },
     "execution_count": 9,
     "metadata": {},
     "output_type": "execute_result"
    }
   ],
   "source": [
    "train_df['target'].value_counts()"
   ]
  },
  {
   "cell_type": "markdown",
   "metadata": {},
   "source": [
    "**Пока для прогноза будем использовать только индексы посещенных сайтов. Индексы нумеровались с 1, так что заменим пропуски на нули.**"
   ]
  },
  {
   "cell_type": "code",
   "execution_count": 10,
   "metadata": {},
   "outputs": [],
   "source": [
    "train_test_df_sites = train_test_df[['site%d' % i for i in range(1, 11)]].fillna(0).astype('int')"
   ]
  },
  {
   "cell_type": "code",
   "execution_count": 11,
   "metadata": {},
   "outputs": [
    {
     "data": {
      "text/html": [
       "<div>\n",
       "<style scoped>\n",
       "    .dataframe tbody tr th:only-of-type {\n",
       "        vertical-align: middle;\n",
       "    }\n",
       "\n",
       "    .dataframe tbody tr th {\n",
       "        vertical-align: top;\n",
       "    }\n",
       "\n",
       "    .dataframe thead th {\n",
       "        text-align: right;\n",
       "    }\n",
       "</style>\n",
       "<table border=\"1\" class=\"dataframe\">\n",
       "  <thead>\n",
       "    <tr style=\"text-align: right;\">\n",
       "      <th></th>\n",
       "      <th>site1</th>\n",
       "      <th>site2</th>\n",
       "      <th>site3</th>\n",
       "      <th>site4</th>\n",
       "      <th>site5</th>\n",
       "      <th>site6</th>\n",
       "      <th>site7</th>\n",
       "      <th>site8</th>\n",
       "      <th>site9</th>\n",
       "      <th>site10</th>\n",
       "    </tr>\n",
       "    <tr>\n",
       "      <th>session_id</th>\n",
       "      <th></th>\n",
       "      <th></th>\n",
       "      <th></th>\n",
       "      <th></th>\n",
       "      <th></th>\n",
       "      <th></th>\n",
       "      <th></th>\n",
       "      <th></th>\n",
       "      <th></th>\n",
       "      <th></th>\n",
       "    </tr>\n",
       "  </thead>\n",
       "  <tbody>\n",
       "    <tr>\n",
       "      <th>1</th>\n",
       "      <td>718</td>\n",
       "      <td>0</td>\n",
       "      <td>0</td>\n",
       "      <td>0</td>\n",
       "      <td>0</td>\n",
       "      <td>0</td>\n",
       "      <td>0</td>\n",
       "      <td>0</td>\n",
       "      <td>0</td>\n",
       "      <td>0</td>\n",
       "    </tr>\n",
       "    <tr>\n",
       "      <th>2</th>\n",
       "      <td>890</td>\n",
       "      <td>941</td>\n",
       "      <td>3847</td>\n",
       "      <td>941</td>\n",
       "      <td>942</td>\n",
       "      <td>3846</td>\n",
       "      <td>3847</td>\n",
       "      <td>3846</td>\n",
       "      <td>1516</td>\n",
       "      <td>1518</td>\n",
       "    </tr>\n",
       "    <tr>\n",
       "      <th>3</th>\n",
       "      <td>14769</td>\n",
       "      <td>39</td>\n",
       "      <td>14768</td>\n",
       "      <td>14769</td>\n",
       "      <td>37</td>\n",
       "      <td>39</td>\n",
       "      <td>14768</td>\n",
       "      <td>14768</td>\n",
       "      <td>14768</td>\n",
       "      <td>14768</td>\n",
       "    </tr>\n",
       "    <tr>\n",
       "      <th>4</th>\n",
       "      <td>782</td>\n",
       "      <td>782</td>\n",
       "      <td>782</td>\n",
       "      <td>782</td>\n",
       "      <td>782</td>\n",
       "      <td>782</td>\n",
       "      <td>782</td>\n",
       "      <td>782</td>\n",
       "      <td>782</td>\n",
       "      <td>782</td>\n",
       "    </tr>\n",
       "    <tr>\n",
       "      <th>5</th>\n",
       "      <td>22</td>\n",
       "      <td>177</td>\n",
       "      <td>175</td>\n",
       "      <td>178</td>\n",
       "      <td>177</td>\n",
       "      <td>178</td>\n",
       "      <td>175</td>\n",
       "      <td>177</td>\n",
       "      <td>177</td>\n",
       "      <td>178</td>\n",
       "    </tr>\n",
       "    <tr>\n",
       "      <th>6</th>\n",
       "      <td>570</td>\n",
       "      <td>21</td>\n",
       "      <td>570</td>\n",
       "      <td>21</td>\n",
       "      <td>21</td>\n",
       "      <td>0</td>\n",
       "      <td>0</td>\n",
       "      <td>0</td>\n",
       "      <td>0</td>\n",
       "      <td>0</td>\n",
       "    </tr>\n",
       "    <tr>\n",
       "      <th>7</th>\n",
       "      <td>803</td>\n",
       "      <td>23</td>\n",
       "      <td>5956</td>\n",
       "      <td>17513</td>\n",
       "      <td>37</td>\n",
       "      <td>21</td>\n",
       "      <td>803</td>\n",
       "      <td>17514</td>\n",
       "      <td>17514</td>\n",
       "      <td>17514</td>\n",
       "    </tr>\n",
       "    <tr>\n",
       "      <th>8</th>\n",
       "      <td>22</td>\n",
       "      <td>21</td>\n",
       "      <td>29</td>\n",
       "      <td>5041</td>\n",
       "      <td>14422</td>\n",
       "      <td>23</td>\n",
       "      <td>21</td>\n",
       "      <td>5041</td>\n",
       "      <td>14421</td>\n",
       "      <td>14421</td>\n",
       "    </tr>\n",
       "    <tr>\n",
       "      <th>9</th>\n",
       "      <td>668</td>\n",
       "      <td>940</td>\n",
       "      <td>942</td>\n",
       "      <td>941</td>\n",
       "      <td>941</td>\n",
       "      <td>942</td>\n",
       "      <td>940</td>\n",
       "      <td>23</td>\n",
       "      <td>21</td>\n",
       "      <td>22</td>\n",
       "    </tr>\n",
       "    <tr>\n",
       "      <th>10</th>\n",
       "      <td>3700</td>\n",
       "      <td>229</td>\n",
       "      <td>570</td>\n",
       "      <td>21</td>\n",
       "      <td>229</td>\n",
       "      <td>21</td>\n",
       "      <td>21</td>\n",
       "      <td>21</td>\n",
       "      <td>2336</td>\n",
       "      <td>2044</td>\n",
       "    </tr>\n",
       "  </tbody>\n",
       "</table>\n",
       "</div>"
      ],
      "text/plain": [
       "            site1  site2  site3  site4  site5  site6  site7  site8  site9  \\\n",
       "session_id                                                                  \n",
       "1             718      0      0      0      0      0      0      0      0   \n",
       "2             890    941   3847    941    942   3846   3847   3846   1516   \n",
       "3           14769     39  14768  14769     37     39  14768  14768  14768   \n",
       "4             782    782    782    782    782    782    782    782    782   \n",
       "5              22    177    175    178    177    178    175    177    177   \n",
       "6             570     21    570     21     21      0      0      0      0   \n",
       "7             803     23   5956  17513     37     21    803  17514  17514   \n",
       "8              22     21     29   5041  14422     23     21   5041  14421   \n",
       "9             668    940    942    941    941    942    940     23     21   \n",
       "10           3700    229    570     21    229     21     21     21   2336   \n",
       "\n",
       "            site10  \n",
       "session_id          \n",
       "1                0  \n",
       "2             1518  \n",
       "3            14768  \n",
       "4              782  \n",
       "5              178  \n",
       "6                0  \n",
       "7            17514  \n",
       "8            14421  \n",
       "9               22  \n",
       "10            2044  "
      ]
     },
     "execution_count": 11,
     "metadata": {},
     "output_type": "execute_result"
    }
   ],
   "source": [
    "train_test_df_sites.head(10)"
   ]
  },
  {
   "cell_type": "markdown",
   "metadata": {},
   "source": [
    "**Создайте разреженные матрицы *X_train_sparse* и *X_test_sparse* аналогично тому, как мы это делали ранее. Используйте объединенную матрицу *train_test_df_sites*, потом разделите обратно на обучающую и тестовую части.**\n",
    "\n",
    "Обратите внимание на то, что в  сессиях меньше 10 сайтов  у нас остались нули, так что первый признак (сколько раз попался 0) по смыслу отличен от остальных (сколько раз попался сайт с индексом $i$). Поэтому первый столбец разреженной матрицы надо будет удалить.\n",
    "\n",
    "**Выделите в отдельный вектор *y* ответы на обучающей выборке.**"
   ]
  },
  {
   "cell_type": "code",
   "execution_count": 12,
   "metadata": {},
   "outputs": [],
   "source": [
    "from collections import Counter\n",
    "\n",
    "def make_csr(X):\n",
    "    row,col,val = [],[],[]\n",
    "    for i, r in enumerate(np.array(X)):\n",
    "        for id,freq in Counter(r).items():\n",
    "            row.append(i)\n",
    "            col.append(id)\n",
    "            val.append(freq)\n",
    "    return csr_matrix((val, (row, col)))[:,1:]\n",
    "\n",
    "train_test_sparse = make_csr(train_test_df_sites)\n",
    "X_train_sparse = train_test_sparse[:train_df.shape[0]]\n",
    "X_test_sparse = train_test_sparse[train_df.shape[0]:]\n",
    "y = train_df[\"target\"].to_numpy()"
   ]
  },
  {
   "cell_type": "markdown",
   "metadata": {},
   "source": [
    "**<font color='red'>Вопрос 1. </font> Выведите размерности матриц *X_train_sparse* и *X_test_sparse* – 4 числа на одной строке через пробел: число строк и столбцов матрицы *X_train_sparse*, затем число строк и столбцов матрицы *X_test_sparse*.**"
   ]
  },
  {
   "cell_type": "code",
   "execution_count": 13,
   "metadata": {},
   "outputs": [
    {
     "name": "stdout",
     "output_type": "stream",
     "text": [
      "253561 48371 82797 48371\n"
     ]
    }
   ],
   "source": [
    "print(*X_train_sparse.shape, *X_test_sparse.shape)"
   ]
  },
  {
   "cell_type": "markdown",
   "metadata": {},
   "source": [
    "**Сохраним в pickle-файлы объекты *X_train_sparse*, *X_test_sparse* и *y* (последний – в файл *kaggle_data/train_target.pkl*).**"
   ]
  },
  {
   "cell_type": "code",
   "execution_count": 14,
   "metadata": {},
   "outputs": [],
   "source": [
    "with open(os.path.join(PATH_TO_DATA, 'X_train_sparse.pkl'), 'wb') as X_train_sparse_pkl:\n",
    "    pickle.dump(X_train_sparse, X_train_sparse_pkl, protocol=2)\n",
    "with open(os.path.join(PATH_TO_DATA, 'X_test_sparse.pkl'), 'wb') as X_test_sparse_pkl:\n",
    "    pickle.dump(X_test_sparse, X_test_sparse_pkl, protocol=2)\n",
    "with open(os.path.join(PATH_TO_DATA, 'train_target.pkl'), 'wb') as train_target_pkl:\n",
    "    pickle.dump(y, train_target_pkl, protocol=2)"
   ]
  },
  {
   "cell_type": "markdown",
   "metadata": {},
   "source": [
    "**Разобьем обучающую выборку на 2 части в пропорции 7/3, причем не перемешивая. Исходные данные упорядочены по времени, тестовая выборка по времени четко отделена от обучающей, это же соблюдем и здесь.**"
   ]
  },
  {
   "cell_type": "code",
   "execution_count": 15,
   "metadata": {},
   "outputs": [],
   "source": [
    "train_share = int(.7 * X_train_sparse.shape[0])\n",
    "X_train, y_train = X_train_sparse[:train_share, :], y[:train_share]\n",
    "X_valid, y_valid  = X_train_sparse[train_share:, :], y[train_share:]"
   ]
  },
  {
   "cell_type": "markdown",
   "metadata": {
    "collapsed": true
   },
   "source": [
    "**Создайте объект `sklearn.linear_model.SGDClassifier` с логистической функцией потерь и параметром *random_state*=17. Остальные параметры оставьте по умолчанию, разве что *n_jobs*=-1 никогда не помешает. Обучите  модель на выборке `(X_train, y_train)`.**"
   ]
  },
  {
   "cell_type": "code",
   "execution_count": 16,
   "metadata": {},
   "outputs": [
    {
     "data": {
      "text/plain": [
       "SGDClassifier(loss='log', n_jobs=-1, random_state=17)"
      ]
     },
     "execution_count": 16,
     "metadata": {},
     "output_type": "execute_result"
    }
   ],
   "source": [
    "sgd_logit = SGDClassifier(loss=\"log\", random_state=17, n_jobs=-1)\n",
    "sgd_logit.fit(X_train, y_train)"
   ]
  },
  {
   "cell_type": "markdown",
   "metadata": {},
   "source": [
    "**Сделайте прогноз в виде предсказанных вероятностей того, что это сессия Элис, на отложенной выборке *(X_valid, y_valid)*.**"
   ]
  },
  {
   "cell_type": "code",
   "execution_count": 17,
   "metadata": {},
   "outputs": [],
   "source": [
    "logit_valid_pred_proba = sgd_logit.predict_proba(X_valid)[:,1]"
   ]
  },
  {
   "cell_type": "markdown",
   "metadata": {},
   "source": [
    "**<font color='red'>Вопрос 2. </font> Посчитайте ROC AUC логистической регрессии, обученной с помощью стохастического градиентного спуска, на отложенной выборке. Округлите до 3 знаков после разделителя.**"
   ]
  },
  {
   "cell_type": "code",
   "execution_count": 18,
   "metadata": {},
   "outputs": [
    {
     "data": {
      "text/plain": [
       "0.934"
      ]
     },
     "execution_count": 18,
     "metadata": {},
     "output_type": "execute_result"
    }
   ],
   "source": [
    "round(roc_auc_score(y_valid, logit_valid_pred_proba),3)"
   ]
  },
  {
   "cell_type": "markdown",
   "metadata": {},
   "source": [
    "**Сделайте прогноз в виде предсказанных вероятностей отнесения к классу 1 для тестовой выборки с помощью той же *sgd_logit*, обученной уже на всей обучающей выборке (а не на 70%).**"
   ]
  },
  {
   "cell_type": "code",
   "execution_count": 19,
   "metadata": {},
   "outputs": [
    {
     "name": "stdout",
     "output_type": "stream",
     "text": [
      "CPU times: user 841 ms, sys: 410 ms, total: 1.25 s\n",
      "Wall time: 473 ms\n"
     ]
    }
   ],
   "source": [
    "%%time\n",
    "sgd_logit.fit(X_train_sparse,y)\n",
    "logit_test_pred_proba = sgd_logit.predict_proba(X_test_sparse)[:,1]"
   ]
  },
  {
   "cell_type": "markdown",
   "metadata": {},
   "source": [
    "**Запишите ответы в файл и сделайте посылку на Kaggle. Дайте своей команде (из одного человека) на Kaggle говорящее название – по шаблону \"[YDF & MIPT] Coursera_Username\", чтоб можно было легко идентифицировать Вашу посылку на [лидерборде](https://inclass.kaggle.com/c/catch-me-if-you-can-intruder-detection-through-webpage-session-tracking2/leaderboard/public).**\n",
    "\n",
    "**Результат, который мы только что получили, соответствует бейзлайну \"SGDCLassifer\" на лидерборде, задача на эту неделю – как минимум его побить.**"
   ]
  },
  {
   "cell_type": "code",
   "execution_count": 20,
   "metadata": {},
   "outputs": [],
   "source": [
    "def write_to_submission_file(predicted_labels, out_file,\n",
    "                             target='target', index_label=\"session_id\"):\n",
    "    # turn predictions into data frame and save as csv file\n",
    "    predicted_df = pd.DataFrame(predicted_labels,\n",
    "                                index = np.arange(1, predicted_labels.shape[0] + 1),\n",
    "                                columns=[target])\n",
    "    predicted_df.to_csv(out_file, index_label=index_label)"
   ]
  },
  {
   "cell_type": "code",
   "execution_count": 21,
   "metadata": {},
   "outputs": [],
   "source": [
    "write_to_submission_file(logit_test_pred_proba, os.path.join(PATH_TO_DATA, \"submission.csv\"))"
   ]
  },
  {
   "cell_type": "markdown",
   "metadata": {},
   "source": [
    "# Решение"
   ]
  },
  {
   "cell_type": "code",
   "execution_count": 22,
   "metadata": {},
   "outputs": [],
   "source": [
    "import re, time, datetime\n",
    "\n",
    "from sklearn.model_selection import cross_val_score, TimeSeriesSplit, GridSearchCV\n",
    "from sklearn.feature_extraction.text import CountVectorizer, TfidfTransformer, TfidfVectorizer\n",
    "from sklearn.linear_model import LogisticRegression\n",
    "from sklearn.preprocessing import StandardScaler\n",
    "\n",
    "import scipy.sparse as sparse\n",
    "\n",
    "import tqdm.auto as tqdm\n",
    "\n",
    "import matplotlib.pylab as plt\n",
    "import seaborn as sns"
   ]
  },
  {
   "cell_type": "markdown",
   "metadata": {},
   "source": [
    "## 1. Извлечение признаков"
   ]
  },
  {
   "cell_type": "markdown",
   "metadata": {},
   "source": [
    "Возьмём признаки, подобранные на третьей неделе. Процесс извлечения признаков оформим в виде функции, получающей на вход исходный датафрейм, словарь, и возвращающую датафрейм с признаками."
   ]
  },
  {
   "cell_type": "markdown",
   "metadata": {},
   "source": [
    "Считаем словарь сайтов. Дополнительно, т.к. мы попробуем использовать информацию о TLD посещённых сайтов, заранее подготовим словарь TLD, и отображение ID сайтов в ID TLD."
   ]
  },
  {
   "cell_type": "code",
   "execution_count": 23,
   "metadata": {},
   "outputs": [],
   "source": [
    "with open(os.path.join(PATH_TO_DATA, \"site_dic.pkl\"), \"rb\") as file:\n",
    "    site_dict = pickle.load(file)\n",
    "\n",
    "ipv4 = r\"^(?:(?:25[0-5]|2[0-4][0-9]|[01]?[0-9][0-9]?)\\.){3}(?:25[0-5]|2[0-4][0-9]|[01]?[0-9][0-9]?)$\"\n",
    "ipv6 = r\"^\\s*((([0-9A-Fa-f]{1,4}:){7}([0-9A-Fa-f]{1,4}|:))|(([0-9A-Fa-f]{1,4}:){6}(:[0-9A-Fa-f]{1,4}|((25[0-5]|2[0-4]\\d|1\\d\\d|[1-9]?\\d)(\\.(25[0-5]|2[0-4]\\d|1\\d\\d|[1-9]?\\d)){3})|:))|(([0-9A-Fa-f]{1,4}:){5}(((:[0-9A-Fa-f]{1,4}){1,2})|:((25[0-5]|2[0-4]\\d|1\\d\\d|[1-9]?\\d)(\\.(25[0-5]|2[0-4]\\d|1\\d\\d|[1-9]?\\d)){3})|:))|(([0-9A-Fa-f]{1,4}:){4}(((:[0-9A-Fa-f]{1,4}){1,3})|((:[0-9A-Fa-f]{1,4})?:((25[0-5]|2[0-4]\\d|1\\d\\d|[1-9]?\\d)(\\.(25[0-5]|2[0-4]\\d|1\\d\\d|[1-9]?\\d)){3}))|:))|(([0-9A-Fa-f]{1,4}:){3}(((:[0-9A-Fa-f]{1,4}){1,4})|((:[0-9A-Fa-f]{1,4}){0,2}:((25[0-5]|2[0-4]\\d|1\\d\\d|[1-9]?\\d)(\\.(25[0-5]|2[0-4]\\d|1\\d\\d|[1-9]?\\d)){3}))|:))|(([0-9A-Fa-f]{1,4}:){2}(((:[0-9A-Fa-f]{1,4}){1,5})|((:[0-9A-Fa-f]{1,4}){0,3}:((25[0-5]|2[0-4]\\d|1\\d\\d|[1-9]?\\d)(\\.(25[0-5]|2[0-4]\\d|1\\d\\d|[1-9]?\\d)){3}))|:))|(([0-9A-Fa-f]{1,4}:){1}(((:[0-9A-Fa-f]{1,4}){1,6})|((:[0-9A-Fa-f]{1,4}){0,4}:((25[0-5]|2[0-4]\\d|1\\d\\d|[1-9]?\\d)(\\.(25[0-5]|2[0-4]\\d|1\\d\\d|[1-9]?\\d)){3}))|:))|(:(((:[0-9A-Fa-f]{1,4}){1,7})|((:[0-9A-Fa-f]{1,4}){0,5}:((25[0-5]|2[0-4]\\d|1\\d\\d|[1-9]?\\d)(\\.(25[0-5]|2[0-4]\\d|1\\d\\d|[1-9]?\\d)){3}))|:)))(%.+)?\\s*$\"\n",
    "ipre = f\"({ipv4})|({ipv6})\"\n",
    "\n",
    "url_to_tld_map = {\n",
    "    id: \"_ip\" if re.match(ipre, url) else url.split(\".\")[-1]\n",
    "    for url, id in site_dict.items()\n",
    "}\n",
    "tld_dict = {\n",
    "    tld: id for id, tld in enumerate(np.unique(list(url_to_tld_map.values())), 1)\n",
    "}\n",
    "url_to_tld_map = {id: tld_dict[tld] for id, tld in url_to_tld_map.items()}\n",
    "url_to_tld_map[0] = 0"
   ]
  },
  {
   "cell_type": "markdown",
   "metadata": {},
   "source": [
    "Основная функция извлечения признаков. Т.к. функция получилась длинной (наверно её надо бы оформить в виде отдельного модуля или класса с разбивкой на маленькие функции для извлечения отдельных групп признаков), в теле функции добавлены поясняющие комментарии."
   ]
  },
  {
   "cell_type": "code",
   "execution_count": 24,
   "metadata": {},
   "outputs": [],
   "source": [
    "def fe(df_in, site_dict, tld_dict, url_to_tld_map, target=False):\n",
    "\n",
    "    \"\"\"\n",
    "    признаки:\n",
    "        site### - ID сайтов в сессии\n",
    "        tld### - ID TLD сайтов\n",
    "\n",
    "        tdiff### - интервал между соседними запросами \n",
    "                    (между первым и вторым, 3 и 2 и т.п)\n",
    "\n",
    "        tdiff_mean, tdiff_std, tdiff_median, tdiff_mad -\n",
    "                    соответствующие статистики для tdiff###\n",
    "                    \n",
    "        session_duration - продолжительность сессии в секундах\n",
    "\n",
    "        n_unique_sites - число уникальных сайтов в сессии\n",
    "        n_unique_tlds - число уникальных TLD в сессии\n",
    "        n_ips - число запросов ip-адресов в сессии\n",
    "\n",
    "        start_year - год начала сессии\n",
    "        start_month - месяц начала сессии\n",
    "        start_day - день начала сессии\n",
    "        start_hour - час начала сессии\n",
    "        start_minute - минуты начала сессии\n",
    "        start_day_of_week - день недели начала сессии\n",
    "        start_weekend - 1 если сессия началась в выходные\n",
    "        start_year_month - комбинация года и месяца\n",
    "        start_week_hour - комбинация недели и часа (час с начала недели)\n",
    "        start_hour_minute - комбинация часов и минут (минуты с начала дня)\n",
    "        start_epoch - время начала сессии в POSIX-формате\n",
    "        start_morning, start_noon, start_evening - флаги времени суток начала сессии\n",
    "\n",
    "        automatic - флаг сессии из серии запросов с равными интервалами одного сайта\n",
    "        final - флаг финальной сессии (есть \"нули\")\n",
    "    \"\"\"\n",
    "\n",
    "    # извлекаем ID сайтов в сессии\n",
    "    scols = [c for c in df_in.columns if re.match(r\"^site\\d+$\", c)]\n",
    "    df_out = df_in[scols].fillna(0).astype(int)\n",
    "\n",
    "    # извлекаем ID TLD сайтов в сессии\n",
    "    tldcols = [f\"tld{i}\" for i in range(1,len(scols)+1)]\n",
    "    df_out[tldcols] = df_out[scols].applymap(lambda x: url_to_tld_map[x])\n",
    "\n",
    "    # Временные интервалы между запросами сайтов в сессии\n",
    "    tcols = [c for c in df_in.columns if re.match(r\"^time\\d+$\", c)]\n",
    "    timestamps = df_in[tcols].apply(lambda x: pd.to_datetime(x, dayfirst=True))\n",
    "    temp = timestamps.to_numpy()[:, 1:] - timestamps.to_numpy()[:, :-1]\n",
    "    tdcols = [f\"tdiff{i}\" for i in range(1, len(tcols))]\n",
    "    temp = pd.DataFrame(temp, columns=tdcols, index=timestamps.index)\n",
    "    temp = temp.astype(np.timedelta64(1, \"s\"))\n",
    "    df_out[tdcols] = temp.fillna(0).astype(int)\n",
    "\n",
    "    # статистики интервалов между запросами сайтов в сессии\n",
    "    temp = df_out[tdcols]\n",
    "    df_out[f\"tdiff_mean\"] = temp.mean(axis=1)\n",
    "    df_out[f\"tdiff_median\"] = temp.median(axis=1)\n",
    "    df_out[f\"tdiff_std\"] = temp.std(axis=1)\n",
    "    df_out[f\"tdiff_mad\"] = temp.apply(\n",
    "        lambda x: abs(x - df_out[f\"tdiff_median\"])\n",
    "    ).median(axis=1)\n",
    "\n",
    "    # статистики интервалов между запросами сайтов в сессии\n",
    "    temp = df_out[tdcols][df_out[tdcols] <= 705]\n",
    "    df_out[f\"tdiff_short_mean\"] = temp.mean(axis=1)\n",
    "    df_out[f\"tdiff_short_median\"] = temp.median(axis=1)\n",
    "    df_out[f\"tdiff_short_std\"] = temp.std(axis=1)\n",
    "    df_out[f\"tdiff_short_mad\"] = temp.apply(\n",
    "        lambda x: abs(x - df_out[f\"tdiff_short_median\"])\n",
    "    ).median(axis=1)\n",
    "\n",
    "    # число уникальных сайтов, TLD в сессии\n",
    "    df_out[\"n_unique_sites\"] = df_in[scols].apply(\n",
    "        lambda row: len(set([x for x in row if not np.isnan(x)])), axis=1\n",
    "    )\n",
    "    df_out[\"n_unique_tlds\"] = df_out[tldcols].sum(axis=1)\n",
    "\n",
    "    # число обращений по IP в сессии\n",
    "    ipv4 = r\"^(?:(?:25[0-5]|2[0-4][0-9]|[01]?[0-9][0-9]?)\\.){3}(?:25[0-5]|2[0-4][0-9]|[01]?[0-9][0-9]?)$\"\n",
    "    ipv6 = r\"^\\s*((([0-9A-Fa-f]{1,4}:){7}([0-9A-Fa-f]{1,4}|:))|(([0-9A-Fa-f]{1,4}:){6}(:[0-9A-Fa-f]{1,4}|((25[0-5]|2[0-4]\\d|1\\d\\d|[1-9]?\\d)(\\.(25[0-5]|2[0-4]\\d|1\\d\\d|[1-9]?\\d)){3})|:))|(([0-9A-Fa-f]{1,4}:){5}(((:[0-9A-Fa-f]{1,4}){1,2})|:((25[0-5]|2[0-4]\\d|1\\d\\d|[1-9]?\\d)(\\.(25[0-5]|2[0-4]\\d|1\\d\\d|[1-9]?\\d)){3})|:))|(([0-9A-Fa-f]{1,4}:){4}(((:[0-9A-Fa-f]{1,4}){1,3})|((:[0-9A-Fa-f]{1,4})?:((25[0-5]|2[0-4]\\d|1\\d\\d|[1-9]?\\d)(\\.(25[0-5]|2[0-4]\\d|1\\d\\d|[1-9]?\\d)){3}))|:))|(([0-9A-Fa-f]{1,4}:){3}(((:[0-9A-Fa-f]{1,4}){1,4})|((:[0-9A-Fa-f]{1,4}){0,2}:((25[0-5]|2[0-4]\\d|1\\d\\d|[1-9]?\\d)(\\.(25[0-5]|2[0-4]\\d|1\\d\\d|[1-9]?\\d)){3}))|:))|(([0-9A-Fa-f]{1,4}:){2}(((:[0-9A-Fa-f]{1,4}){1,5})|((:[0-9A-Fa-f]{1,4}){0,3}:((25[0-5]|2[0-4]\\d|1\\d\\d|[1-9]?\\d)(\\.(25[0-5]|2[0-4]\\d|1\\d\\d|[1-9]?\\d)){3}))|:))|(([0-9A-Fa-f]{1,4}:){1}(((:[0-9A-Fa-f]{1,4}){1,6})|((:[0-9A-Fa-f]{1,4}){0,4}:((25[0-5]|2[0-4]\\d|1\\d\\d|[1-9]?\\d)(\\.(25[0-5]|2[0-4]\\d|1\\d\\d|[1-9]?\\d)){3}))|:))|(:(((:[0-9A-Fa-f]{1,4}){1,7})|((:[0-9A-Fa-f]{1,4}){0,5}:((25[0-5]|2[0-4]\\d|1\\d\\d|[1-9]?\\d)(\\.(25[0-5]|2[0-4]\\d|1\\d\\d|[1-9]?\\d)){3}))|:)))(%.+)?\\s*$\"\n",
    "    ipre = f\"({ipv4})|({ipv6})\"\n",
    "    ip_ids = [id for url, id in site_dict.items() if re.match(ipre, url)]\n",
    "    df_out[\"n_ips\"] = df_in[scols].isin(ip_ids).sum(axis=1)\n",
    "\n",
    "    # признаки извлекаемые из даты и времени начала сессии\n",
    "    df_out[\"start_date\"] = timestamps[\"time1\"]\n",
    "    df_out[\"start_year\"] = timestamps[\"time1\"].dt.year\n",
    "    df_out[\"start_month\"] = timestamps[\"time1\"].dt.month\n",
    "    df_out[\"start_day\"] = timestamps[\"time1\"].dt.day\n",
    "    df_out[\"start_hour\"] = timestamps[\"time1\"].dt.hour\n",
    "    df_out[\"start_minute\"] = timestamps[\"time1\"].dt.minute\n",
    "\n",
    "    df_out[\"start_day_of_week\"] = timestamps[\"time1\"].apply(lambda x: x.weekday())\n",
    "    df_out[\"start_weekend\"] = (df_out[\"start_day_of_week\"] >= 5).astype(\"int\")\n",
    "\n",
    "    df_out[\"start_year_month\"] = df_out[\"start_year\"] * 100 + df_out[\"start_month\"]\n",
    "    df_out[\"start_week_hour\"] = df_out[\"start_day_of_week\"] * 24 + df_out[\"start_hour\"]\n",
    "    df_out[\"start_hour_minute\"] = df_out[\"start_hour\"] * 60 + df_out[\"start_minute\"]\n",
    "    df_out[\"start_epoch\"] = timestamps[\"time1\"].astype(\"int64\") // 1e9\n",
    "\n",
    "    # флаги времени суток начала сессии\n",
    "    df_out[f\"start_morning\"] = (\n",
    "        (df_out[\"start_hour\"] >= 6) & (df_out[\"start_hour\"] <= 11)\n",
    "    ).astype(\"int\")\n",
    "    df_out[f\"start_noon\"] = (\n",
    "        (df_out[\"start_hour\"] >= 12) & (df_out[\"start_hour\"] <= 17)\n",
    "    ).astype(\"int\")\n",
    "    df_out[f\"start_evening\"] = (\n",
    "        (df_out[\"start_hour\"] >= 18) & (df_out[\"start_hour\"] <= 23)\n",
    "    ).astype(\"int\")\n",
    "\n",
    "    # продолжительность сессии\n",
    "    df_out[\"session_duration\"] = (\n",
    "        (timestamps.max(axis=1) - timestamps.min(axis=1))\n",
    "        .apply(lambda x: x.total_seconds())\n",
    "        .astype(int)\n",
    "    )\n",
    "\n",
    "    # флаг сессии из серии запросов с равными интервалами одного сайта\n",
    "    df_out[\"automatic\"] = (\n",
    "        (df_out[\"tdiff_std\"] == 0)\n",
    "        & (df_out[\"n_unique_sites\"] == 1)\n",
    "        & ((df_out[tdcols] > 0).all(axis=1))\n",
    "    ).astype(int)\n",
    "    \n",
    "    # флаг финальной сессии (есть \"нули\")\n",
    "    df_out[\"final\"] = (df_out[scols] == 0).any(axis=1).astype('int')\n",
    "\n",
    "    if target:\n",
    "        df_out[\"target\"] = df_in[\"target\"]\n",
    "    return df_out\n"
   ]
  },
  {
   "cell_type": "markdown",
   "metadata": {},
   "source": [
    "Теперь сгенерируем признаки. Объекты в выборке (сессии) зависимы друг от друга в хронологическом порядке. Что бы учесть эту особенность данных, обучать модель будем на также упорядоченной хронологически выборке."
   ]
  },
  {
   "cell_type": "code",
   "execution_count": 25,
   "metadata": {},
   "outputs": [],
   "source": [
    "time_cols = [c for c in train_df.columns if re.match(r\"^time\\d+$\", c)]\n",
    "\n",
    "temp = train_df.copy()\n",
    "temp[time_cols] = temp[time_cols].astype(\"datetime64\")\n",
    "temp = temp.sort_values(\"time1\")\n",
    "\n",
    "fe_train = fe(temp, site_dict, tld_dict, url_to_tld_map )\n",
    "y = temp[\"target\"].astype(int).values"
   ]
  },
  {
   "cell_type": "code",
   "execution_count": 26,
   "metadata": {},
   "outputs": [
    {
     "name": "stdout",
     "output_type": "stream",
     "text": [
      "<class 'pandas.core.frame.DataFrame'>\n",
      "Int64Index: 253561 entries, 21669 to 204762\n",
      "Data columns (total 58 columns):\n",
      " #   Column              Non-Null Count   Dtype         \n",
      "---  ------              --------------   -----         \n",
      " 0   site1               253561 non-null  int64         \n",
      " 1   site2               253561 non-null  int64         \n",
      " 2   site3               253561 non-null  int64         \n",
      " 3   site4               253561 non-null  int64         \n",
      " 4   site5               253561 non-null  int64         \n",
      " 5   site6               253561 non-null  int64         \n",
      " 6   site7               253561 non-null  int64         \n",
      " 7   site8               253561 non-null  int64         \n",
      " 8   site9               253561 non-null  int64         \n",
      " 9   site10              253561 non-null  int64         \n",
      " 10  tld1                253561 non-null  int64         \n",
      " 11  tld2                253561 non-null  int64         \n",
      " 12  tld3                253561 non-null  int64         \n",
      " 13  tld4                253561 non-null  int64         \n",
      " 14  tld5                253561 non-null  int64         \n",
      " 15  tld6                253561 non-null  int64         \n",
      " 16  tld7                253561 non-null  int64         \n",
      " 17  tld8                253561 non-null  int64         \n",
      " 18  tld9                253561 non-null  int64         \n",
      " 19  tld10               253561 non-null  int64         \n",
      " 20  tdiff1              253561 non-null  int64         \n",
      " 21  tdiff2              253561 non-null  int64         \n",
      " 22  tdiff3              253561 non-null  int64         \n",
      " 23  tdiff4              253561 non-null  int64         \n",
      " 24  tdiff5              253561 non-null  int64         \n",
      " 25  tdiff6              253561 non-null  int64         \n",
      " 26  tdiff7              253561 non-null  int64         \n",
      " 27  tdiff8              253561 non-null  int64         \n",
      " 28  tdiff9              253561 non-null  int64         \n",
      " 29  tdiff_mean          253561 non-null  float64       \n",
      " 30  tdiff_median        253561 non-null  float64       \n",
      " 31  tdiff_std           253561 non-null  float64       \n",
      " 32  tdiff_mad           253561 non-null  float64       \n",
      " 33  tdiff_short_mean    253561 non-null  float64       \n",
      " 34  tdiff_short_median  253561 non-null  float64       \n",
      " 35  tdiff_short_std     253561 non-null  float64       \n",
      " 36  tdiff_short_mad     253561 non-null  float64       \n",
      " 37  n_unique_sites      253561 non-null  int64         \n",
      " 38  n_unique_tlds       253561 non-null  int64         \n",
      " 39  n_ips               253561 non-null  int64         \n",
      " 40  start_date          253561 non-null  datetime64[ns]\n",
      " 41  start_year          253561 non-null  int64         \n",
      " 42  start_month         253561 non-null  int64         \n",
      " 43  start_day           253561 non-null  int64         \n",
      " 44  start_hour          253561 non-null  int64         \n",
      " 45  start_minute        253561 non-null  int64         \n",
      " 46  start_day_of_week   253561 non-null  int64         \n",
      " 47  start_weekend       253561 non-null  int64         \n",
      " 48  start_year_month    253561 non-null  int64         \n",
      " 49  start_week_hour     253561 non-null  int64         \n",
      " 50  start_hour_minute   253561 non-null  int64         \n",
      " 51  start_epoch         253561 non-null  float64       \n",
      " 52  start_morning       253561 non-null  int64         \n",
      " 53  start_noon          253561 non-null  int64         \n",
      " 54  start_evening       253561 non-null  int64         \n",
      " 55  session_duration    253561 non-null  int64         \n",
      " 56  automatic           253561 non-null  int64         \n",
      " 57  final               253561 non-null  int64         \n",
      "dtypes: datetime64[ns](1), float64(9), int64(48)\n",
      "memory usage: 114.1 MB\n"
     ]
    }
   ],
   "source": [
    "fe_train.info()"
   ]
  },
  {
   "cell_type": "markdown",
   "metadata": {},
   "source": [
    "Тестовую выборку упорядочивать не будем, т.к. в этом случае грейдер не сможет сопоставить ответы."
   ]
  },
  {
   "cell_type": "code",
   "execution_count": 27,
   "metadata": {},
   "outputs": [],
   "source": [
    "fe_test = fe(test_df, site_dict, tld_dict, url_to_tld_map )"
   ]
  },
  {
   "cell_type": "markdown",
   "metadata": {},
   "source": [
    "Дополнительно, сгенерируем признаки независимо для двух частей тренировочной выборки и проверим, что они совпадут с признаками по всей выборке. Это будет свидетельствовать что нет утечки статистики при генерации признаков (т.е. каждый признак сгенерирован только на основе других признаков того же объекта и не использует информацию других объектов в выборке). Обучающую выборку для определённости разобьём аналогично выбранному ранее разбиению (на 2 части в пропорции 7/3, не перемешивая)."
   ]
  },
  {
   "cell_type": "code",
   "execution_count": 28,
   "metadata": {},
   "outputs": [],
   "source": [
    "fe_check_train = fe(temp.iloc[:train_share], site_dict, tld_dict, url_to_tld_map )\n",
    "fe_check_valid = fe(temp.iloc[train_share:], site_dict, tld_dict, url_to_tld_map )\n",
    "assert (pd.concat((fe_check_train,fe_check_valid)) == fe_train).all().all(), \"Вероятно утечка статистики\""
   ]
  },
  {
   "cell_type": "markdown",
   "metadata": {},
   "source": [
    "Наконец соберём некоторые наборы признаков:"
   ]
  },
  {
   "cell_type": "code",
   "execution_count": 29,
   "metadata": {},
   "outputs": [],
   "source": [
    "site_cols = [c for c in fe_train.columns if re.match(r\"^site\\d+$\", c)]\n",
    "tld_cols = [c for c in fe_train.columns if re.match(r\"^tld\\d+$\", c)]\n",
    "tdiff_cols = [c for c in fe_train.columns if re.match(r\"^tdiff\\d+$\", c)]\n",
    "start_cols = [c for c in fe_train.columns if re.match(r\"^start_.*$\", c)]"
   ]
  },
  {
   "cell_type": "markdown",
   "metadata": {},
   "source": [
    "## 2. Подбор алгоритма для обучения"
   ]
  },
  {
   "cell_type": "markdown",
   "metadata": {},
   "source": [
    "Выберем несколько базовых алгоритмов и оценим их производительность при помощи кроссвалидации. Т.к. данные упорядочены хронологически, будем использовать генератор разбиений TimeSeriesSplit с числом фолдов 10."
   ]
  },
  {
   "cell_type": "code",
   "execution_count": 30,
   "metadata": {},
   "outputs": [],
   "source": [
    "ts = TimeSeriesSplit(10)"
   ]
  },
  {
   "cell_type": "markdown",
   "metadata": {},
   "source": [
    "Дополнительно обучим классификатор как на \"мешке слов\" из сайтов, так и на Tf-idf сайтов."
   ]
  },
  {
   "cell_type": "code",
   "execution_count": 31,
   "metadata": {},
   "outputs": [],
   "source": [
    "sites_train_str = fe_train[site_cols].apply(lambda x: ' '.join([str(i) for i in x]), axis=1)\n",
    "sites_test_str = fe_test[site_cols].apply(lambda x: ' '.join([str(i) for i in x]), axis=1)\n",
    "\n",
    "X_sites_bow_train = CountVectorizer(ngram_range=(1, 2), max_features=100000).fit_transform(sites_train_str)\n",
    "X_sites_tfidf_train = TfidfTransformer().fit_transform(X_sites_bow_train)"
   ]
  },
  {
   "cell_type": "code",
   "execution_count": 32,
   "metadata": {
    "scrolled": false
   },
   "outputs": [
    {
     "name": "stdout",
     "output_type": "stream",
     "text": [
      "\n",
      "BoW, LogisticRegression(solver='liblinear'):\n",
      "\tВыполнено за: 0:00:17.\n",
      "\tCV: 0.86881 ± 0.082738\n",
      "\tCV scores: [0.82951, 0.65221, 0.87652, 0.95772, 0.84160, 0.88559, 0.93750, 0.86070, 0.93512, 0.91160]\n",
      "\n",
      "BoW, LogisticRegression():\n",
      "\tВыполнено за: 0:00:13.\n",
      "\tCV: 0.87016 ± 0.080206\n",
      "\tCV scores: [0.84068, 0.65908, 0.87599, 0.95670, 0.83939, 0.88365, 0.93527, 0.86360, 0.93494, 0.91232]\n",
      "\n",
      "BoW, SGDClassifier(loss='log', n_jobs=-1):\n",
      "\tВыполнено за: 0:00:01.\n",
      "\tCV: 0.86124 ± 0.091940\n",
      "\tCV scores: [0.76885, 0.63112, 0.87637, 0.96027, 0.85946, 0.90002, 0.93793, 0.85568, 0.92804, 0.89469]\n",
      "\n",
      "Tf-Idf, LogisticRegression(solver='liblinear'):\n",
      "\tВыполнено за: 0:00:03.\n",
      "\tCV: 0.86462 ± 0.078730\n",
      "\tCV scores: [0.80414, 0.66101, 0.86998, 0.93611, 0.84363, 0.88819, 0.92339, 0.87053, 0.92959, 0.91959]\n",
      "\n",
      "Tf-Idf, LogisticRegression():\n",
      "\tВыполнено за: 0:00:10.\n",
      "\tCV: 0.86521 ± 0.078067\n",
      "\tCV scores: [0.81092, 0.66154, 0.86981, 0.93599, 0.84313, 0.88801, 0.92331, 0.87039, 0.92944, 0.91952]\n",
      "\n",
      "Tf-Idf, SGDClassifier(loss='log', n_jobs=-1):\n",
      "\tВыполнено за: 0:00:01.\n",
      "\tCV: 0.83326 ± 0.082261\n",
      "\tCV scores: [0.74660, 0.62887, 0.83915, 0.90054, 0.80359, 0.87439, 0.89657, 0.87402, 0.87126, 0.89758]\n",
      "\n",
      "CPU times: user 408 ms, sys: 291 ms, total: 699 ms\n",
      "Wall time: 47.3 s\n"
     ]
    }
   ],
   "source": [
    "%%time\n",
    "\n",
    "def print_cv_scores(cvs, prefix=\"\"):\n",
    "    print(f\"{prefix}CV: {cvs.mean():.5f} ± {cvs.std():5f}\")\n",
    "    s = \", \".join([f\"{d:.5f}\" for d in cvs])\n",
    "    print(f\"{prefix}CV scores: [{s}]\")\n",
    "\n",
    "\n",
    "ft_sets = { \"BoW\" : X_sites_bow_train, \"Tf-Idf\" : X_sites_tfidf_train }\n",
    "estimators = [ LogisticRegression(solver=\"liblinear\"),\n",
    "               LogisticRegression(solver=\"lbfgs\"),\n",
    "               SGDClassifier(loss=\"log\", n_jobs=-1),]\n",
    "\n",
    "cvs = []\n",
    "for label, X in ft_sets.items():\n",
    "    for est in estimators:\n",
    "        print(f\"\\n{label}, {est}:\")\n",
    "        start = time.time()\n",
    "        cv_scores = cross_val_score(est, X, y, cv=ts, scoring='roc_auc', n_jobs=-1)\n",
    "        cvs.append(cv_scores)\n",
    "        duration = datetime.timedelta(seconds = time.time() - start)\n",
    "        print(f\"\\tВыполнено за: {str(duration).split('.')[0]}.\")\n",
    "        print_cv_scores(cv_scores, \"\\t\")\n",
    "    \n",
    "print()"
   ]
  },
  {
   "cell_type": "markdown",
   "metadata": {},
   "source": [
    "Для дальнейшего поиска оптимальной модели будем использовать векторизацию Tf-Idf с логистической регрессией с оптимизирующим методом liblinear (так как он существенно быстрее, а снижение ROC AUC мало)"
   ]
  },
  {
   "cell_type": "markdown",
   "metadata": {},
   "source": [
    "Так же видно, что первые два фолда по всем прогонам сильно отличаются от остальных. Так как мы генерируем фолды по схеме TimeSeriesSplit с 10 фолдами, первые для фолда содержат следующее количество тренировочных объектов:"
   ]
  },
  {
   "cell_type": "code",
   "execution_count": 33,
   "metadata": {},
   "outputs": [
    {
     "name": "stdout",
     "output_type": "stream",
     "text": [
      "23051 46102\n"
     ]
    }
   ],
   "source": [
    "print(fe_train.shape[0]//11, fe_train.shape[0]//11*2)"
   ]
  },
  {
   "cell_type": "markdown",
   "metadata": {},
   "source": [
    "Предположим, что, т.к. количество признаков в bow/tf-idf велико (~50к и более), первые два фолда содержат недообученные модели.\n",
    "\n",
    "Если мы отбросим эти два первых фолда, то дисперсия оставшихся восьми фолдов сократится и оценка среднего станет более стабильной:"
   ]
  },
  {
   "cell_type": "code",
   "execution_count": 34,
   "metadata": {
    "scrolled": true
   },
   "outputs": [
    {
     "data": {
      "text/html": [
       "<div>\n",
       "<style scoped>\n",
       "    .dataframe tbody tr th:only-of-type {\n",
       "        vertical-align: middle;\n",
       "    }\n",
       "\n",
       "    .dataframe tbody tr th {\n",
       "        vertical-align: top;\n",
       "    }\n",
       "\n",
       "    .dataframe thead th {\n",
       "        text-align: right;\n",
       "    }\n",
       "</style>\n",
       "<table border=\"1\" class=\"dataframe\">\n",
       "  <thead>\n",
       "    <tr style=\"text-align: right;\">\n",
       "      <th></th>\n",
       "      <th>est_0</th>\n",
       "      <th>est_1</th>\n",
       "      <th>est_2</th>\n",
       "      <th>est_3</th>\n",
       "      <th>est_4</th>\n",
       "      <th>est_5</th>\n",
       "    </tr>\n",
       "  </thead>\n",
       "  <tbody>\n",
       "    <tr>\n",
       "      <th>drop_0</th>\n",
       "      <td>0.082738</td>\n",
       "      <td>0.080206</td>\n",
       "      <td>0.091940</td>\n",
       "      <td>0.078730</td>\n",
       "      <td>0.078067</td>\n",
       "      <td>0.082261</td>\n",
       "    </tr>\n",
       "    <tr>\n",
       "      <th>drop_1</th>\n",
       "      <td>0.086114</td>\n",
       "      <td>0.083908</td>\n",
       "      <td>0.091315</td>\n",
       "      <td>0.080222</td>\n",
       "      <td>0.080049</td>\n",
       "      <td>0.081190</td>\n",
       "    </tr>\n",
       "    <tr>\n",
       "      <th>drop_2</th>\n",
       "      <td>0.038430</td>\n",
       "      <td>0.038200</td>\n",
       "      <td>0.035415</td>\n",
       "      <td>0.031922</td>\n",
       "      <td>0.032016</td>\n",
       "      <td>0.031220</td>\n",
       "    </tr>\n",
       "    <tr>\n",
       "      <th>drop_3</th>\n",
       "      <td>0.039896</td>\n",
       "      <td>0.039645</td>\n",
       "      <td>0.036466</td>\n",
       "      <td>0.032246</td>\n",
       "      <td>0.032354</td>\n",
       "      <td>0.031018</td>\n",
       "    </tr>\n",
       "    <tr>\n",
       "      <th>drop_4</th>\n",
       "      <td>0.036073</td>\n",
       "      <td>0.035880</td>\n",
       "      <td>0.030995</td>\n",
       "      <td>0.031324</td>\n",
       "      <td>0.031443</td>\n",
       "      <td>0.031393</td>\n",
       "    </tr>\n",
       "    <tr>\n",
       "      <th>drop_5</th>\n",
       "      <td>0.029464</td>\n",
       "      <td>0.028394</td>\n",
       "      <td>0.028859</td>\n",
       "      <td>0.022887</td>\n",
       "      <td>0.022907</td>\n",
       "      <td>0.011738</td>\n",
       "    </tr>\n",
       "    <tr>\n",
       "      <th>drop_6</th>\n",
       "      <td>0.030881</td>\n",
       "      <td>0.029195</td>\n",
       "      <td>0.032214</td>\n",
       "      <td>0.023510</td>\n",
       "      <td>0.023523</td>\n",
       "      <td>0.012261</td>\n",
       "    </tr>\n",
       "    <tr>\n",
       "      <th>drop_7</th>\n",
       "      <td>0.031060</td>\n",
       "      <td>0.029766</td>\n",
       "      <td>0.029572</td>\n",
       "      <td>0.025810</td>\n",
       "      <td>0.025821</td>\n",
       "      <td>0.011809</td>\n",
       "    </tr>\n",
       "    <tr>\n",
       "      <th>drop_8</th>\n",
       "      <td>0.011761</td>\n",
       "      <td>0.011313</td>\n",
       "      <td>0.016672</td>\n",
       "      <td>0.005001</td>\n",
       "      <td>0.004964</td>\n",
       "      <td>0.013159</td>\n",
       "    </tr>\n",
       "    <tr>\n",
       "      <th>drop_9</th>\n",
       "      <td>0.000000</td>\n",
       "      <td>0.000000</td>\n",
       "      <td>0.000000</td>\n",
       "      <td>0.000000</td>\n",
       "      <td>0.000000</td>\n",
       "      <td>0.000000</td>\n",
       "    </tr>\n",
       "  </tbody>\n",
       "</table>\n",
       "</div>"
      ],
      "text/plain": [
       "           est_0     est_1     est_2     est_3     est_4     est_5\n",
       "drop_0  0.082738  0.080206  0.091940  0.078730  0.078067  0.082261\n",
       "drop_1  0.086114  0.083908  0.091315  0.080222  0.080049  0.081190\n",
       "drop_2  0.038430  0.038200  0.035415  0.031922  0.032016  0.031220\n",
       "drop_3  0.039896  0.039645  0.036466  0.032246  0.032354  0.031018\n",
       "drop_4  0.036073  0.035880  0.030995  0.031324  0.031443  0.031393\n",
       "drop_5  0.029464  0.028394  0.028859  0.022887  0.022907  0.011738\n",
       "drop_6  0.030881  0.029195  0.032214  0.023510  0.023523  0.012261\n",
       "drop_7  0.031060  0.029766  0.029572  0.025810  0.025821  0.011809\n",
       "drop_8  0.011761  0.011313  0.016672  0.005001  0.004964  0.013159\n",
       "drop_9  0.000000  0.000000  0.000000  0.000000  0.000000  0.000000"
      ]
     },
     "execution_count": 34,
     "metadata": {},
     "output_type": "execute_result"
    }
   ],
   "source": [
    "pd.DataFrame(\n",
    "    np.array([cv[i:].std() for cv in cvs for i in range(10)]).reshape(6, 10),\n",
    "    columns=[f\"drop_{i}\" for i in range(10)],\n",
    "    index=[f\"est_{i}\" for i in range(len(cvs))],\n",
    ").T"
   ]
  },
  {
   "cell_type": "markdown",
   "metadata": {},
   "source": [
    "Мы остановились на логистической регрессии. Так как у нас основной массив признаков - это tf-idf вектора, т.е. разреженная матрица признаков эквивалентных по значимости, остановимся на L2-регуляризации. Т.о. необходимо для данного набора признаков подобрать оптимальное значение гиперпараметра C. Будем делать это кросс-валидацией. Дополнительно реализуем итеративный поиск оптимального значения: на очередной (следующей) итерации будем искать оптимум в окресности найденного на текущей итерации оптимального C. Реализация далее:"
   ]
  },
  {
   "cell_type": "code",
   "execution_count": 35,
   "metadata": {},
   "outputs": [],
   "source": [
    "def lrcv(lr, rng, cv, X, y, tol=1e-4, max_iter=5, skip_first=2):\n",
    "\n",
    "    \"\"\"\n",
    "    lr - регрессор\n",
    "    rng - границы и шаг для сетки поиска\n",
    "    cv - генератор индексов для кроссвалидации\n",
    "    X,y - обучающая выборка и целевая переменная\n",
    "    tol - криетрий остановки поиска\n",
    "    max_iter - максимальное количество итераций\n",
    "    skip_first - сколько первых фолдов пропустить при оценке оптимального значения параметра\n",
    "    \"\"\"\n",
    "\n",
    "    with tqdm.tqdm(total=max_iter) as progress_bar:\n",
    "        for i in range(max_iter):\n",
    "\n",
    "            pg = {\"C\": np.linspace(*rng)}\n",
    "            if pg[\"C\"][0] == 0:\n",
    "                pg[\"C\"] = pg[\"C\"][1:]\n",
    "            gscv = GridSearchCV(lr,param_grid=pg, cv=cv,scoring=\"roc_auc\",n_jobs=-1,refit=False,return_train_score=True).fit(X, y)\n",
    "\n",
    "            cvr = pd.DataFrame(gscv.cv_results_).fillna(0)\n",
    "            splits_cols = [c for c in cvr.columns if re.match(r\"^split\\d+_test_score$\", c)]\n",
    "\n",
    "            cvr[\"mean_test_score\"] = cvr[splits_cols].iloc[:, skip_first:].mean(axis=1)\n",
    "            cvr[\"std_test_score\"] = cvr[splits_cols].iloc[:, skip_first:].std(axis=1)\n",
    "            top = cvr[\"mean_test_score\"].idxmax()\n",
    "\n",
    "            if top > 0 and top < len(pg[\"C\"]) - 1:\n",
    "                diff = cvr[\"mean_test_score\"][top + 1] - cvr[\"mean_test_score\"][top - 1]\n",
    "                if diff < tol:\n",
    "                    progress_bar.total = i + 1\n",
    "                    progress_bar.update(1)\n",
    "                    break\n",
    "            \n",
    "            new_l = cvr[\"param_C\"][top - 1] if top > 0 else cvr[\"param_C\"][top] / len(pg[\"C\"])\n",
    "            new_u = cvr[\"param_C\"][top + 1] if top < len(pg[\"C\"]) - 1 else cvr[\"param_C\"][top] * len(pg[\"C\"])\n",
    "            rng = (new_l, new_u, len(pg[\"C\"]))\n",
    "            progress_bar.update(1)\n",
    "        else:\n",
    "            print(\n",
    "                f\"Достигнуто максимальное количество итераций ({max_iter}). Вероятно оптимальное значение не найдено\"\n",
    "            )\n",
    "\n",
    "    cvr[\"skipped\"] = skip_first\n",
    "    splits_cols = [c for c in cvr.columns if re.match(r\"^split\\d+_((test)|(train))_score$\", c)]\n",
    "    return cvr.loc[top, splits_cols+[\"mean_test_score\",\"std_test_score\",\"params\",\"skipped\"]]"
   ]
  },
  {
   "cell_type": "markdown",
   "metadata": {},
   "source": [
    "Функция возвращает ROC AUC для фолдов кроссвалидации для лучшего параметра на последней итерации. Эти результаты мы будем сохранять в словарь, где ключ - описание модели, а значение - результат этой функции для этой модели.\n",
    "\n",
    "Создадим так же функцию преобразования этого словаря в датафрейм."
   ]
  },
  {
   "cell_type": "code",
   "execution_count": 36,
   "metadata": {},
   "outputs": [],
   "source": [
    "def cvrs_to_df(cvrs):\n",
    "    df_out = pd.DataFrame(cvrs).T\n",
    "    colname_map = {c:c.replace(\"_test_score\",\"\").replace(\"_train_score\",\"_tr\")  for c in df_out.columns}\n",
    "    return df_out.rename(colname_map, axis=1)"
   ]
  },
  {
   "cell_type": "code",
   "execution_count": 37,
   "metadata": {},
   "outputs": [],
   "source": [
    "cvrs = {}\n",
    "cvrs_cols = [f\"split{i}\" for i in range(10)] + [\"mean\",\"std\"]\n",
    "spl = [f\"split{i}\" for i in range(10)]"
   ]
  },
  {
   "cell_type": "markdown",
   "metadata": {},
   "source": [
    "Теперь создадим функцию обёртку, которая собирает обучающую выборку на основании переданных имён признаков и обучает модель"
   ]
  },
  {
   "cell_type": "code",
   "execution_count": 38,
   "metadata": {},
   "outputs": [],
   "source": [
    "def cvtest_model(\n",
    "    X,\n",
    "    ft_df=fe_train,\n",
    "    y=y,\n",
    "    ft_asis=None,\n",
    "    ft_scale=None,\n",
    "    ft_dummy=None,\n",
    "    solver=\"liblinear\",\n",
    "    start_range=(0, 10, 11),\n",
    "    skip_first=2,\n",
    "):\n",
    "    \"\"\"\n",
    "    ft_asis - признаки не требующие обработки\n",
    "    ft_scale - признаки которые надо нормализовать\n",
    "    ft_dummy - признаки которые надо закодировать OHE\n",
    "    \"\"\"\n",
    "\n",
    "    X_ = X.copy()\n",
    "\n",
    "    if ft_asis is not None:\n",
    "        X_ = sparse.hstack((X_, ft_df[ft_asis])).tocsr()\n",
    "\n",
    "    if ft_scale is not None:\n",
    "        ft_scale = StandardScaler().fit_transform(ft_df[ft_scale])\n",
    "        X_ = sparse.hstack((X_, ft_scale)).tocsr()\n",
    "\n",
    "    if ft_dummy is not None:\n",
    "        ft_dummy = pd.get_dummies(ft_df[ft_dummy], columns=ft_dummy, drop_first=True)\n",
    "        X_ = sparse.hstack((X_, ft_dummy)).tocsr()\n",
    "\n",
    "    return lrcv(LogisticRegression(max_iter=1e5, solver=solver), start_range, ts, X_, y, skip_first)"
   ]
  },
  {
   "cell_type": "markdown",
   "metadata": {},
   "source": [
    "Сгенерируем Tf-idf вектора для разных n-грамм и лимитов на количество признаков. Это будут наши первые бэйзлайны."
   ]
  },
  {
   "cell_type": "code",
   "execution_count": 39,
   "metadata": {},
   "outputs": [],
   "source": [
    "vectorizer = TfidfVectorizer(ngram_range=(1, 1), max_features=50000)\n",
    "X_sites_train_1_50k = vectorizer.fit_transform(sites_train_str)\n",
    "X_sites_test_1_50k = vectorizer.transform(sites_test_str)\n",
    "\n",
    "vectorizer = TfidfVectorizer(ngram_range=(1, 2), max_features=50000)\n",
    "X_sites_train_2_50k = vectorizer.fit_transform(sites_train_str)\n",
    "X_sites_test_2_50k = vectorizer.transform(sites_test_str)\n",
    "\n",
    "vectorizer = TfidfVectorizer(ngram_range=(1, 3), max_features=50000)\n",
    "X_sites_train_3_50k = vectorizer.fit_transform(sites_train_str)\n",
    "X_sites_test_3_50k = vectorizer.transform(sites_test_str)\n",
    "\n",
    "vectorizer = TfidfVectorizer(ngram_range=(1, 2), max_features=100000)\n",
    "X_sites_train_2_100k = vectorizer.fit_transform(sites_train_str)\n",
    "X_sites_test_2_100k = vectorizer.transform(sites_test_str)\n",
    "\n",
    "vectorizer = TfidfVectorizer(ngram_range=(1, 3), max_features=100000)\n",
    "X_sites_train_3_100k = vectorizer.fit_transform(sites_train_str)\n",
    "X_sites_test_3_100k = vectorizer.transform(sites_test_str)\n",
    "\n",
    "vectorizer = TfidfVectorizer(ngram_range=(1, 2), max_features=150000)\n",
    "X_sites_train_2_150k = vectorizer.fit_transform(sites_train_str)\n",
    "X_sites_test_2_150k = vectorizer.transform(sites_test_str)\n",
    "\n",
    "vectorizer = TfidfVectorizer(ngram_range=(1, 3), max_features=150000)\n",
    "X_sites_train_3_150k = vectorizer.fit_transform(sites_train_str)\n",
    "X_sites_test_3_150k = vectorizer.transform(sites_test_str)"
   ]
  },
  {
   "cell_type": "code",
   "execution_count": 40,
   "metadata": {
    "scrolled": true
   },
   "outputs": [
    {
     "name": "stdout",
     "output_type": "stream",
     "text": [
      "1-50\n"
     ]
    },
    {
     "data": {
      "application/vnd.jupyter.widget-view+json": {
       "model_id": "3806964980b84dd4adf64d2bd7aedad0",
       "version_major": 2,
       "version_minor": 0
      },
      "text/plain": [
       "HBox(children=(FloatProgress(value=0.0, max=5.0), HTML(value='')))"
      ]
     },
     "metadata": {},
     "output_type": "display_data"
    },
    {
     "name": "stdout",
     "output_type": "stream",
     "text": [
      "\n",
      "2-50\n"
     ]
    },
    {
     "data": {
      "application/vnd.jupyter.widget-view+json": {
       "model_id": "4e475f32a4c941dd976f01a635d2d735",
       "version_major": 2,
       "version_minor": 0
      },
      "text/plain": [
       "HBox(children=(FloatProgress(value=0.0, max=5.0), HTML(value='')))"
      ]
     },
     "metadata": {},
     "output_type": "display_data"
    },
    {
     "name": "stdout",
     "output_type": "stream",
     "text": [
      "\n",
      "3-50\n"
     ]
    },
    {
     "data": {
      "application/vnd.jupyter.widget-view+json": {
       "model_id": "0a6e192eca13487f8c3dd1022e26f7af",
       "version_major": 2,
       "version_minor": 0
      },
      "text/plain": [
       "HBox(children=(FloatProgress(value=0.0, max=5.0), HTML(value='')))"
      ]
     },
     "metadata": {},
     "output_type": "display_data"
    },
    {
     "name": "stdout",
     "output_type": "stream",
     "text": [
      "\n",
      "2-100\n"
     ]
    },
    {
     "data": {
      "application/vnd.jupyter.widget-view+json": {
       "model_id": "c11a544cb9c9412e9f5ee710bedb3e66",
       "version_major": 2,
       "version_minor": 0
      },
      "text/plain": [
       "HBox(children=(FloatProgress(value=0.0, max=5.0), HTML(value='')))"
      ]
     },
     "metadata": {},
     "output_type": "display_data"
    },
    {
     "name": "stdout",
     "output_type": "stream",
     "text": [
      "\n",
      "3-100\n"
     ]
    },
    {
     "data": {
      "application/vnd.jupyter.widget-view+json": {
       "model_id": "413854f23aee4dff85547eb3e7e7a25c",
       "version_major": 2,
       "version_minor": 0
      },
      "text/plain": [
       "HBox(children=(FloatProgress(value=0.0, max=5.0), HTML(value='')))"
      ]
     },
     "metadata": {},
     "output_type": "display_data"
    },
    {
     "name": "stdout",
     "output_type": "stream",
     "text": [
      "\n",
      "2-150\n"
     ]
    },
    {
     "data": {
      "application/vnd.jupyter.widget-view+json": {
       "model_id": "54eec804b33746fbacfad5b32951ae04",
       "version_major": 2,
       "version_minor": 0
      },
      "text/plain": [
       "HBox(children=(FloatProgress(value=0.0, max=5.0), HTML(value='')))"
      ]
     },
     "metadata": {},
     "output_type": "display_data"
    },
    {
     "name": "stdout",
     "output_type": "stream",
     "text": [
      "\n",
      "3-150\n"
     ]
    },
    {
     "data": {
      "application/vnd.jupyter.widget-view+json": {
       "model_id": "7231e16185754bfcbf0c91f8a107c4e4",
       "version_major": 2,
       "version_minor": 0
      },
      "text/plain": [
       "HBox(children=(FloatProgress(value=0.0, max=5.0), HTML(value='')))"
      ]
     },
     "metadata": {},
     "output_type": "display_data"
    },
    {
     "name": "stdout",
     "output_type": "stream",
     "text": [
      "\n"
     ]
    }
   ],
   "source": [
    "names = { \n",
    "    \"1-50\": X_sites_train_1_50k,\n",
    "    \"2-50\": X_sites_train_2_50k,\n",
    "    \"3-50\": X_sites_train_3_50k,\n",
    "    \"2-100\": X_sites_train_2_100k,\n",
    "    \"3-100\": X_sites_train_3_100k,\n",
    "    \"2-150\": X_sites_train_2_150k,\n",
    "    \"3-150\": X_sites_train_3_150k,\n",
    "}\n",
    "\n",
    "for n,x in names.items():\n",
    "    print(n)\n",
    "    cvrs[n] = cvtest_model(x)"
   ]
  },
  {
   "cell_type": "code",
   "execution_count": null,
   "metadata": {},
   "outputs": [],
   "source": []
  },
  {
   "cell_type": "code",
   "execution_count": 41,
   "metadata": {},
   "outputs": [
    {
     "data": {
      "text/html": [
       "<div>\n",
       "<style scoped>\n",
       "    .dataframe tbody tr th:only-of-type {\n",
       "        vertical-align: middle;\n",
       "    }\n",
       "\n",
       "    .dataframe tbody tr th {\n",
       "        vertical-align: top;\n",
       "    }\n",
       "\n",
       "    .dataframe thead th {\n",
       "        text-align: right;\n",
       "    }\n",
       "</style>\n",
       "<table border=\"1\" class=\"dataframe\">\n",
       "  <thead>\n",
       "    <tr style=\"text-align: right;\">\n",
       "      <th></th>\n",
       "      <th>split0</th>\n",
       "      <th>split1</th>\n",
       "      <th>split2</th>\n",
       "      <th>split3</th>\n",
       "      <th>split4</th>\n",
       "      <th>split5</th>\n",
       "      <th>split6</th>\n",
       "      <th>split7</th>\n",
       "      <th>split8</th>\n",
       "      <th>split9</th>\n",
       "      <th>mean</th>\n",
       "      <th>std</th>\n",
       "    </tr>\n",
       "  </thead>\n",
       "  <tbody>\n",
       "    <tr>\n",
       "      <th>2-50</th>\n",
       "      <td>0.836048</td>\n",
       "      <td>0.663178</td>\n",
       "      <td>0.886595</td>\n",
       "      <td>0.943245</td>\n",
       "      <td>0.85262</td>\n",
       "      <td>0.886484</td>\n",
       "      <td>0.940134</td>\n",
       "      <td>0.866193</td>\n",
       "      <td>0.937375</td>\n",
       "      <td>0.920955</td>\n",
       "      <td>0.9042</td>\n",
       "      <td>0.035709</td>\n",
       "    </tr>\n",
       "    <tr>\n",
       "      <th>3-150</th>\n",
       "      <td>0.833816</td>\n",
       "      <td>0.662733</td>\n",
       "      <td>0.885387</td>\n",
       "      <td>0.943345</td>\n",
       "      <td>0.853322</td>\n",
       "      <td>0.887229</td>\n",
       "      <td>0.940728</td>\n",
       "      <td>0.8704</td>\n",
       "      <td>0.933446</td>\n",
       "      <td>0.919387</td>\n",
       "      <td>0.904155</td>\n",
       "      <td>0.034487</td>\n",
       "    </tr>\n",
       "    <tr>\n",
       "      <th>2-100</th>\n",
       "      <td>0.838024</td>\n",
       "      <td>0.664447</td>\n",
       "      <td>0.882809</td>\n",
       "      <td>0.943045</td>\n",
       "      <td>0.853327</td>\n",
       "      <td>0.886591</td>\n",
       "      <td>0.941099</td>\n",
       "      <td>0.867037</td>\n",
       "      <td>0.937877</td>\n",
       "      <td>0.920804</td>\n",
       "      <td>0.904074</td>\n",
       "      <td>0.0358906</td>\n",
       "    </tr>\n",
       "    <tr>\n",
       "      <th>3-50</th>\n",
       "      <td>0.839623</td>\n",
       "      <td>0.66036</td>\n",
       "      <td>0.883565</td>\n",
       "      <td>0.94031</td>\n",
       "      <td>0.853747</td>\n",
       "      <td>0.886663</td>\n",
       "      <td>0.939052</td>\n",
       "      <td>0.870371</td>\n",
       "      <td>0.93321</td>\n",
       "      <td>0.923106</td>\n",
       "      <td>0.903753</td>\n",
       "      <td>0.0340989</td>\n",
       "    </tr>\n",
       "    <tr>\n",
       "      <th>3-100</th>\n",
       "      <td>0.834024</td>\n",
       "      <td>0.662068</td>\n",
       "      <td>0.885183</td>\n",
       "      <td>0.942609</td>\n",
       "      <td>0.852341</td>\n",
       "      <td>0.886981</td>\n",
       "      <td>0.939663</td>\n",
       "      <td>0.869739</td>\n",
       "      <td>0.933601</td>\n",
       "      <td>0.919008</td>\n",
       "      <td>0.903641</td>\n",
       "      <td>0.0345358</td>\n",
       "    </tr>\n",
       "    <tr>\n",
       "      <th>2-150</th>\n",
       "      <td>0.838091</td>\n",
       "      <td>0.664338</td>\n",
       "      <td>0.881394</td>\n",
       "      <td>0.940596</td>\n",
       "      <td>0.853459</td>\n",
       "      <td>0.885812</td>\n",
       "      <td>0.939845</td>\n",
       "      <td>0.866</td>\n",
       "      <td>0.938376</td>\n",
       "      <td>0.921187</td>\n",
       "      <td>0.903334</td>\n",
       "      <td>0.0357328</td>\n",
       "    </tr>\n",
       "    <tr>\n",
       "      <th>1-50</th>\n",
       "      <td>0.833595</td>\n",
       "      <td>0.673409</td>\n",
       "      <td>0.876492</td>\n",
       "      <td>0.940991</td>\n",
       "      <td>0.850685</td>\n",
       "      <td>0.882226</td>\n",
       "      <td>0.934295</td>\n",
       "      <td>0.86176</td>\n",
       "      <td>0.931622</td>\n",
       "      <td>0.9185</td>\n",
       "      <td>0.899571</td>\n",
       "      <td>0.035777</td>\n",
       "    </tr>\n",
       "  </tbody>\n",
       "</table>\n",
       "</div>"
      ],
      "text/plain": [
       "         split0    split1    split2    split3    split4    split5    split6  \\\n",
       "2-50   0.836048  0.663178  0.886595  0.943245   0.85262  0.886484  0.940134   \n",
       "3-150  0.833816  0.662733  0.885387  0.943345  0.853322  0.887229  0.940728   \n",
       "2-100  0.838024  0.664447  0.882809  0.943045  0.853327  0.886591  0.941099   \n",
       "3-50   0.839623   0.66036  0.883565   0.94031  0.853747  0.886663  0.939052   \n",
       "3-100  0.834024  0.662068  0.885183  0.942609  0.852341  0.886981  0.939663   \n",
       "2-150  0.838091  0.664338  0.881394  0.940596  0.853459  0.885812  0.939845   \n",
       "1-50   0.833595  0.673409  0.876492  0.940991  0.850685  0.882226  0.934295   \n",
       "\n",
       "         split7    split8    split9      mean        std  \n",
       "2-50   0.866193  0.937375  0.920955    0.9042   0.035709  \n",
       "3-150    0.8704  0.933446  0.919387  0.904155   0.034487  \n",
       "2-100  0.867037  0.937877  0.920804  0.904074  0.0358906  \n",
       "3-50   0.870371   0.93321  0.923106  0.903753  0.0340989  \n",
       "3-100  0.869739  0.933601  0.919008  0.903641  0.0345358  \n",
       "2-150     0.866  0.938376  0.921187  0.903334  0.0357328  \n",
       "1-50    0.86176  0.931622    0.9185  0.899571   0.035777  "
      ]
     },
     "execution_count": 41,
     "metadata": {},
     "output_type": "execute_result"
    }
   ],
   "source": [
    "cvrsdf = cvrs_to_df(cvrs).loc[:,cvrs_cols].sort_values(\"mean\",ascending=False)\n",
    "idx = [ i for i in cvrsdf.index if re.match(r\"^\\d-\\d+$\",i)]\n",
    "cvrsdf.loc[idx]"
   ]
  },
  {
   "cell_type": "code",
   "execution_count": 42,
   "metadata": {},
   "outputs": [
    {
     "data": {
      "image/png": "[encoded data removed]",
      "text/plain": [
       "<Figure size 1152x576 with 1 Axes>"
      ]
     },
     "metadata": {
      "needs_background": "light"
     },
     "output_type": "display_data"
    }
   ],
   "source": [
    "plt.figure(figsize=(16,8))\n",
    "for model, cv in zip(idx,cvrsdf.loc[idx,spl].values):\n",
    "    plt.plot(spl[2:], cv[2:], label=model)\n",
    "plt.ylabel(\"ROC AUC\")\n",
    "plt.title(\"CV-оценки ROC AUC для разных схем векторизации\")\n",
    "plt.legend()\n",
    "plt.grid()"
   ]
  },
  {
   "cell_type": "markdown",
   "metadata": {},
   "source": [
    "Исходя из сравнения все варианты очень похожи. Остановимся на схеме 3-50, т.к. эта на этой схеме мы достигли сходимости быстрее, а разница в ROC-AUC незначительна."
   ]
  },
  {
   "cell_type": "code",
   "execution_count": 43,
   "metadata": {},
   "outputs": [],
   "source": [
    "base_name = \"3-50\"\n",
    "base_X = X_sites_train_3_50k"
   ]
  },
  {
   "cell_type": "markdown",
   "metadata": {},
   "source": [
    "## 3. Изучим влияние признаков начала сессии"
   ]
  },
  {
   "cell_type": "code",
   "execution_count": 44,
   "metadata": {},
   "outputs": [
    {
     "data": {
      "text/plain": [
       "['start_date',\n",
       " 'start_year',\n",
       " 'start_month',\n",
       " 'start_day',\n",
       " 'start_hour',\n",
       " 'start_minute',\n",
       " 'start_day_of_week',\n",
       " 'start_weekend',\n",
       " 'start_year_month',\n",
       " 'start_week_hour',\n",
       " 'start_hour_minute',\n",
       " 'start_epoch',\n",
       " 'start_morning',\n",
       " 'start_noon',\n",
       " 'start_evening']"
      ]
     },
     "execution_count": 44,
     "metadata": {},
     "output_type": "execute_result"
    }
   ],
   "source": [
    "[c for c in fe_train.columns if re.match(r\"^start_.*$\",c)]"
   ]
  },
  {
   "cell_type": "code",
   "execution_count": 45,
   "metadata": {},
   "outputs": [
    {
     "name": "stdout",
     "output_type": "stream",
     "text": [
      "3-50,t,yr\n"
     ]
    },
    {
     "data": {
      "application/vnd.jupyter.widget-view+json": {
       "model_id": "9a559d78f1ee43c3a2de8c84b84b6be9",
       "version_major": 2,
       "version_minor": 0
      },
      "text/plain": [
       "HBox(children=(FloatProgress(value=0.0, max=5.0), HTML(value='')))"
      ]
     },
     "metadata": {},
     "output_type": "display_data"
    },
    {
     "name": "stdout",
     "output_type": "stream",
     "text": [
      "\n",
      "3-50,t,mnth\n"
     ]
    },
    {
     "data": {
      "application/vnd.jupyter.widget-view+json": {
       "model_id": "b860010bd7b6496fb3564c36f8aeda77",
       "version_major": 2,
       "version_minor": 0
      },
      "text/plain": [
       "HBox(children=(FloatProgress(value=0.0, max=5.0), HTML(value='')))"
      ]
     },
     "metadata": {},
     "output_type": "display_data"
    },
    {
     "name": "stdout",
     "output_type": "stream",
     "text": [
      "\n",
      "3-50,t,day\n"
     ]
    },
    {
     "data": {
      "application/vnd.jupyter.widget-view+json": {
       "model_id": "044aa64cf832483e9c2e23e389e339fa",
       "version_major": 2,
       "version_minor": 0
      },
      "text/plain": [
       "HBox(children=(FloatProgress(value=0.0, max=5.0), HTML(value='')))"
      ]
     },
     "metadata": {},
     "output_type": "display_data"
    },
    {
     "name": "stdout",
     "output_type": "stream",
     "text": [
      "\n",
      "3-50,t,hr\n"
     ]
    },
    {
     "data": {
      "application/vnd.jupyter.widget-view+json": {
       "model_id": "41dcc910157a48cf995194e22404862a",
       "version_major": 2,
       "version_minor": 0
      },
      "text/plain": [
       "HBox(children=(FloatProgress(value=0.0, max=5.0), HTML(value='')))"
      ]
     },
     "metadata": {},
     "output_type": "display_data"
    },
    {
     "name": "stdout",
     "output_type": "stream",
     "text": [
      "\n",
      "3-50,t,min\n"
     ]
    },
    {
     "data": {
      "application/vnd.jupyter.widget-view+json": {
       "model_id": "affc30dfc03846f2abac83f5582a0c31",
       "version_major": 2,
       "version_minor": 0
      },
      "text/plain": [
       "HBox(children=(FloatProgress(value=0.0, max=5.0), HTML(value='')))"
      ]
     },
     "metadata": {},
     "output_type": "display_data"
    },
    {
     "name": "stdout",
     "output_type": "stream",
     "text": [
      "\n",
      "3-50,t,dow\n"
     ]
    },
    {
     "data": {
      "application/vnd.jupyter.widget-view+json": {
       "model_id": "895ef601f0ca45c7901f900abc85e15e",
       "version_major": 2,
       "version_minor": 0
      },
      "text/plain": [
       "HBox(children=(FloatProgress(value=0.0, max=5.0), HTML(value='')))"
      ]
     },
     "metadata": {},
     "output_type": "display_data"
    },
    {
     "name": "stdout",
     "output_type": "stream",
     "text": [
      "\n",
      "3-50,t,yr_mnth\n"
     ]
    },
    {
     "data": {
      "application/vnd.jupyter.widget-view+json": {
       "model_id": "c1c8be21faf146a2bc2063ee1894ab68",
       "version_major": 2,
       "version_minor": 0
      },
      "text/plain": [
       "HBox(children=(FloatProgress(value=0.0, max=5.0), HTML(value='')))"
      ]
     },
     "metadata": {},
     "output_type": "display_data"
    },
    {
     "name": "stdout",
     "output_type": "stream",
     "text": [
      "\n",
      "3-50,t,wk_hr\n"
     ]
    },
    {
     "data": {
      "application/vnd.jupyter.widget-view+json": {
       "model_id": "0d2f990c173b446ebf79caafdbbae9ff",
       "version_major": 2,
       "version_minor": 0
      },
      "text/plain": [
       "HBox(children=(FloatProgress(value=0.0, max=5.0), HTML(value='')))"
      ]
     },
     "metadata": {},
     "output_type": "display_data"
    },
    {
     "name": "stdout",
     "output_type": "stream",
     "text": [
      "\n",
      "3-50,t,hr_min\n"
     ]
    },
    {
     "data": {
      "application/vnd.jupyter.widget-view+json": {
       "model_id": "5800aaf312e04fbeaa89293156ac3d11",
       "version_major": 2,
       "version_minor": 0
      },
      "text/plain": [
       "HBox(children=(FloatProgress(value=0.0, max=5.0), HTML(value='')))"
      ]
     },
     "metadata": {},
     "output_type": "display_data"
    },
    {
     "name": "stdout",
     "output_type": "stream",
     "text": [
      "\n",
      "3-50,t,e\n"
     ]
    },
    {
     "data": {
      "application/vnd.jupyter.widget-view+json": {
       "model_id": "20c494afcdd14a87a8c006a26d9c8ac2",
       "version_major": 2,
       "version_minor": 0
      },
      "text/plain": [
       "HBox(children=(FloatProgress(value=0.0, max=5.0), HTML(value='')))"
      ]
     },
     "metadata": {},
     "output_type": "display_data"
    },
    {
     "name": "stdout",
     "output_type": "stream",
     "text": [
      "\n",
      "3-50,t,we\n"
     ]
    },
    {
     "data": {
      "application/vnd.jupyter.widget-view+json": {
       "model_id": "613c836168c44ece86d789e9ebbb4af1",
       "version_major": 2,
       "version_minor": 0
      },
      "text/plain": [
       "HBox(children=(FloatProgress(value=0.0, max=5.0), HTML(value='')))"
      ]
     },
     "metadata": {},
     "output_type": "display_data"
    },
    {
     "name": "stdout",
     "output_type": "stream",
     "text": [
      "\n",
      "3-50,t,tod\n"
     ]
    },
    {
     "data": {
      "application/vnd.jupyter.widget-view+json": {
       "model_id": "4943f5f8cc984a189c40e94b9dc8f3a2",
       "version_major": 2,
       "version_minor": 0
      },
      "text/plain": [
       "HBox(children=(FloatProgress(value=0.0, max=5.0), HTML(value='')))"
      ]
     },
     "metadata": {},
     "output_type": "display_data"
    },
    {
     "name": "stdout",
     "output_type": "stream",
     "text": [
      "\n",
      "CPU times: user 11 s, sys: 1.56 s, total: 12.6 s\n",
      "Wall time: 12min 5s\n"
     ]
    }
   ],
   "source": [
    "%%time\n",
    "\n",
    "ft = {\n",
    "    \"yr\": [\"start_year\"],\n",
    "    \"mnth\": [\"start_month\"],\n",
    "    \"day\": [\"start_day\"],\n",
    "    \"hr\": [\"start_hour\"],\n",
    "    \"min\": [\"start_minute\"],\n",
    "    \"dow\": [\"start_day_of_week\"],\n",
    "    \"yr_mnth\":[\"start_year_month\"],\n",
    "    \"wk_hr\":[\"start_week_hour\"],\n",
    "    \"hr_min\":[\"start_hour_minute\"],\n",
    "    \"e\":[\"start_epoch\"],\n",
    "}\n",
    "\n",
    "for n, f in ft.items():\n",
    "    print(f\"{base_name},t,{n}\")\n",
    "    cvrs[f\"{base_name},t,{n}\"] = cvtest_model(base_X, ft_scale=f)\n",
    "\n",
    "ft = {\n",
    "    \"we\": [\"start_weekend\"],\n",
    "    \"tod\":[\"start_morning\",\"start_noon\",\"start_evening\"],\n",
    "}\n",
    "\n",
    "for n, f in ft.items():\n",
    "    print(f\"{base_name},t,{n}\")\n",
    "    cvrs[f\"{base_name},t,{n}\"] = cvtest_model(base_X, ft_asis=f)"
   ]
  },
  {
   "cell_type": "code",
   "execution_count": 46,
   "metadata": {
    "scrolled": false
   },
   "outputs": [
    {
     "data": {
      "text/html": [
       "<div>\n",
       "<style scoped>\n",
       "    .dataframe tbody tr th:only-of-type {\n",
       "        vertical-align: middle;\n",
       "    }\n",
       "\n",
       "    .dataframe tbody tr th {\n",
       "        vertical-align: top;\n",
       "    }\n",
       "\n",
       "    .dataframe thead th {\n",
       "        text-align: right;\n",
       "    }\n",
       "</style>\n",
       "<table border=\"1\" class=\"dataframe\">\n",
       "  <thead>\n",
       "    <tr style=\"text-align: right;\">\n",
       "      <th></th>\n",
       "      <th>split0</th>\n",
       "      <th>split1</th>\n",
       "      <th>split2</th>\n",
       "      <th>split3</th>\n",
       "      <th>split4</th>\n",
       "      <th>split5</th>\n",
       "      <th>split6</th>\n",
       "      <th>split7</th>\n",
       "      <th>split8</th>\n",
       "      <th>split9</th>\n",
       "      <th>mean</th>\n",
       "      <th>std</th>\n",
       "    </tr>\n",
       "  </thead>\n",
       "  <tbody>\n",
       "    <tr>\n",
       "      <th>3-50,t,tod</th>\n",
       "      <td>0.87556</td>\n",
       "      <td>0.792877</td>\n",
       "      <td>0.924455</td>\n",
       "      <td>0.962441</td>\n",
       "      <td>0.909513</td>\n",
       "      <td>0.948239</td>\n",
       "      <td>0.954507</td>\n",
       "      <td>0.933578</td>\n",
       "      <td>0.95417</td>\n",
       "      <td>0.94822</td>\n",
       "      <td>0.94189</td>\n",
       "      <td>0.0178648</td>\n",
       "    </tr>\n",
       "    <tr>\n",
       "      <th>3-50,t,hr_min</th>\n",
       "      <td>0.813577</td>\n",
       "      <td>0.707826</td>\n",
       "      <td>0.939223</td>\n",
       "      <td>0.954863</td>\n",
       "      <td>0.873305</td>\n",
       "      <td>0.953229</td>\n",
       "      <td>0.945564</td>\n",
       "      <td>0.917246</td>\n",
       "      <td>0.966457</td>\n",
       "      <td>0.960597</td>\n",
       "      <td>0.93881</td>\n",
       "      <td>0.0304874</td>\n",
       "    </tr>\n",
       "    <tr>\n",
       "      <th>3-50,t,hr</th>\n",
       "      <td>0.812649</td>\n",
       "      <td>0.70679</td>\n",
       "      <td>0.938818</td>\n",
       "      <td>0.956521</td>\n",
       "      <td>0.874844</td>\n",
       "      <td>0.951307</td>\n",
       "      <td>0.942822</td>\n",
       "      <td>0.918092</td>\n",
       "      <td>0.965182</td>\n",
       "      <td>0.960545</td>\n",
       "      <td>0.938516</td>\n",
       "      <td>0.0296984</td>\n",
       "    </tr>\n",
       "    <tr>\n",
       "      <th>3-50,t,dow</th>\n",
       "      <td>0.766177</td>\n",
       "      <td>0.656601</td>\n",
       "      <td>0.88146</td>\n",
       "      <td>0.941257</td>\n",
       "      <td>0.854236</td>\n",
       "      <td>0.897682</td>\n",
       "      <td>0.930433</td>\n",
       "      <td>0.890138</td>\n",
       "      <td>0.945969</td>\n",
       "      <td>0.945667</td>\n",
       "      <td>0.910855</td>\n",
       "      <td>0.0346925</td>\n",
       "    </tr>\n",
       "    <tr>\n",
       "      <th>3-50,t,wk_hr</th>\n",
       "      <td>0.782905</td>\n",
       "      <td>0.658288</td>\n",
       "      <td>0.883199</td>\n",
       "      <td>0.940239</td>\n",
       "      <td>0.852707</td>\n",
       "      <td>0.889829</td>\n",
       "      <td>0.935295</td>\n",
       "      <td>0.880607</td>\n",
       "      <td>0.94317</td>\n",
       "      <td>0.940967</td>\n",
       "      <td>0.908252</td>\n",
       "      <td>0.0355781</td>\n",
       "    </tr>\n",
       "    <tr>\n",
       "      <th>3-50,t,yr</th>\n",
       "      <td>0.839973</td>\n",
       "      <td>0.660413</td>\n",
       "      <td>0.909991</td>\n",
       "      <td>0.943115</td>\n",
       "      <td>0.854543</td>\n",
       "      <td>0.888932</td>\n",
       "      <td>0.942206</td>\n",
       "      <td>0.870789</td>\n",
       "      <td>0.932445</td>\n",
       "      <td>0.922188</td>\n",
       "      <td>0.908026</td>\n",
       "      <td>0.0334063</td>\n",
       "    </tr>\n",
       "    <tr>\n",
       "      <th>3-50,t,yr_mnth</th>\n",
       "      <td>0.836468</td>\n",
       "      <td>0.662215</td>\n",
       "      <td>0.90973</td>\n",
       "      <td>0.943151</td>\n",
       "      <td>0.854471</td>\n",
       "      <td>0.889016</td>\n",
       "      <td>0.942408</td>\n",
       "      <td>0.870731</td>\n",
       "      <td>0.932145</td>\n",
       "      <td>0.922254</td>\n",
       "      <td>0.907988</td>\n",
       "      <td>0.0334309</td>\n",
       "    </tr>\n",
       "    <tr>\n",
       "      <th>3-50,t,e</th>\n",
       "      <td>0.826563</td>\n",
       "      <td>0.662384</td>\n",
       "      <td>0.884011</td>\n",
       "      <td>0.940543</td>\n",
       "      <td>0.853483</td>\n",
       "      <td>0.887503</td>\n",
       "      <td>0.94079</td>\n",
       "      <td>0.869595</td>\n",
       "      <td>0.932592</td>\n",
       "      <td>0.924035</td>\n",
       "      <td>0.904069</td>\n",
       "      <td>0.0344657</td>\n",
       "    </tr>\n",
       "    <tr>\n",
       "      <th>3-50</th>\n",
       "      <td>0.839623</td>\n",
       "      <td>0.66036</td>\n",
       "      <td>0.883565</td>\n",
       "      <td>0.94031</td>\n",
       "      <td>0.853747</td>\n",
       "      <td>0.886663</td>\n",
       "      <td>0.939052</td>\n",
       "      <td>0.870371</td>\n",
       "      <td>0.93321</td>\n",
       "      <td>0.923106</td>\n",
       "      <td>0.903753</td>\n",
       "      <td>0.0340989</td>\n",
       "    </tr>\n",
       "    <tr>\n",
       "      <th>3-50,t,day</th>\n",
       "      <td>0.745711</td>\n",
       "      <td>0.628757</td>\n",
       "      <td>0.885447</td>\n",
       "      <td>0.941617</td>\n",
       "      <td>0.853149</td>\n",
       "      <td>0.886753</td>\n",
       "      <td>0.93393</td>\n",
       "      <td>0.866783</td>\n",
       "      <td>0.93358</td>\n",
       "      <td>0.925197</td>\n",
       "      <td>0.903307</td>\n",
       "      <td>0.0343175</td>\n",
       "    </tr>\n",
       "    <tr>\n",
       "      <th>3-50,t,min</th>\n",
       "      <td>0.837456</td>\n",
       "      <td>0.657543</td>\n",
       "      <td>0.882634</td>\n",
       "      <td>0.936942</td>\n",
       "      <td>0.846457</td>\n",
       "      <td>0.889437</td>\n",
       "      <td>0.939765</td>\n",
       "      <td>0.869919</td>\n",
       "      <td>0.933188</td>\n",
       "      <td>0.923149</td>\n",
       "      <td>0.902687</td>\n",
       "      <td>0.0352751</td>\n",
       "    </tr>\n",
       "    <tr>\n",
       "      <th>3-50,t,mnth</th>\n",
       "      <td>0.823581</td>\n",
       "      <td>0.661893</td>\n",
       "      <td>0.869113</td>\n",
       "      <td>0.941462</td>\n",
       "      <td>0.855081</td>\n",
       "      <td>0.888473</td>\n",
       "      <td>0.939985</td>\n",
       "      <td>0.87148</td>\n",
       "      <td>0.933726</td>\n",
       "      <td>0.922016</td>\n",
       "      <td>0.902667</td>\n",
       "      <td>0.0354583</td>\n",
       "    </tr>\n",
       "    <tr>\n",
       "      <th>3-50,t,we</th>\n",
       "      <td>0.851682</td>\n",
       "      <td>0.674492</td>\n",
       "      <td>0.70733</td>\n",
       "      <td>0.942672</td>\n",
       "      <td>0.853521</td>\n",
       "      <td>0.893326</td>\n",
       "      <td>0.926228</td>\n",
       "      <td>0.877804</td>\n",
       "      <td>0.935762</td>\n",
       "      <td>0.922943</td>\n",
       "      <td>0.882448</td>\n",
       "      <td>0.0771536</td>\n",
       "    </tr>\n",
       "  </tbody>\n",
       "</table>\n",
       "</div>"
      ],
      "text/plain": [
       "                  split0    split1    split2    split3    split4    split5  \\\n",
       "3-50,t,tod       0.87556  0.792877  0.924455  0.962441  0.909513  0.948239   \n",
       "3-50,t,hr_min   0.813577  0.707826  0.939223  0.954863  0.873305  0.953229   \n",
       "3-50,t,hr       0.812649   0.70679  0.938818  0.956521  0.874844  0.951307   \n",
       "3-50,t,dow      0.766177  0.656601   0.88146  0.941257  0.854236  0.897682   \n",
       "3-50,t,wk_hr    0.782905  0.658288  0.883199  0.940239  0.852707  0.889829   \n",
       "3-50,t,yr       0.839973  0.660413  0.909991  0.943115  0.854543  0.888932   \n",
       "3-50,t,yr_mnth  0.836468  0.662215   0.90973  0.943151  0.854471  0.889016   \n",
       "3-50,t,e        0.826563  0.662384  0.884011  0.940543  0.853483  0.887503   \n",
       "3-50            0.839623   0.66036  0.883565   0.94031  0.853747  0.886663   \n",
       "3-50,t,day      0.745711  0.628757  0.885447  0.941617  0.853149  0.886753   \n",
       "3-50,t,min      0.837456  0.657543  0.882634  0.936942  0.846457  0.889437   \n",
       "3-50,t,mnth     0.823581  0.661893  0.869113  0.941462  0.855081  0.888473   \n",
       "3-50,t,we       0.851682  0.674492   0.70733  0.942672  0.853521  0.893326   \n",
       "\n",
       "                  split6    split7    split8    split9      mean        std  \n",
       "3-50,t,tod      0.954507  0.933578   0.95417   0.94822   0.94189  0.0178648  \n",
       "3-50,t,hr_min   0.945564  0.917246  0.966457  0.960597   0.93881  0.0304874  \n",
       "3-50,t,hr       0.942822  0.918092  0.965182  0.960545  0.938516  0.0296984  \n",
       "3-50,t,dow      0.930433  0.890138  0.945969  0.945667  0.910855  0.0346925  \n",
       "3-50,t,wk_hr    0.935295  0.880607   0.94317  0.940967  0.908252  0.0355781  \n",
       "3-50,t,yr       0.942206  0.870789  0.932445  0.922188  0.908026  0.0334063  \n",
       "3-50,t,yr_mnth  0.942408  0.870731  0.932145  0.922254  0.907988  0.0334309  \n",
       "3-50,t,e         0.94079  0.869595  0.932592  0.924035  0.904069  0.0344657  \n",
       "3-50            0.939052  0.870371   0.93321  0.923106  0.903753  0.0340989  \n",
       "3-50,t,day       0.93393  0.866783   0.93358  0.925197  0.903307  0.0343175  \n",
       "3-50,t,min      0.939765  0.869919  0.933188  0.923149  0.902687  0.0352751  \n",
       "3-50,t,mnth     0.939985   0.87148  0.933726  0.922016  0.902667  0.0354583  \n",
       "3-50,t,we       0.926228  0.877804  0.935762  0.922943  0.882448  0.0771536  "
      ]
     },
     "execution_count": 46,
     "metadata": {},
     "output_type": "execute_result"
    }
   ],
   "source": [
    "cvrsdf = cvrs_to_df(cvrs).loc[:,cvrs_cols].sort_values(\"mean\",ascending=False)\n",
    "idx = [ i for i in cvrsdf.index if re.match(r\"^3-50(,t,.*)?$\",i)]\n",
    "cvrsdf.loc[idx]"
   ]
  },
  {
   "cell_type": "markdown",
   "metadata": {},
   "source": [
    "Наиболее интересные признаки - это признаки \"часть дня\" (высокое среднее ROC AUC, снижение дисперсии оценок по фолдам), \"минуты дня\" и \"час дня\", \"день недели\".\n",
    "\n",
    "Признаки \"минута часа\", \"месяц\", \"день месяца\" и признак \"weekend\"-а дают плохие результаты.\n",
    "\n",
    "Сконцентрируемся на первой группе признаков. Они отражают график работы пользователя в течении дня и по сути содержат схожую информацию. Попробуем рассмотреть \"час дня\" и \"day of week\" как категориальный признак, а так же сравнить их сочетания."
   ]
  },
  {
   "cell_type": "code",
   "execution_count": 47,
   "metadata": {},
   "outputs": [
    {
     "name": "stdout",
     "output_type": "stream",
     "text": [
      "3-50,t,hrd\n"
     ]
    },
    {
     "data": {
      "application/vnd.jupyter.widget-view+json": {
       "model_id": "1e8197ca691d44e888c04efd49dcfa64",
       "version_major": 2,
       "version_minor": 0
      },
      "text/plain": [
       "HBox(children=(FloatProgress(value=0.0, max=5.0), HTML(value='')))"
      ]
     },
     "metadata": {},
     "output_type": "display_data"
    },
    {
     "name": "stdout",
     "output_type": "stream",
     "text": [
      "\n",
      "3-50,t,dowd\n"
     ]
    },
    {
     "data": {
      "application/vnd.jupyter.widget-view+json": {
       "model_id": "64f217f863b24f4d9d3c3699b642cc1d",
       "version_major": 2,
       "version_minor": 0
      },
      "text/plain": [
       "HBox(children=(FloatProgress(value=0.0, max=5.0), HTML(value='')))"
      ]
     },
     "metadata": {},
     "output_type": "display_data"
    },
    {
     "name": "stdout",
     "output_type": "stream",
     "text": [
      "\n",
      "3-50,t,tod+dow\n"
     ]
    },
    {
     "data": {
      "application/vnd.jupyter.widget-view+json": {
       "model_id": "d011e1514a7b44a2bf6a1efdbccd9539",
       "version_major": 2,
       "version_minor": 0
      },
      "text/plain": [
       "HBox(children=(FloatProgress(value=0.0, max=5.0), HTML(value='')))"
      ]
     },
     "metadata": {},
     "output_type": "display_data"
    },
    {
     "name": "stdout",
     "output_type": "stream",
     "text": [
      "\n",
      "3-50,t,tod+hr\n"
     ]
    },
    {
     "data": {
      "application/vnd.jupyter.widget-view+json": {
       "model_id": "12275eea4f7d4cf281fb63f93c5214af",
       "version_major": 2,
       "version_minor": 0
      },
      "text/plain": [
       "HBox(children=(FloatProgress(value=0.0, max=5.0), HTML(value='')))"
      ]
     },
     "metadata": {},
     "output_type": "display_data"
    },
    {
     "name": "stdout",
     "output_type": "stream",
     "text": [
      "\n",
      "3-50,t,tod+hr_minute\n"
     ]
    },
    {
     "data": {
      "application/vnd.jupyter.widget-view+json": {
       "model_id": "ea20ae8666b54822a8f7c8270da038d4",
       "version_major": 2,
       "version_minor": 0
      },
      "text/plain": [
       "HBox(children=(FloatProgress(value=0.0, max=5.0), HTML(value='')))"
      ]
     },
     "metadata": {},
     "output_type": "display_data"
    },
    {
     "name": "stdout",
     "output_type": "stream",
     "text": [
      "\n",
      "3-50,t,tod+hr+dow\n"
     ]
    },
    {
     "data": {
      "application/vnd.jupyter.widget-view+json": {
       "model_id": "7ab71ce915aa435faeaaba3238780be8",
       "version_major": 2,
       "version_minor": 0
      },
      "text/plain": [
       "HBox(children=(FloatProgress(value=0.0, max=5.0), HTML(value='')))"
      ]
     },
     "metadata": {},
     "output_type": "display_data"
    },
    {
     "name": "stdout",
     "output_type": "stream",
     "text": [
      "\n",
      "3-50,t,tod+hr_min+dow\n"
     ]
    },
    {
     "data": {
      "application/vnd.jupyter.widget-view+json": {
       "model_id": "c747f8d788304af8a1a5722ca5adecc3",
       "version_major": 2,
       "version_minor": 0
      },
      "text/plain": [
       "HBox(children=(FloatProgress(value=0.0, max=5.0), HTML(value='')))"
      ]
     },
     "metadata": {},
     "output_type": "display_data"
    },
    {
     "name": "stdout",
     "output_type": "stream",
     "text": [
      "\n",
      "CPU times: user 7.57 s, sys: 1.14 s, total: 8.71 s\n",
      "Wall time: 10min 36s\n"
     ]
    }
   ],
   "source": [
    "%%time\n",
    "\n",
    "ft = {\n",
    "    \"hrd\": [\"start_hour\"],\n",
    "    \"dowd\": [\"start_day_of_week\"],\n",
    "}\n",
    "for n, f in ft.items():\n",
    "    print(f\"{base_name},t,{n}\")\n",
    "    cvrs[f\"{base_name},t,{n}\"] = cvtest_model(base_X, ft_dummy=f)\n",
    "\n",
    "ft_scale = [\"start_day_of_week\"]\n",
    "ft_asis = [\"start_morning\",\"start_noon\",\"start_evening\"]\n",
    "print(f\"{base_name},t,tod+dow\")\n",
    "cvrs[f\"{base_name},t,tod+dow\"] = cvtest_model(base_X, ft_asis=ft_asis, ft_scale=ft_scale)\n",
    "\n",
    "ft_scale = [\"start_hour\"]\n",
    "ft_asis = [\"start_morning\",\"start_noon\",\"start_evening\"]\n",
    "print(f\"{base_name},t,tod+hr\")\n",
    "cvrs[f\"{base_name},t,tod+hr\"] = cvtest_model(base_X, ft_asis=ft_asis, ft_scale=ft_scale)\n",
    "\n",
    "ft_scale = [\"start_hour_minute\"]\n",
    "ft_asis = [\"start_morning\",\"start_noon\",\"start_evening\"]\n",
    "print(f\"{base_name},t,tod+hr_minute\")\n",
    "cvrs[f\"{base_name},t,tod+hr_minute\"] = cvtest_model(base_X, ft_asis=ft_asis, ft_scale=ft_scale)\n",
    "\n",
    "ft_scale = [\"start_hour\", \"start_day_of_week\"]\n",
    "ft_asis = [\"start_morning\",\"start_noon\",\"start_evening\"]\n",
    "print(f\"{base_name},t,tod+hr+dow\")\n",
    "cvrs[f\"{base_name},t,tod+hr+dow\"] = cvtest_model(base_X, ft_asis=ft_asis, ft_scale=ft_scale)\n",
    "\n",
    "ft_scale = [\"start_hour_minute\", \"start_day_of_week\"]\n",
    "ft_asis = [\"start_morning\",\"start_noon\",\"start_evening\"]\n",
    "print(f\"{base_name},t,tod+hr_min+dow\")\n",
    "cvrs[f\"{base_name},t,tod+hr_min+dow\"] = cvtest_model(base_X, ft_asis=ft_asis, ft_scale=ft_scale)"
   ]
  },
  {
   "cell_type": "code",
   "execution_count": 48,
   "metadata": {
    "scrolled": false
   },
   "outputs": [
    {
     "data": {
      "text/html": [
       "<div>\n",
       "<style scoped>\n",
       "    .dataframe tbody tr th:only-of-type {\n",
       "        vertical-align: middle;\n",
       "    }\n",
       "\n",
       "    .dataframe tbody tr th {\n",
       "        vertical-align: top;\n",
       "    }\n",
       "\n",
       "    .dataframe thead th {\n",
       "        text-align: right;\n",
       "    }\n",
       "</style>\n",
       "<table border=\"1\" class=\"dataframe\">\n",
       "  <thead>\n",
       "    <tr style=\"text-align: right;\">\n",
       "      <th></th>\n",
       "      <th>split0</th>\n",
       "      <th>split1</th>\n",
       "      <th>split2</th>\n",
       "      <th>split3</th>\n",
       "      <th>split4</th>\n",
       "      <th>split5</th>\n",
       "      <th>split6</th>\n",
       "      <th>split7</th>\n",
       "      <th>split8</th>\n",
       "      <th>split9</th>\n",
       "      <th>mean</th>\n",
       "      <th>std</th>\n",
       "    </tr>\n",
       "  </thead>\n",
       "  <tbody>\n",
       "    <tr>\n",
       "      <th>3-50,t,hrd</th>\n",
       "      <td>0.657985</td>\n",
       "      <td>0.827491</td>\n",
       "      <td>0.97021</td>\n",
       "      <td>0.958372</td>\n",
       "      <td>0.9327</td>\n",
       "      <td>0.971425</td>\n",
       "      <td>0.936394</td>\n",
       "      <td>0.952335</td>\n",
       "      <td>0.97272</td>\n",
       "      <td>0.967777</td>\n",
       "      <td>0.957742</td>\n",
       "      <td>0.0159471</td>\n",
       "    </tr>\n",
       "    <tr>\n",
       "      <th>3-50,t,tod+dow</th>\n",
       "      <td>0.851903</td>\n",
       "      <td>0.784984</td>\n",
       "      <td>0.923131</td>\n",
       "      <td>0.962704</td>\n",
       "      <td>0.909272</td>\n",
       "      <td>0.951622</td>\n",
       "      <td>0.950916</td>\n",
       "      <td>0.9409</td>\n",
       "      <td>0.962598</td>\n",
       "      <td>0.962776</td>\n",
       "      <td>0.94549</td>\n",
       "      <td>0.0199556</td>\n",
       "    </tr>\n",
       "    <tr>\n",
       "      <th>3-50,t,tod+hr+dow</th>\n",
       "      <td>0.69828</td>\n",
       "      <td>0.739557</td>\n",
       "      <td>0.94492</td>\n",
       "      <td>0.953461</td>\n",
       "      <td>0.863767</td>\n",
       "      <td>0.959489</td>\n",
       "      <td>0.953371</td>\n",
       "      <td>0.936926</td>\n",
       "      <td>0.966559</td>\n",
       "      <td>0.970509</td>\n",
       "      <td>0.943625</td>\n",
       "      <td>0.03405</td>\n",
       "    </tr>\n",
       "    <tr>\n",
       "      <th>3-50,t,tod+hr_min+dow</th>\n",
       "      <td>0.701995</td>\n",
       "      <td>0.740432</td>\n",
       "      <td>0.944577</td>\n",
       "      <td>0.950814</td>\n",
       "      <td>0.860733</td>\n",
       "      <td>0.960628</td>\n",
       "      <td>0.954503</td>\n",
       "      <td>0.936698</td>\n",
       "      <td>0.967237</td>\n",
       "      <td>0.970491</td>\n",
       "      <td>0.94321</td>\n",
       "      <td>0.035167</td>\n",
       "    </tr>\n",
       "    <tr>\n",
       "      <th>3-50,t,tod+hr</th>\n",
       "      <td>0.711395</td>\n",
       "      <td>0.747161</td>\n",
       "      <td>0.944969</td>\n",
       "      <td>0.954326</td>\n",
       "      <td>0.865872</td>\n",
       "      <td>0.959245</td>\n",
       "      <td>0.953471</td>\n",
       "      <td>0.93411</td>\n",
       "      <td>0.961109</td>\n",
       "      <td>0.962836</td>\n",
       "      <td>0.941992</td>\n",
       "      <td>0.0321753</td>\n",
       "    </tr>\n",
       "    <tr>\n",
       "      <th>3-50,t,tod</th>\n",
       "      <td>0.87556</td>\n",
       "      <td>0.792877</td>\n",
       "      <td>0.924455</td>\n",
       "      <td>0.962441</td>\n",
       "      <td>0.909513</td>\n",
       "      <td>0.948239</td>\n",
       "      <td>0.954507</td>\n",
       "      <td>0.933578</td>\n",
       "      <td>0.95417</td>\n",
       "      <td>0.94822</td>\n",
       "      <td>0.94189</td>\n",
       "      <td>0.0178648</td>\n",
       "    </tr>\n",
       "    <tr>\n",
       "      <th>3-50,t,tod+hr_minute</th>\n",
       "      <td>0.717076</td>\n",
       "      <td>0.748344</td>\n",
       "      <td>0.944673</td>\n",
       "      <td>0.951522</td>\n",
       "      <td>0.862749</td>\n",
       "      <td>0.960224</td>\n",
       "      <td>0.95474</td>\n",
       "      <td>0.933598</td>\n",
       "      <td>0.961758</td>\n",
       "      <td>0.962621</td>\n",
       "      <td>0.941486</td>\n",
       "      <td>0.0332889</td>\n",
       "    </tr>\n",
       "    <tr>\n",
       "      <th>3-50,t,hr_min</th>\n",
       "      <td>0.813577</td>\n",
       "      <td>0.707826</td>\n",
       "      <td>0.939223</td>\n",
       "      <td>0.954863</td>\n",
       "      <td>0.873305</td>\n",
       "      <td>0.953229</td>\n",
       "      <td>0.945564</td>\n",
       "      <td>0.917246</td>\n",
       "      <td>0.966457</td>\n",
       "      <td>0.960597</td>\n",
       "      <td>0.93881</td>\n",
       "      <td>0.0304874</td>\n",
       "    </tr>\n",
       "    <tr>\n",
       "      <th>3-50,t,hr</th>\n",
       "      <td>0.812649</td>\n",
       "      <td>0.70679</td>\n",
       "      <td>0.938818</td>\n",
       "      <td>0.956521</td>\n",
       "      <td>0.874844</td>\n",
       "      <td>0.951307</td>\n",
       "      <td>0.942822</td>\n",
       "      <td>0.918092</td>\n",
       "      <td>0.965182</td>\n",
       "      <td>0.960545</td>\n",
       "      <td>0.938516</td>\n",
       "      <td>0.0296984</td>\n",
       "    </tr>\n",
       "    <tr>\n",
       "      <th>3-50,t,dow</th>\n",
       "      <td>0.766177</td>\n",
       "      <td>0.656601</td>\n",
       "      <td>0.88146</td>\n",
       "      <td>0.941257</td>\n",
       "      <td>0.854236</td>\n",
       "      <td>0.897682</td>\n",
       "      <td>0.930433</td>\n",
       "      <td>0.890138</td>\n",
       "      <td>0.945969</td>\n",
       "      <td>0.945667</td>\n",
       "      <td>0.910855</td>\n",
       "      <td>0.0346925</td>\n",
       "    </tr>\n",
       "    <tr>\n",
       "      <th>3-50,t,wk_hr</th>\n",
       "      <td>0.782905</td>\n",
       "      <td>0.658288</td>\n",
       "      <td>0.883199</td>\n",
       "      <td>0.940239</td>\n",
       "      <td>0.852707</td>\n",
       "      <td>0.889829</td>\n",
       "      <td>0.935295</td>\n",
       "      <td>0.880607</td>\n",
       "      <td>0.94317</td>\n",
       "      <td>0.940967</td>\n",
       "      <td>0.908252</td>\n",
       "      <td>0.0355781</td>\n",
       "    </tr>\n",
       "    <tr>\n",
       "      <th>3-50,t,yr</th>\n",
       "      <td>0.839973</td>\n",
       "      <td>0.660413</td>\n",
       "      <td>0.909991</td>\n",
       "      <td>0.943115</td>\n",
       "      <td>0.854543</td>\n",
       "      <td>0.888932</td>\n",
       "      <td>0.942206</td>\n",
       "      <td>0.870789</td>\n",
       "      <td>0.932445</td>\n",
       "      <td>0.922188</td>\n",
       "      <td>0.908026</td>\n",
       "      <td>0.0334063</td>\n",
       "    </tr>\n",
       "    <tr>\n",
       "      <th>3-50,t,yr_mnth</th>\n",
       "      <td>0.836468</td>\n",
       "      <td>0.662215</td>\n",
       "      <td>0.90973</td>\n",
       "      <td>0.943151</td>\n",
       "      <td>0.854471</td>\n",
       "      <td>0.889016</td>\n",
       "      <td>0.942408</td>\n",
       "      <td>0.870731</td>\n",
       "      <td>0.932145</td>\n",
       "      <td>0.922254</td>\n",
       "      <td>0.907988</td>\n",
       "      <td>0.0334309</td>\n",
       "    </tr>\n",
       "    <tr>\n",
       "      <th>3-50,t,e</th>\n",
       "      <td>0.826563</td>\n",
       "      <td>0.662384</td>\n",
       "      <td>0.884011</td>\n",
       "      <td>0.940543</td>\n",
       "      <td>0.853483</td>\n",
       "      <td>0.887503</td>\n",
       "      <td>0.94079</td>\n",
       "      <td>0.869595</td>\n",
       "      <td>0.932592</td>\n",
       "      <td>0.924035</td>\n",
       "      <td>0.904069</td>\n",
       "      <td>0.0344657</td>\n",
       "    </tr>\n",
       "    <tr>\n",
       "      <th>3-50</th>\n",
       "      <td>0.839623</td>\n",
       "      <td>0.66036</td>\n",
       "      <td>0.883565</td>\n",
       "      <td>0.94031</td>\n",
       "      <td>0.853747</td>\n",
       "      <td>0.886663</td>\n",
       "      <td>0.939052</td>\n",
       "      <td>0.870371</td>\n",
       "      <td>0.93321</td>\n",
       "      <td>0.923106</td>\n",
       "      <td>0.903753</td>\n",
       "      <td>0.0340989</td>\n",
       "    </tr>\n",
       "    <tr>\n",
       "      <th>3-50,t,day</th>\n",
       "      <td>0.745711</td>\n",
       "      <td>0.628757</td>\n",
       "      <td>0.885447</td>\n",
       "      <td>0.941617</td>\n",
       "      <td>0.853149</td>\n",
       "      <td>0.886753</td>\n",
       "      <td>0.93393</td>\n",
       "      <td>0.866783</td>\n",
       "      <td>0.93358</td>\n",
       "      <td>0.925197</td>\n",
       "      <td>0.903307</td>\n",
       "      <td>0.0343175</td>\n",
       "    </tr>\n",
       "    <tr>\n",
       "      <th>3-50,t,min</th>\n",
       "      <td>0.837456</td>\n",
       "      <td>0.657543</td>\n",
       "      <td>0.882634</td>\n",
       "      <td>0.936942</td>\n",
       "      <td>0.846457</td>\n",
       "      <td>0.889437</td>\n",
       "      <td>0.939765</td>\n",
       "      <td>0.869919</td>\n",
       "      <td>0.933188</td>\n",
       "      <td>0.923149</td>\n",
       "      <td>0.902687</td>\n",
       "      <td>0.0352751</td>\n",
       "    </tr>\n",
       "    <tr>\n",
       "      <th>3-50,t,mnth</th>\n",
       "      <td>0.823581</td>\n",
       "      <td>0.661893</td>\n",
       "      <td>0.869113</td>\n",
       "      <td>0.941462</td>\n",
       "      <td>0.855081</td>\n",
       "      <td>0.888473</td>\n",
       "      <td>0.939985</td>\n",
       "      <td>0.87148</td>\n",
       "      <td>0.933726</td>\n",
       "      <td>0.922016</td>\n",
       "      <td>0.902667</td>\n",
       "      <td>0.0354583</td>\n",
       "    </tr>\n",
       "    <tr>\n",
       "      <th>3-50,t,we</th>\n",
       "      <td>0.851682</td>\n",
       "      <td>0.674492</td>\n",
       "      <td>0.70733</td>\n",
       "      <td>0.942672</td>\n",
       "      <td>0.853521</td>\n",
       "      <td>0.893326</td>\n",
       "      <td>0.926228</td>\n",
       "      <td>0.877804</td>\n",
       "      <td>0.935762</td>\n",
       "      <td>0.922943</td>\n",
       "      <td>0.882448</td>\n",
       "      <td>0.0771536</td>\n",
       "    </tr>\n",
       "    <tr>\n",
       "      <th>3-50,t,dowd</th>\n",
       "      <td>0.764269</td>\n",
       "      <td>0.719474</td>\n",
       "      <td>0.765747</td>\n",
       "      <td>0.958888</td>\n",
       "      <td>0.907532</td>\n",
       "      <td>0.937296</td>\n",
       "      <td>0.926483</td>\n",
       "      <td>0.918953</td>\n",
       "      <td>0.676169</td>\n",
       "      <td>0.944352</td>\n",
       "      <td>0.879427</td>\n",
       "      <td>0.101897</td>\n",
       "    </tr>\n",
       "  </tbody>\n",
       "</table>\n",
       "</div>"
      ],
      "text/plain": [
       "                         split0    split1    split2    split3    split4  \\\n",
       "3-50,t,hrd             0.657985  0.827491   0.97021  0.958372    0.9327   \n",
       "3-50,t,tod+dow         0.851903  0.784984  0.923131  0.962704  0.909272   \n",
       "3-50,t,tod+hr+dow       0.69828  0.739557   0.94492  0.953461  0.863767   \n",
       "3-50,t,tod+hr_min+dow  0.701995  0.740432  0.944577  0.950814  0.860733   \n",
       "3-50,t,tod+hr          0.711395  0.747161  0.944969  0.954326  0.865872   \n",
       "3-50,t,tod              0.87556  0.792877  0.924455  0.962441  0.909513   \n",
       "3-50,t,tod+hr_minute   0.717076  0.748344  0.944673  0.951522  0.862749   \n",
       "3-50,t,hr_min          0.813577  0.707826  0.939223  0.954863  0.873305   \n",
       "3-50,t,hr              0.812649   0.70679  0.938818  0.956521  0.874844   \n",
       "3-50,t,dow             0.766177  0.656601   0.88146  0.941257  0.854236   \n",
       "3-50,t,wk_hr           0.782905  0.658288  0.883199  0.940239  0.852707   \n",
       "3-50,t,yr              0.839973  0.660413  0.909991  0.943115  0.854543   \n",
       "3-50,t,yr_mnth         0.836468  0.662215   0.90973  0.943151  0.854471   \n",
       "3-50,t,e               0.826563  0.662384  0.884011  0.940543  0.853483   \n",
       "3-50                   0.839623   0.66036  0.883565   0.94031  0.853747   \n",
       "3-50,t,day             0.745711  0.628757  0.885447  0.941617  0.853149   \n",
       "3-50,t,min             0.837456  0.657543  0.882634  0.936942  0.846457   \n",
       "3-50,t,mnth            0.823581  0.661893  0.869113  0.941462  0.855081   \n",
       "3-50,t,we              0.851682  0.674492   0.70733  0.942672  0.853521   \n",
       "3-50,t,dowd            0.764269  0.719474  0.765747  0.958888  0.907532   \n",
       "\n",
       "                         split5    split6    split7    split8    split9  \\\n",
       "3-50,t,hrd             0.971425  0.936394  0.952335   0.97272  0.967777   \n",
       "3-50,t,tod+dow         0.951622  0.950916    0.9409  0.962598  0.962776   \n",
       "3-50,t,tod+hr+dow      0.959489  0.953371  0.936926  0.966559  0.970509   \n",
       "3-50,t,tod+hr_min+dow  0.960628  0.954503  0.936698  0.967237  0.970491   \n",
       "3-50,t,tod+hr          0.959245  0.953471   0.93411  0.961109  0.962836   \n",
       "3-50,t,tod             0.948239  0.954507  0.933578   0.95417   0.94822   \n",
       "3-50,t,tod+hr_minute   0.960224   0.95474  0.933598  0.961758  0.962621   \n",
       "3-50,t,hr_min          0.953229  0.945564  0.917246  0.966457  0.960597   \n",
       "3-50,t,hr              0.951307  0.942822  0.918092  0.965182  0.960545   \n",
       "3-50,t,dow             0.897682  0.930433  0.890138  0.945969  0.945667   \n",
       "3-50,t,wk_hr           0.889829  0.935295  0.880607   0.94317  0.940967   \n",
       "3-50,t,yr              0.888932  0.942206  0.870789  0.932445  0.922188   \n",
       "3-50,t,yr_mnth         0.889016  0.942408  0.870731  0.932145  0.922254   \n",
       "3-50,t,e               0.887503   0.94079  0.869595  0.932592  0.924035   \n",
       "3-50                   0.886663  0.939052  0.870371   0.93321  0.923106   \n",
       "3-50,t,day             0.886753   0.93393  0.866783   0.93358  0.925197   \n",
       "3-50,t,min             0.889437  0.939765  0.869919  0.933188  0.923149   \n",
       "3-50,t,mnth            0.888473  0.939985   0.87148  0.933726  0.922016   \n",
       "3-50,t,we              0.893326  0.926228  0.877804  0.935762  0.922943   \n",
       "3-50,t,dowd            0.937296  0.926483  0.918953  0.676169  0.944352   \n",
       "\n",
       "                           mean        std  \n",
       "3-50,t,hrd             0.957742  0.0159471  \n",
       "3-50,t,tod+dow          0.94549  0.0199556  \n",
       "3-50,t,tod+hr+dow      0.943625    0.03405  \n",
       "3-50,t,tod+hr_min+dow   0.94321   0.035167  \n",
       "3-50,t,tod+hr          0.941992  0.0321753  \n",
       "3-50,t,tod              0.94189  0.0178648  \n",
       "3-50,t,tod+hr_minute   0.941486  0.0332889  \n",
       "3-50,t,hr_min           0.93881  0.0304874  \n",
       "3-50,t,hr              0.938516  0.0296984  \n",
       "3-50,t,dow             0.910855  0.0346925  \n",
       "3-50,t,wk_hr           0.908252  0.0355781  \n",
       "3-50,t,yr              0.908026  0.0334063  \n",
       "3-50,t,yr_mnth         0.907988  0.0334309  \n",
       "3-50,t,e               0.904069  0.0344657  \n",
       "3-50                   0.903753  0.0340989  \n",
       "3-50,t,day             0.903307  0.0343175  \n",
       "3-50,t,min             0.902687  0.0352751  \n",
       "3-50,t,mnth            0.902667  0.0354583  \n",
       "3-50,t,we              0.882448  0.0771536  \n",
       "3-50,t,dowd            0.879427   0.101897  "
      ]
     },
     "execution_count": 48,
     "metadata": {},
     "output_type": "execute_result"
    }
   ],
   "source": [
    "cvrsdf = cvrs_to_df(cvrs).loc[:,cvrs_cols].sort_values(\"mean\",ascending=False)\n",
    "idx = [ i for i in cvrsdf.index if re.match(r\"^3-50(,t,.*)?$\",i)]\n",
    "cvrsdf.loc[idx]"
   ]
  },
  {
   "cell_type": "markdown",
   "metadata": {},
   "source": [
    "Кодирование признака \"start_hour\" методом OHE, вместо использования этого признака как вещественного, дал существенный прирост в метрике. Рассмотрим сочетания признаков для hrd."
   ]
  },
  {
   "cell_type": "code",
   "execution_count": 49,
   "metadata": {},
   "outputs": [
    {
     "name": "stdout",
     "output_type": "stream",
     "text": [
      "3-50,t,tod+hrd\n"
     ]
    },
    {
     "data": {
      "application/vnd.jupyter.widget-view+json": {
       "model_id": "4abd0508bf4d4d90948eb09801e3717b",
       "version_major": 2,
       "version_minor": 0
      },
      "text/plain": [
       "HBox(children=(FloatProgress(value=0.0, max=5.0), HTML(value='')))"
      ]
     },
     "metadata": {},
     "output_type": "display_data"
    },
    {
     "name": "stdout",
     "output_type": "stream",
     "text": [
      "\n",
      "3-50,t,tod+hrd+min\n"
     ]
    },
    {
     "data": {
      "application/vnd.jupyter.widget-view+json": {
       "model_id": "f46c985064e2408fad35f85d2f4766b8",
       "version_major": 2,
       "version_minor": 0
      },
      "text/plain": [
       "HBox(children=(FloatProgress(value=0.0, max=5.0), HTML(value='')))"
      ]
     },
     "metadata": {},
     "output_type": "display_data"
    },
    {
     "name": "stdout",
     "output_type": "stream",
     "text": [
      "\n",
      "3-50,t,tod+hrd+dow\n"
     ]
    },
    {
     "data": {
      "application/vnd.jupyter.widget-view+json": {
       "model_id": "5beccf48a3bb4061826cc9305aab97bb",
       "version_major": 2,
       "version_minor": 0
      },
      "text/plain": [
       "HBox(children=(FloatProgress(value=0.0, max=5.0), HTML(value='')))"
      ]
     },
     "metadata": {},
     "output_type": "display_data"
    },
    {
     "name": "stdout",
     "output_type": "stream",
     "text": [
      "\n",
      "3-50,t,tod+hrd+min+dow\n"
     ]
    },
    {
     "data": {
      "application/vnd.jupyter.widget-view+json": {
       "model_id": "fea0bd9556254ede95586693d1238f9b",
       "version_major": 2,
       "version_minor": 0
      },
      "text/plain": [
       "HBox(children=(FloatProgress(value=0.0, max=5.0), HTML(value='')))"
      ]
     },
     "metadata": {},
     "output_type": "display_data"
    },
    {
     "name": "stdout",
     "output_type": "stream",
     "text": [
      "\n",
      "3-50,t,hrd+min\n"
     ]
    },
    {
     "data": {
      "application/vnd.jupyter.widget-view+json": {
       "model_id": "de14bf7e8ae04c159f12e954c347db38",
       "version_major": 2,
       "version_minor": 0
      },
      "text/plain": [
       "HBox(children=(FloatProgress(value=0.0, max=5.0), HTML(value='')))"
      ]
     },
     "metadata": {},
     "output_type": "display_data"
    },
    {
     "name": "stdout",
     "output_type": "stream",
     "text": [
      "\n",
      "3-50,t,hrd+dow\n"
     ]
    },
    {
     "data": {
      "application/vnd.jupyter.widget-view+json": {
       "model_id": "d5519e9cf33048d693e47c79ab0642d7",
       "version_major": 2,
       "version_minor": 0
      },
      "text/plain": [
       "HBox(children=(FloatProgress(value=0.0, max=5.0), HTML(value='')))"
      ]
     },
     "metadata": {},
     "output_type": "display_data"
    },
    {
     "name": "stdout",
     "output_type": "stream",
     "text": [
      "\n",
      "3-50,t,hrd+min+dow\n"
     ]
    },
    {
     "data": {
      "application/vnd.jupyter.widget-view+json": {
       "model_id": "8539de24e5a940f68a79119b2682ce4a",
       "version_major": 2,
       "version_minor": 0
      },
      "text/plain": [
       "HBox(children=(FloatProgress(value=0.0, max=5.0), HTML(value='')))"
      ]
     },
     "metadata": {},
     "output_type": "display_data"
    },
    {
     "name": "stdout",
     "output_type": "stream",
     "text": [
      "\n",
      "CPU times: user 8.32 s, sys: 1.19 s, total: 9.52 s\n",
      "Wall time: 16min 24s\n"
     ]
    }
   ],
   "source": [
    "%%time\n",
    "\n",
    "ft_dummy = [\"start_hour\"]\n",
    "ft_asis = [\"start_morning\",\"start_noon\",\"start_evening\"]\n",
    "print(f\"{base_name},t,tod+hrd\")\n",
    "cvrs[f\"{base_name},t,tod+hrd\"] = cvtest_model(base_X, ft_asis=ft_asis, ft_scale=ft_scale, ft_dummy=ft_dummy, start_range=(10,20,11))\n",
    "\n",
    "ft_dummy = [\"start_hour\"]\n",
    "ft_scale = [\"start_minute\"]\n",
    "ft_asis = [\"start_morning\",\"start_noon\",\"start_evening\"]\n",
    "print(f\"{base_name},t,tod+hrd+min\")\n",
    "cvrs[f\"{base_name},t,tod+hrd+min\"] = cvtest_model(base_X, ft_asis=ft_asis, ft_scale=ft_scale, ft_dummy=ft_dummy, start_range=(10,20,11))\n",
    "\n",
    "ft_dummy = [\"start_hour\"]\n",
    "ft_scale = [\"start_day_of_week\"]\n",
    "ft_asis = [\"start_morning\",\"start_noon\",\"start_evening\"]\n",
    "print(f\"{base_name},t,tod+hrd+dow\")\n",
    "cvrs[f\"{base_name},t,tod+hrd+dow\"] = cvtest_model(base_X, ft_asis=ft_asis, ft_scale=ft_scale, ft_dummy=ft_dummy, start_range=(10,20,11))\n",
    "\n",
    "ft_dummy = [\"start_hour\"]\n",
    "ft_scale = [\"start_minute\", \"start_day_of_week\"]\n",
    "ft_asis = [\"start_morning\",\"start_noon\",\"start_evening\"]\n",
    "print(f\"{base_name},t,tod+hrd+min+dow\")\n",
    "cvrs[f\"{base_name},t,tod+hrd+min+dow\"] = cvtest_model(base_X, ft_asis=ft_asis, ft_scale=ft_scale, ft_dummy=ft_dummy, start_range=(10,20,11))\n",
    "\n",
    "ft_dummy = [\"start_hour\"]\n",
    "ft_scale = [\"start_minute\"]\n",
    "print(f\"{base_name},t,hrd+min\")\n",
    "cvrs[f\"{base_name},t,hrd+min\"] = cvtest_model(base_X, ft_scale=ft_scale, ft_dummy=ft_dummy, start_range=(10,20,11))\n",
    "\n",
    "ft_dummy = [\"start_hour\"]\n",
    "ft_scale = [\"start_day_of_week\"]\n",
    "print(f\"{base_name},t,hrd+dow\")\n",
    "cvrs[f\"{base_name},t,hrd+dow\"] = cvtest_model(base_X, ft_asis=ft_asis, ft_scale=ft_scale, ft_dummy=ft_dummy, start_range=(10,20,11))\n",
    "\n",
    "ft_dummy = [\"start_hour\"]\n",
    "ft_scale = [\"start_minute\", \"start_day_of_week\"]\n",
    "print(f\"{base_name},t,hrd+min+dow\")\n",
    "cvrs[f\"{base_name},t,hrd+min+dow\"] = cvtest_model(base_X, ft_scale=ft_scale, ft_dummy=ft_dummy, start_range=(10,20,11))"
   ]
  },
  {
   "cell_type": "code",
   "execution_count": 50,
   "metadata": {
    "scrolled": false
   },
   "outputs": [
    {
     "data": {
      "text/html": [
       "<div>\n",
       "<style scoped>\n",
       "    .dataframe tbody tr th:only-of-type {\n",
       "        vertical-align: middle;\n",
       "    }\n",
       "\n",
       "    .dataframe tbody tr th {\n",
       "        vertical-align: top;\n",
       "    }\n",
       "\n",
       "    .dataframe thead th {\n",
       "        text-align: right;\n",
       "    }\n",
       "</style>\n",
       "<table border=\"1\" class=\"dataframe\">\n",
       "  <thead>\n",
       "    <tr style=\"text-align: right;\">\n",
       "      <th></th>\n",
       "      <th>split0</th>\n",
       "      <th>split1</th>\n",
       "      <th>split2</th>\n",
       "      <th>split3</th>\n",
       "      <th>split4</th>\n",
       "      <th>split5</th>\n",
       "      <th>split6</th>\n",
       "      <th>split7</th>\n",
       "      <th>split8</th>\n",
       "      <th>split9</th>\n",
       "      <th>mean</th>\n",
       "      <th>std</th>\n",
       "    </tr>\n",
       "  </thead>\n",
       "  <tbody>\n",
       "    <tr>\n",
       "      <th>3-50,t,tod+hrd</th>\n",
       "      <td>0.645578</td>\n",
       "      <td>0.825359</td>\n",
       "      <td>0.970616</td>\n",
       "      <td>0.957939</td>\n",
       "      <td>0.932725</td>\n",
       "      <td>0.973363</td>\n",
       "      <td>0.933736</td>\n",
       "      <td>0.953334</td>\n",
       "      <td>0.975059</td>\n",
       "      <td>0.974141</td>\n",
       "      <td>0.958864</td>\n",
       "      <td>0.0176882</td>\n",
       "    </tr>\n",
       "    <tr>\n",
       "      <th>3-50,t,tod+hrd+min+dow</th>\n",
       "      <td>0.648373</td>\n",
       "      <td>0.823983</td>\n",
       "      <td>0.970676</td>\n",
       "      <td>0.957692</td>\n",
       "      <td>0.932374</td>\n",
       "      <td>0.973294</td>\n",
       "      <td>0.934503</td>\n",
       "      <td>0.953111</td>\n",
       "      <td>0.97531</td>\n",
       "      <td>0.97393</td>\n",
       "      <td>0.958861</td>\n",
       "      <td>0.0176264</td>\n",
       "    </tr>\n",
       "    <tr>\n",
       "      <th>3-50,t,hrd+min+dow</th>\n",
       "      <td>0.643118</td>\n",
       "      <td>0.821476</td>\n",
       "      <td>0.970481</td>\n",
       "      <td>0.957017</td>\n",
       "      <td>0.931983</td>\n",
       "      <td>0.972624</td>\n",
       "      <td>0.936072</td>\n",
       "      <td>0.952478</td>\n",
       "      <td>0.975231</td>\n",
       "      <td>0.973151</td>\n",
       "      <td>0.95863</td>\n",
       "      <td>0.0172467</td>\n",
       "    </tr>\n",
       "    <tr>\n",
       "      <th>3-50,t,hrd+dow</th>\n",
       "      <td>0.646637</td>\n",
       "      <td>0.827737</td>\n",
       "      <td>0.970234</td>\n",
       "      <td>0.95871</td>\n",
       "      <td>0.933116</td>\n",
       "      <td>0.971547</td>\n",
       "      <td>0.934846</td>\n",
       "      <td>0.952838</td>\n",
       "      <td>0.973476</td>\n",
       "      <td>0.972942</td>\n",
       "      <td>0.958463</td>\n",
       "      <td>0.0168043</td>\n",
       "    </tr>\n",
       "    <tr>\n",
       "      <th>3-50,t,tod+hrd+dow</th>\n",
       "      <td>0.646637</td>\n",
       "      <td>0.827737</td>\n",
       "      <td>0.970234</td>\n",
       "      <td>0.95871</td>\n",
       "      <td>0.933116</td>\n",
       "      <td>0.971547</td>\n",
       "      <td>0.934846</td>\n",
       "      <td>0.952838</td>\n",
       "      <td>0.973476</td>\n",
       "      <td>0.972942</td>\n",
       "      <td>0.958463</td>\n",
       "      <td>0.0168043</td>\n",
       "    </tr>\n",
       "    <tr>\n",
       "      <th>3-50,t,tod+hrd+min</th>\n",
       "      <td>0.663267</td>\n",
       "      <td>0.825142</td>\n",
       "      <td>0.970752</td>\n",
       "      <td>0.958137</td>\n",
       "      <td>0.932077</td>\n",
       "      <td>0.973252</td>\n",
       "      <td>0.936091</td>\n",
       "      <td>0.952404</td>\n",
       "      <td>0.974617</td>\n",
       "      <td>0.968768</td>\n",
       "      <td>0.958262</td>\n",
       "      <td>0.0167761</td>\n",
       "    </tr>\n",
       "    <tr>\n",
       "      <th>3-50,t,hrd+min</th>\n",
       "      <td>0.658814</td>\n",
       "      <td>0.823106</td>\n",
       "      <td>0.970621</td>\n",
       "      <td>0.95736</td>\n",
       "      <td>0.931854</td>\n",
       "      <td>0.972793</td>\n",
       "      <td>0.936799</td>\n",
       "      <td>0.95204</td>\n",
       "      <td>0.974512</td>\n",
       "      <td>0.968343</td>\n",
       "      <td>0.95804</td>\n",
       "      <td>0.0165909</td>\n",
       "    </tr>\n",
       "    <tr>\n",
       "      <th>3-50,t,hrd</th>\n",
       "      <td>0.657985</td>\n",
       "      <td>0.827491</td>\n",
       "      <td>0.97021</td>\n",
       "      <td>0.958372</td>\n",
       "      <td>0.9327</td>\n",
       "      <td>0.971425</td>\n",
       "      <td>0.936394</td>\n",
       "      <td>0.952335</td>\n",
       "      <td>0.97272</td>\n",
       "      <td>0.967777</td>\n",
       "      <td>0.957742</td>\n",
       "      <td>0.0159471</td>\n",
       "    </tr>\n",
       "    <tr>\n",
       "      <th>3-50,t,tod+dow</th>\n",
       "      <td>0.851903</td>\n",
       "      <td>0.784984</td>\n",
       "      <td>0.923131</td>\n",
       "      <td>0.962704</td>\n",
       "      <td>0.909272</td>\n",
       "      <td>0.951622</td>\n",
       "      <td>0.950916</td>\n",
       "      <td>0.9409</td>\n",
       "      <td>0.962598</td>\n",
       "      <td>0.962776</td>\n",
       "      <td>0.94549</td>\n",
       "      <td>0.0199556</td>\n",
       "    </tr>\n",
       "    <tr>\n",
       "      <th>3-50,t,tod+hr+dow</th>\n",
       "      <td>0.69828</td>\n",
       "      <td>0.739557</td>\n",
       "      <td>0.94492</td>\n",
       "      <td>0.953461</td>\n",
       "      <td>0.863767</td>\n",
       "      <td>0.959489</td>\n",
       "      <td>0.953371</td>\n",
       "      <td>0.936926</td>\n",
       "      <td>0.966559</td>\n",
       "      <td>0.970509</td>\n",
       "      <td>0.943625</td>\n",
       "      <td>0.03405</td>\n",
       "    </tr>\n",
       "    <tr>\n",
       "      <th>3-50,t,tod+hr_min+dow</th>\n",
       "      <td>0.701995</td>\n",
       "      <td>0.740432</td>\n",
       "      <td>0.944577</td>\n",
       "      <td>0.950814</td>\n",
       "      <td>0.860733</td>\n",
       "      <td>0.960628</td>\n",
       "      <td>0.954503</td>\n",
       "      <td>0.936698</td>\n",
       "      <td>0.967237</td>\n",
       "      <td>0.970491</td>\n",
       "      <td>0.94321</td>\n",
       "      <td>0.035167</td>\n",
       "    </tr>\n",
       "    <tr>\n",
       "      <th>3-50,t,tod+hr</th>\n",
       "      <td>0.711395</td>\n",
       "      <td>0.747161</td>\n",
       "      <td>0.944969</td>\n",
       "      <td>0.954326</td>\n",
       "      <td>0.865872</td>\n",
       "      <td>0.959245</td>\n",
       "      <td>0.953471</td>\n",
       "      <td>0.93411</td>\n",
       "      <td>0.961109</td>\n",
       "      <td>0.962836</td>\n",
       "      <td>0.941992</td>\n",
       "      <td>0.0321753</td>\n",
       "    </tr>\n",
       "    <tr>\n",
       "      <th>3-50,t,tod</th>\n",
       "      <td>0.87556</td>\n",
       "      <td>0.792877</td>\n",
       "      <td>0.924455</td>\n",
       "      <td>0.962441</td>\n",
       "      <td>0.909513</td>\n",
       "      <td>0.948239</td>\n",
       "      <td>0.954507</td>\n",
       "      <td>0.933578</td>\n",
       "      <td>0.95417</td>\n",
       "      <td>0.94822</td>\n",
       "      <td>0.94189</td>\n",
       "      <td>0.0178648</td>\n",
       "    </tr>\n",
       "    <tr>\n",
       "      <th>3-50,t,tod+hr_minute</th>\n",
       "      <td>0.717076</td>\n",
       "      <td>0.748344</td>\n",
       "      <td>0.944673</td>\n",
       "      <td>0.951522</td>\n",
       "      <td>0.862749</td>\n",
       "      <td>0.960224</td>\n",
       "      <td>0.95474</td>\n",
       "      <td>0.933598</td>\n",
       "      <td>0.961758</td>\n",
       "      <td>0.962621</td>\n",
       "      <td>0.941486</td>\n",
       "      <td>0.0332889</td>\n",
       "    </tr>\n",
       "    <tr>\n",
       "      <th>3-50,t,hr_min</th>\n",
       "      <td>0.813577</td>\n",
       "      <td>0.707826</td>\n",
       "      <td>0.939223</td>\n",
       "      <td>0.954863</td>\n",
       "      <td>0.873305</td>\n",
       "      <td>0.953229</td>\n",
       "      <td>0.945564</td>\n",
       "      <td>0.917246</td>\n",
       "      <td>0.966457</td>\n",
       "      <td>0.960597</td>\n",
       "      <td>0.93881</td>\n",
       "      <td>0.0304874</td>\n",
       "    </tr>\n",
       "    <tr>\n",
       "      <th>3-50,t,hr</th>\n",
       "      <td>0.812649</td>\n",
       "      <td>0.70679</td>\n",
       "      <td>0.938818</td>\n",
       "      <td>0.956521</td>\n",
       "      <td>0.874844</td>\n",
       "      <td>0.951307</td>\n",
       "      <td>0.942822</td>\n",
       "      <td>0.918092</td>\n",
       "      <td>0.965182</td>\n",
       "      <td>0.960545</td>\n",
       "      <td>0.938516</td>\n",
       "      <td>0.0296984</td>\n",
       "    </tr>\n",
       "    <tr>\n",
       "      <th>3-50,t,dow</th>\n",
       "      <td>0.766177</td>\n",
       "      <td>0.656601</td>\n",
       "      <td>0.88146</td>\n",
       "      <td>0.941257</td>\n",
       "      <td>0.854236</td>\n",
       "      <td>0.897682</td>\n",
       "      <td>0.930433</td>\n",
       "      <td>0.890138</td>\n",
       "      <td>0.945969</td>\n",
       "      <td>0.945667</td>\n",
       "      <td>0.910855</td>\n",
       "      <td>0.0346925</td>\n",
       "    </tr>\n",
       "    <tr>\n",
       "      <th>3-50,t,wk_hr</th>\n",
       "      <td>0.782905</td>\n",
       "      <td>0.658288</td>\n",
       "      <td>0.883199</td>\n",
       "      <td>0.940239</td>\n",
       "      <td>0.852707</td>\n",
       "      <td>0.889829</td>\n",
       "      <td>0.935295</td>\n",
       "      <td>0.880607</td>\n",
       "      <td>0.94317</td>\n",
       "      <td>0.940967</td>\n",
       "      <td>0.908252</td>\n",
       "      <td>0.0355781</td>\n",
       "    </tr>\n",
       "    <tr>\n",
       "      <th>3-50,t,yr</th>\n",
       "      <td>0.839973</td>\n",
       "      <td>0.660413</td>\n",
       "      <td>0.909991</td>\n",
       "      <td>0.943115</td>\n",
       "      <td>0.854543</td>\n",
       "      <td>0.888932</td>\n",
       "      <td>0.942206</td>\n",
       "      <td>0.870789</td>\n",
       "      <td>0.932445</td>\n",
       "      <td>0.922188</td>\n",
       "      <td>0.908026</td>\n",
       "      <td>0.0334063</td>\n",
       "    </tr>\n",
       "    <tr>\n",
       "      <th>3-50,t,yr_mnth</th>\n",
       "      <td>0.836468</td>\n",
       "      <td>0.662215</td>\n",
       "      <td>0.90973</td>\n",
       "      <td>0.943151</td>\n",
       "      <td>0.854471</td>\n",
       "      <td>0.889016</td>\n",
       "      <td>0.942408</td>\n",
       "      <td>0.870731</td>\n",
       "      <td>0.932145</td>\n",
       "      <td>0.922254</td>\n",
       "      <td>0.907988</td>\n",
       "      <td>0.0334309</td>\n",
       "    </tr>\n",
       "    <tr>\n",
       "      <th>3-50,t,e</th>\n",
       "      <td>0.826563</td>\n",
       "      <td>0.662384</td>\n",
       "      <td>0.884011</td>\n",
       "      <td>0.940543</td>\n",
       "      <td>0.853483</td>\n",
       "      <td>0.887503</td>\n",
       "      <td>0.94079</td>\n",
       "      <td>0.869595</td>\n",
       "      <td>0.932592</td>\n",
       "      <td>0.924035</td>\n",
       "      <td>0.904069</td>\n",
       "      <td>0.0344657</td>\n",
       "    </tr>\n",
       "    <tr>\n",
       "      <th>3-50</th>\n",
       "      <td>0.839623</td>\n",
       "      <td>0.66036</td>\n",
       "      <td>0.883565</td>\n",
       "      <td>0.94031</td>\n",
       "      <td>0.853747</td>\n",
       "      <td>0.886663</td>\n",
       "      <td>0.939052</td>\n",
       "      <td>0.870371</td>\n",
       "      <td>0.93321</td>\n",
       "      <td>0.923106</td>\n",
       "      <td>0.903753</td>\n",
       "      <td>0.0340989</td>\n",
       "    </tr>\n",
       "    <tr>\n",
       "      <th>3-50,t,day</th>\n",
       "      <td>0.745711</td>\n",
       "      <td>0.628757</td>\n",
       "      <td>0.885447</td>\n",
       "      <td>0.941617</td>\n",
       "      <td>0.853149</td>\n",
       "      <td>0.886753</td>\n",
       "      <td>0.93393</td>\n",
       "      <td>0.866783</td>\n",
       "      <td>0.93358</td>\n",
       "      <td>0.925197</td>\n",
       "      <td>0.903307</td>\n",
       "      <td>0.0343175</td>\n",
       "    </tr>\n",
       "    <tr>\n",
       "      <th>3-50,t,min</th>\n",
       "      <td>0.837456</td>\n",
       "      <td>0.657543</td>\n",
       "      <td>0.882634</td>\n",
       "      <td>0.936942</td>\n",
       "      <td>0.846457</td>\n",
       "      <td>0.889437</td>\n",
       "      <td>0.939765</td>\n",
       "      <td>0.869919</td>\n",
       "      <td>0.933188</td>\n",
       "      <td>0.923149</td>\n",
       "      <td>0.902687</td>\n",
       "      <td>0.0352751</td>\n",
       "    </tr>\n",
       "    <tr>\n",
       "      <th>3-50,t,mnth</th>\n",
       "      <td>0.823581</td>\n",
       "      <td>0.661893</td>\n",
       "      <td>0.869113</td>\n",
       "      <td>0.941462</td>\n",
       "      <td>0.855081</td>\n",
       "      <td>0.888473</td>\n",
       "      <td>0.939985</td>\n",
       "      <td>0.87148</td>\n",
       "      <td>0.933726</td>\n",
       "      <td>0.922016</td>\n",
       "      <td>0.902667</td>\n",
       "      <td>0.0354583</td>\n",
       "    </tr>\n",
       "    <tr>\n",
       "      <th>3-50,t,we</th>\n",
       "      <td>0.851682</td>\n",
       "      <td>0.674492</td>\n",
       "      <td>0.70733</td>\n",
       "      <td>0.942672</td>\n",
       "      <td>0.853521</td>\n",
       "      <td>0.893326</td>\n",
       "      <td>0.926228</td>\n",
       "      <td>0.877804</td>\n",
       "      <td>0.935762</td>\n",
       "      <td>0.922943</td>\n",
       "      <td>0.882448</td>\n",
       "      <td>0.0771536</td>\n",
       "    </tr>\n",
       "    <tr>\n",
       "      <th>3-50,t,dowd</th>\n",
       "      <td>0.764269</td>\n",
       "      <td>0.719474</td>\n",
       "      <td>0.765747</td>\n",
       "      <td>0.958888</td>\n",
       "      <td>0.907532</td>\n",
       "      <td>0.937296</td>\n",
       "      <td>0.926483</td>\n",
       "      <td>0.918953</td>\n",
       "      <td>0.676169</td>\n",
       "      <td>0.944352</td>\n",
       "      <td>0.879427</td>\n",
       "      <td>0.101897</td>\n",
       "    </tr>\n",
       "  </tbody>\n",
       "</table>\n",
       "</div>"
      ],
      "text/plain": [
       "                          split0    split1    split2    split3    split4  \\\n",
       "3-50,t,tod+hrd          0.645578  0.825359  0.970616  0.957939  0.932725   \n",
       "3-50,t,tod+hrd+min+dow  0.648373  0.823983  0.970676  0.957692  0.932374   \n",
       "3-50,t,hrd+min+dow      0.643118  0.821476  0.970481  0.957017  0.931983   \n",
       "3-50,t,hrd+dow          0.646637  0.827737  0.970234   0.95871  0.933116   \n",
       "3-50,t,tod+hrd+dow      0.646637  0.827737  0.970234   0.95871  0.933116   \n",
       "3-50,t,tod+hrd+min      0.663267  0.825142  0.970752  0.958137  0.932077   \n",
       "3-50,t,hrd+min          0.658814  0.823106  0.970621   0.95736  0.931854   \n",
       "3-50,t,hrd              0.657985  0.827491   0.97021  0.958372    0.9327   \n",
       "3-50,t,tod+dow          0.851903  0.784984  0.923131  0.962704  0.909272   \n",
       "3-50,t,tod+hr+dow        0.69828  0.739557   0.94492  0.953461  0.863767   \n",
       "3-50,t,tod+hr_min+dow   0.701995  0.740432  0.944577  0.950814  0.860733   \n",
       "3-50,t,tod+hr           0.711395  0.747161  0.944969  0.954326  0.865872   \n",
       "3-50,t,tod               0.87556  0.792877  0.924455  0.962441  0.909513   \n",
       "3-50,t,tod+hr_minute    0.717076  0.748344  0.944673  0.951522  0.862749   \n",
       "3-50,t,hr_min           0.813577  0.707826  0.939223  0.954863  0.873305   \n",
       "3-50,t,hr               0.812649   0.70679  0.938818  0.956521  0.874844   \n",
       "3-50,t,dow              0.766177  0.656601   0.88146  0.941257  0.854236   \n",
       "3-50,t,wk_hr            0.782905  0.658288  0.883199  0.940239  0.852707   \n",
       "3-50,t,yr               0.839973  0.660413  0.909991  0.943115  0.854543   \n",
       "3-50,t,yr_mnth          0.836468  0.662215   0.90973  0.943151  0.854471   \n",
       "3-50,t,e                0.826563  0.662384  0.884011  0.940543  0.853483   \n",
       "3-50                    0.839623   0.66036  0.883565   0.94031  0.853747   \n",
       "3-50,t,day              0.745711  0.628757  0.885447  0.941617  0.853149   \n",
       "3-50,t,min              0.837456  0.657543  0.882634  0.936942  0.846457   \n",
       "3-50,t,mnth             0.823581  0.661893  0.869113  0.941462  0.855081   \n",
       "3-50,t,we               0.851682  0.674492   0.70733  0.942672  0.853521   \n",
       "3-50,t,dowd             0.764269  0.719474  0.765747  0.958888  0.907532   \n",
       "\n",
       "                          split5    split6    split7    split8    split9  \\\n",
       "3-50,t,tod+hrd          0.973363  0.933736  0.953334  0.975059  0.974141   \n",
       "3-50,t,tod+hrd+min+dow  0.973294  0.934503  0.953111   0.97531   0.97393   \n",
       "3-50,t,hrd+min+dow      0.972624  0.936072  0.952478  0.975231  0.973151   \n",
       "3-50,t,hrd+dow          0.971547  0.934846  0.952838  0.973476  0.972942   \n",
       "3-50,t,tod+hrd+dow      0.971547  0.934846  0.952838  0.973476  0.972942   \n",
       "3-50,t,tod+hrd+min      0.973252  0.936091  0.952404  0.974617  0.968768   \n",
       "3-50,t,hrd+min          0.972793  0.936799   0.95204  0.974512  0.968343   \n",
       "3-50,t,hrd              0.971425  0.936394  0.952335   0.97272  0.967777   \n",
       "3-50,t,tod+dow          0.951622  0.950916    0.9409  0.962598  0.962776   \n",
       "3-50,t,tod+hr+dow       0.959489  0.953371  0.936926  0.966559  0.970509   \n",
       "3-50,t,tod+hr_min+dow   0.960628  0.954503  0.936698  0.967237  0.970491   \n",
       "3-50,t,tod+hr           0.959245  0.953471   0.93411  0.961109  0.962836   \n",
       "3-50,t,tod              0.948239  0.954507  0.933578   0.95417   0.94822   \n",
       "3-50,t,tod+hr_minute    0.960224   0.95474  0.933598  0.961758  0.962621   \n",
       "3-50,t,hr_min           0.953229  0.945564  0.917246  0.966457  0.960597   \n",
       "3-50,t,hr               0.951307  0.942822  0.918092  0.965182  0.960545   \n",
       "3-50,t,dow              0.897682  0.930433  0.890138  0.945969  0.945667   \n",
       "3-50,t,wk_hr            0.889829  0.935295  0.880607   0.94317  0.940967   \n",
       "3-50,t,yr               0.888932  0.942206  0.870789  0.932445  0.922188   \n",
       "3-50,t,yr_mnth          0.889016  0.942408  0.870731  0.932145  0.922254   \n",
       "3-50,t,e                0.887503   0.94079  0.869595  0.932592  0.924035   \n",
       "3-50                    0.886663  0.939052  0.870371   0.93321  0.923106   \n",
       "3-50,t,day              0.886753   0.93393  0.866783   0.93358  0.925197   \n",
       "3-50,t,min              0.889437  0.939765  0.869919  0.933188  0.923149   \n",
       "3-50,t,mnth             0.888473  0.939985   0.87148  0.933726  0.922016   \n",
       "3-50,t,we               0.893326  0.926228  0.877804  0.935762  0.922943   \n",
       "3-50,t,dowd             0.937296  0.926483  0.918953  0.676169  0.944352   \n",
       "\n",
       "                            mean        std  \n",
       "3-50,t,tod+hrd          0.958864  0.0176882  \n",
       "3-50,t,tod+hrd+min+dow  0.958861  0.0176264  \n",
       "3-50,t,hrd+min+dow       0.95863  0.0172467  \n",
       "3-50,t,hrd+dow          0.958463  0.0168043  \n",
       "3-50,t,tod+hrd+dow      0.958463  0.0168043  \n",
       "3-50,t,tod+hrd+min      0.958262  0.0167761  \n",
       "3-50,t,hrd+min           0.95804  0.0165909  \n",
       "3-50,t,hrd              0.957742  0.0159471  \n",
       "3-50,t,tod+dow           0.94549  0.0199556  \n",
       "3-50,t,tod+hr+dow       0.943625    0.03405  \n",
       "3-50,t,tod+hr_min+dow    0.94321   0.035167  \n",
       "3-50,t,tod+hr           0.941992  0.0321753  \n",
       "3-50,t,tod               0.94189  0.0178648  \n",
       "3-50,t,tod+hr_minute    0.941486  0.0332889  \n",
       "3-50,t,hr_min            0.93881  0.0304874  \n",
       "3-50,t,hr               0.938516  0.0296984  \n",
       "3-50,t,dow              0.910855  0.0346925  \n",
       "3-50,t,wk_hr            0.908252  0.0355781  \n",
       "3-50,t,yr               0.908026  0.0334063  \n",
       "3-50,t,yr_mnth          0.907988  0.0334309  \n",
       "3-50,t,e                0.904069  0.0344657  \n",
       "3-50                    0.903753  0.0340989  \n",
       "3-50,t,day              0.903307  0.0343175  \n",
       "3-50,t,min              0.902687  0.0352751  \n",
       "3-50,t,mnth             0.902667  0.0354583  \n",
       "3-50,t,we               0.882448  0.0771536  \n",
       "3-50,t,dowd             0.879427   0.101897  "
      ]
     },
     "execution_count": 50,
     "metadata": {},
     "output_type": "execute_result"
    }
   ],
   "source": [
    "cvrsdf = cvrs_to_df(cvrs).loc[:,cvrs_cols].sort_values(\"mean\",ascending=False)\n",
    "idx = [ i for i in cvrsdf.index if re.match(r\"^3-50(,t,.*)?$\",i)]\n",
    "cvrsdf.loc[idx]"
   ]
  },
  {
   "cell_type": "markdown",
   "metadata": {},
   "source": [
    "Отобразим на графике ROC-AUC по фолдам:"
   ]
  },
  {
   "cell_type": "code",
   "execution_count": 51,
   "metadata": {},
   "outputs": [
    {
     "data": {
      "image/png": "[encoded data removed]",
      "text/plain": [
       "<Figure size 1152x576 with 1 Axes>"
      ]
     },
     "metadata": {
      "needs_background": "light"
     },
     "output_type": "display_data"
    }
   ],
   "source": [
    "models = [\n",
    "    \"3-50,t,tod+hrd\",\n",
    "    \"3-50,t,hrd\",\n",
    "#    \"3-50,t,tod+hrd+min+dow\",\n",
    "#    \"3-50,t,hrd+min+dow\",\n",
    "#     \"3-50,t,hrd+dow\",\n",
    "#     \"3-50,t,tod+hrd+dow\",\n",
    "#     \"3-50,t,tod+hrd+min\",\n",
    "#     \"3-50,t,hrd+min\",\n",
    "#     \"3-50,t,tod+hr\",\n",
    "#     \"3-50,t,hr\",\n",
    "#    \"3-50,t,dow\",\n",
    "    \"3-50,t,tod\",\n",
    "    \"3-50\",\n",
    "#     \"3-50,t,dowd\",\n",
    "]\n",
    "\n",
    "plt.figure(figsize=(16, 8))\n",
    "for model in models:\n",
    "    plt.plot(spl[2:], cvrsdf.loc[model, spl[2:]].values, label=model)\n",
    "plt.legend()\n",
    "plt.ylabel(\"ROC-AUC\")\n",
    "plt.grid()"
   ]
  },
  {
   "cell_type": "markdown",
   "metadata": {},
   "source": [
    "Остановимся на связке tod и hdr."
   ]
  },
  {
   "cell_type": "markdown",
   "metadata": {},
   "source": [
    "## 4. Изучим влияние интервальных признаков"
   ]
  },
  {
   "cell_type": "code",
   "execution_count": 52,
   "metadata": {
    "scrolled": true
   },
   "outputs": [
    {
     "data": {
      "text/plain": [
       "['tdiff1',\n",
       " 'tdiff2',\n",
       " 'tdiff3',\n",
       " 'tdiff4',\n",
       " 'tdiff5',\n",
       " 'tdiff6',\n",
       " 'tdiff7',\n",
       " 'tdiff8',\n",
       " 'tdiff9',\n",
       " 'tdiff_mean',\n",
       " 'tdiff_median',\n",
       " 'tdiff_std',\n",
       " 'tdiff_mad',\n",
       " 'tdiff_short_mean',\n",
       " 'tdiff_short_median',\n",
       " 'tdiff_short_std',\n",
       " 'tdiff_short_mad',\n",
       " 'session_duration']"
      ]
     },
     "execution_count": 52,
     "metadata": {},
     "output_type": "execute_result"
    }
   ],
   "source": [
    "[c for c in fe_train.columns if re.match(r\"^tdiff.*$\",c)] + [\"session_duration\"]"
   ]
  },
  {
   "cell_type": "code",
   "execution_count": 53,
   "metadata": {},
   "outputs": [
    {
     "name": "stdout",
     "output_type": "stream",
     "text": [
      "3-50,i,tds\n"
     ]
    },
    {
     "data": {
      "application/vnd.jupyter.widget-view+json": {
       "model_id": "0205ef91cc8b407fbad8bea1fd7193bc",
       "version_major": 2,
       "version_minor": 0
      },
      "text/plain": [
       "HBox(children=(FloatProgress(value=0.0, max=5.0), HTML(value='')))"
      ]
     },
     "metadata": {},
     "output_type": "display_data"
    },
    {
     "name": "stdout",
     "output_type": "stream",
     "text": [
      "\n",
      "3-50,i,td_mean\n"
     ]
    },
    {
     "data": {
      "application/vnd.jupyter.widget-view+json": {
       "model_id": "650bbd6f285b41bc93fe9c35e8a583c5",
       "version_major": 2,
       "version_minor": 0
      },
      "text/plain": [
       "HBox(children=(FloatProgress(value=0.0, max=5.0), HTML(value='')))"
      ]
     },
     "metadata": {},
     "output_type": "display_data"
    },
    {
     "name": "stdout",
     "output_type": "stream",
     "text": [
      "\n",
      "3-50,i,td_medain\n"
     ]
    },
    {
     "data": {
      "application/vnd.jupyter.widget-view+json": {
       "model_id": "3d6af43ff1184eccb452c1b826f0c64c",
       "version_major": 2,
       "version_minor": 0
      },
      "text/plain": [
       "HBox(children=(FloatProgress(value=0.0, max=5.0), HTML(value='')))"
      ]
     },
     "metadata": {},
     "output_type": "display_data"
    },
    {
     "name": "stdout",
     "output_type": "stream",
     "text": [
      "\n",
      "3-50,i,td_meanstd\n"
     ]
    },
    {
     "data": {
      "application/vnd.jupyter.widget-view+json": {
       "model_id": "b70f44f3bbd842b89260677f4ebfe56c",
       "version_major": 2,
       "version_minor": 0
      },
      "text/plain": [
       "HBox(children=(FloatProgress(value=0.0, max=5.0), HTML(value='')))"
      ]
     },
     "metadata": {},
     "output_type": "display_data"
    },
    {
     "name": "stdout",
     "output_type": "stream",
     "text": [
      "\n",
      "3-50,i,td_medainmad\n"
     ]
    },
    {
     "data": {
      "application/vnd.jupyter.widget-view+json": {
       "model_id": "93b632732df34e30ae2efe1c4b6ae76c",
       "version_major": 2,
       "version_minor": 0
      },
      "text/plain": [
       "HBox(children=(FloatProgress(value=0.0, max=5.0), HTML(value='')))"
      ]
     },
     "metadata": {},
     "output_type": "display_data"
    },
    {
     "name": "stdout",
     "output_type": "stream",
     "text": [
      "\n",
      "3-50,i,td_allstats\n"
     ]
    },
    {
     "data": {
      "application/vnd.jupyter.widget-view+json": {
       "model_id": "7408b8c873dc4754a43a75d83cc09c9e",
       "version_major": 2,
       "version_minor": 0
      },
      "text/plain": [
       "HBox(children=(FloatProgress(value=0.0, max=5.0), HTML(value='')))"
      ]
     },
     "metadata": {},
     "output_type": "display_data"
    },
    {
     "name": "stdout",
     "output_type": "stream",
     "text": [
      "\n",
      "3-50,i,sd\n"
     ]
    },
    {
     "data": {
      "application/vnd.jupyter.widget-view+json": {
       "model_id": "b857f3952a3d45c99a5c834f434f0eb3",
       "version_major": 2,
       "version_minor": 0
      },
      "text/plain": [
       "HBox(children=(FloatProgress(value=0.0, max=5.0), HTML(value='')))"
      ]
     },
     "metadata": {},
     "output_type": "display_data"
    },
    {
     "name": "stdout",
     "output_type": "stream",
     "text": [
      "\n",
      "3-50,i,td_short_meanstd\n"
     ]
    },
    {
     "data": {
      "application/vnd.jupyter.widget-view+json": {
       "model_id": "f1524890ca954215b6887ee43607cafb",
       "version_major": 2,
       "version_minor": 0
      },
      "text/plain": [
       "HBox(children=(FloatProgress(value=0.0, max=5.0), HTML(value='')))"
      ]
     },
     "metadata": {},
     "output_type": "display_data"
    },
    {
     "name": "stdout",
     "output_type": "stream",
     "text": [
      "\n",
      "CPU times: user 7.6 s, sys: 1.19 s, total: 8.79 s\n",
      "Wall time: 15min 30s\n"
     ]
    }
   ],
   "source": [
    "%%time\n",
    "\n",
    "ft_scale = tdiff_cols\n",
    "print(f\"{base_name},i,tds\")\n",
    "cvrs[f\"{base_name},i,tds\"] = cvtest_model(base_X, ft_scale=ft_scale)\n",
    "\n",
    "ft = {\n",
    "    \"td_mean\": [\"tdiff_mean\"],\n",
    "    \"td_medain\": [\"tdiff_median\"],\n",
    "    \"td_meanstd\": [\"tdiff_mean\",\"tdiff_std\"],\n",
    "    \"td_medainmad\": [\"tdiff_median\",\"tdiff_mad\"],\n",
    "    \"td_allstats\": [\"tdiff_mean\",\"tdiff_std\",\"tdiff_median\",\"tdiff_mad\"],\n",
    "    \"sd\": [\"session_duration\"],\n",
    "    \"td_short_meanstd\": [\"tdiff_short_mean\",\"tdiff_short_std\"],\n",
    "}\n",
    "\n",
    "for n, f in ft.items():\n",
    "    print(f\"{base_name},i,{n}\")\n",
    "    cvrs[f\"{base_name},i,{n}\"] = cvtest_model(base_X, ft_scale=f)"
   ]
  },
  {
   "cell_type": "code",
   "execution_count": 54,
   "metadata": {
    "scrolled": false
   },
   "outputs": [
    {
     "data": {
      "text/html": [
       "<div>\n",
       "<style scoped>\n",
       "    .dataframe tbody tr th:only-of-type {\n",
       "        vertical-align: middle;\n",
       "    }\n",
       "\n",
       "    .dataframe tbody tr th {\n",
       "        vertical-align: top;\n",
       "    }\n",
       "\n",
       "    .dataframe thead th {\n",
       "        text-align: right;\n",
       "    }\n",
       "</style>\n",
       "<table border=\"1\" class=\"dataframe\">\n",
       "  <thead>\n",
       "    <tr style=\"text-align: right;\">\n",
       "      <th></th>\n",
       "      <th>split0</th>\n",
       "      <th>split1</th>\n",
       "      <th>split2</th>\n",
       "      <th>split3</th>\n",
       "      <th>split4</th>\n",
       "      <th>split5</th>\n",
       "      <th>split6</th>\n",
       "      <th>split7</th>\n",
       "      <th>split8</th>\n",
       "      <th>split9</th>\n",
       "      <th>mean</th>\n",
       "      <th>std</th>\n",
       "    </tr>\n",
       "  </thead>\n",
       "  <tbody>\n",
       "    <tr>\n",
       "      <th>3-50,i,td_meanstd</th>\n",
       "      <td>0.831975</td>\n",
       "      <td>0.663852</td>\n",
       "      <td>0.884409</td>\n",
       "      <td>0.941592</td>\n",
       "      <td>0.855368</td>\n",
       "      <td>0.888896</td>\n",
       "      <td>0.939589</td>\n",
       "      <td>0.871799</td>\n",
       "      <td>0.934558</td>\n",
       "      <td>0.923775</td>\n",
       "      <td>0.904998</td>\n",
       "      <td>0.0338284</td>\n",
       "    </tr>\n",
       "    <tr>\n",
       "      <th>3-50,i,td_mean</th>\n",
       "      <td>0.831292</td>\n",
       "      <td>0.663936</td>\n",
       "      <td>0.88425</td>\n",
       "      <td>0.94144</td>\n",
       "      <td>0.855303</td>\n",
       "      <td>0.888899</td>\n",
       "      <td>0.939569</td>\n",
       "      <td>0.871814</td>\n",
       "      <td>0.934556</td>\n",
       "      <td>0.92386</td>\n",
       "      <td>0.904961</td>\n",
       "      <td>0.0338338</td>\n",
       "    </tr>\n",
       "    <tr>\n",
       "      <th>3-50,i,sd</th>\n",
       "      <td>0.831292</td>\n",
       "      <td>0.663936</td>\n",
       "      <td>0.884256</td>\n",
       "      <td>0.94144</td>\n",
       "      <td>0.855303</td>\n",
       "      <td>0.888899</td>\n",
       "      <td>0.939569</td>\n",
       "      <td>0.871809</td>\n",
       "      <td>0.934556</td>\n",
       "      <td>0.923858</td>\n",
       "      <td>0.904961</td>\n",
       "      <td>0.0338338</td>\n",
       "    </tr>\n",
       "    <tr>\n",
       "      <th>3-50,i,td_allstats</th>\n",
       "      <td>0.831431</td>\n",
       "      <td>0.66199</td>\n",
       "      <td>0.884281</td>\n",
       "      <td>0.941372</td>\n",
       "      <td>0.855283</td>\n",
       "      <td>0.888828</td>\n",
       "      <td>0.939393</td>\n",
       "      <td>0.871689</td>\n",
       "      <td>0.934656</td>\n",
       "      <td>0.923734</td>\n",
       "      <td>0.904904</td>\n",
       "      <td>0.033824</td>\n",
       "    </tr>\n",
       "    <tr>\n",
       "      <th>3-50,i,td_short_meanstd</th>\n",
       "      <td>0.827448</td>\n",
       "      <td>0.662755</td>\n",
       "      <td>0.883306</td>\n",
       "      <td>0.941212</td>\n",
       "      <td>0.855464</td>\n",
       "      <td>0.888933</td>\n",
       "      <td>0.939576</td>\n",
       "      <td>0.87176</td>\n",
       "      <td>0.934585</td>\n",
       "      <td>0.923805</td>\n",
       "      <td>0.90483</td>\n",
       "      <td>0.0338548</td>\n",
       "    </tr>\n",
       "    <tr>\n",
       "      <th>3-50,i,td_medain</th>\n",
       "      <td>0.837909</td>\n",
       "      <td>0.661291</td>\n",
       "      <td>0.88453</td>\n",
       "      <td>0.940806</td>\n",
       "      <td>0.854192</td>\n",
       "      <td>0.887547</td>\n",
       "      <td>0.939777</td>\n",
       "      <td>0.870554</td>\n",
       "      <td>0.934198</td>\n",
       "      <td>0.922824</td>\n",
       "      <td>0.904303</td>\n",
       "      <td>0.0341205</td>\n",
       "    </tr>\n",
       "    <tr>\n",
       "      <th>3-50,i,td_medainmad</th>\n",
       "      <td>0.838046</td>\n",
       "      <td>0.65881</td>\n",
       "      <td>0.884009</td>\n",
       "      <td>0.940834</td>\n",
       "      <td>0.854404</td>\n",
       "      <td>0.887408</td>\n",
       "      <td>0.939838</td>\n",
       "      <td>0.870632</td>\n",
       "      <td>0.934191</td>\n",
       "      <td>0.922773</td>\n",
       "      <td>0.904261</td>\n",
       "      <td>0.0341272</td>\n",
       "    </tr>\n",
       "    <tr>\n",
       "      <th>3-50,i,tds</th>\n",
       "      <td>0.825475</td>\n",
       "      <td>0.663753</td>\n",
       "      <td>0.876545</td>\n",
       "      <td>0.942093</td>\n",
       "      <td>0.854372</td>\n",
       "      <td>0.88939</td>\n",
       "      <td>0.93982</td>\n",
       "      <td>0.872229</td>\n",
       "      <td>0.934952</td>\n",
       "      <td>0.923626</td>\n",
       "      <td>0.904128</td>\n",
       "      <td>0.0348811</td>\n",
       "    </tr>\n",
       "    <tr>\n",
       "      <th>3-50</th>\n",
       "      <td>0.839623</td>\n",
       "      <td>0.66036</td>\n",
       "      <td>0.883565</td>\n",
       "      <td>0.94031</td>\n",
       "      <td>0.853747</td>\n",
       "      <td>0.886663</td>\n",
       "      <td>0.939052</td>\n",
       "      <td>0.870371</td>\n",
       "      <td>0.93321</td>\n",
       "      <td>0.923106</td>\n",
       "      <td>0.903753</td>\n",
       "      <td>0.0340989</td>\n",
       "    </tr>\n",
       "  </tbody>\n",
       "</table>\n",
       "</div>"
      ],
      "text/plain": [
       "                           split0    split1    split2    split3    split4  \\\n",
       "3-50,i,td_meanstd        0.831975  0.663852  0.884409  0.941592  0.855368   \n",
       "3-50,i,td_mean           0.831292  0.663936   0.88425   0.94144  0.855303   \n",
       "3-50,i,sd                0.831292  0.663936  0.884256   0.94144  0.855303   \n",
       "3-50,i,td_allstats       0.831431   0.66199  0.884281  0.941372  0.855283   \n",
       "3-50,i,td_short_meanstd  0.827448  0.662755  0.883306  0.941212  0.855464   \n",
       "3-50,i,td_medain         0.837909  0.661291   0.88453  0.940806  0.854192   \n",
       "3-50,i,td_medainmad      0.838046   0.65881  0.884009  0.940834  0.854404   \n",
       "3-50,i,tds               0.825475  0.663753  0.876545  0.942093  0.854372   \n",
       "3-50                     0.839623   0.66036  0.883565   0.94031  0.853747   \n",
       "\n",
       "                           split5    split6    split7    split8    split9  \\\n",
       "3-50,i,td_meanstd        0.888896  0.939589  0.871799  0.934558  0.923775   \n",
       "3-50,i,td_mean           0.888899  0.939569  0.871814  0.934556   0.92386   \n",
       "3-50,i,sd                0.888899  0.939569  0.871809  0.934556  0.923858   \n",
       "3-50,i,td_allstats       0.888828  0.939393  0.871689  0.934656  0.923734   \n",
       "3-50,i,td_short_meanstd  0.888933  0.939576   0.87176  0.934585  0.923805   \n",
       "3-50,i,td_medain         0.887547  0.939777  0.870554  0.934198  0.922824   \n",
       "3-50,i,td_medainmad      0.887408  0.939838  0.870632  0.934191  0.922773   \n",
       "3-50,i,tds                0.88939   0.93982  0.872229  0.934952  0.923626   \n",
       "3-50                     0.886663  0.939052  0.870371   0.93321  0.923106   \n",
       "\n",
       "                             mean        std  \n",
       "3-50,i,td_meanstd        0.904998  0.0338284  \n",
       "3-50,i,td_mean           0.904961  0.0338338  \n",
       "3-50,i,sd                0.904961  0.0338338  \n",
       "3-50,i,td_allstats       0.904904   0.033824  \n",
       "3-50,i,td_short_meanstd   0.90483  0.0338548  \n",
       "3-50,i,td_medain         0.904303  0.0341205  \n",
       "3-50,i,td_medainmad      0.904261  0.0341272  \n",
       "3-50,i,tds               0.904128  0.0348811  \n",
       "3-50                     0.903753  0.0340989  "
      ]
     },
     "execution_count": 54,
     "metadata": {},
     "output_type": "execute_result"
    }
   ],
   "source": [
    "cvrsdf = cvrs_to_df(cvrs).loc[:,cvrs_cols].sort_values(\"mean\",ascending=False)\n",
    "idx = [ i for i in cvrsdf.index if re.match(r\"^3-50(,i,.*)?$\",i)]\n",
    "cvrsdf.loc[idx]"
   ]
  },
  {
   "cell_type": "code",
   "execution_count": 55,
   "metadata": {},
   "outputs": [
    {
     "name": "stdout",
     "output_type": "stream",
     "text": [
      "3-50,i,td+sd\n"
     ]
    },
    {
     "data": {
      "application/vnd.jupyter.widget-view+json": {
       "model_id": "9d4e4bf221794d5db1a631653248532b",
       "version_major": 2,
       "version_minor": 0
      },
      "text/plain": [
       "HBox(children=(FloatProgress(value=0.0, max=5.0), HTML(value='')))"
      ]
     },
     "metadata": {},
     "output_type": "display_data"
    },
    {
     "name": "stdout",
     "output_type": "stream",
     "text": [
      "\n",
      "3-50,i,tds+sd\n"
     ]
    },
    {
     "data": {
      "application/vnd.jupyter.widget-view+json": {
       "model_id": "652e49acf5df4727b64d2bef9e4ffe16",
       "version_major": 2,
       "version_minor": 0
      },
      "text/plain": [
       "HBox(children=(FloatProgress(value=0.0, max=5.0), HTML(value='')))"
      ]
     },
     "metadata": {},
     "output_type": "display_data"
    },
    {
     "name": "stdout",
     "output_type": "stream",
     "text": [
      "\n",
      "3-50,i,tds+td\n"
     ]
    },
    {
     "data": {
      "application/vnd.jupyter.widget-view+json": {
       "model_id": "c79a4ea68b1c4018b87324c0c25f3a58",
       "version_major": 2,
       "version_minor": 0
      },
      "text/plain": [
       "HBox(children=(FloatProgress(value=0.0, max=5.0), HTML(value='')))"
      ]
     },
     "metadata": {},
     "output_type": "display_data"
    },
    {
     "name": "stdout",
     "output_type": "stream",
     "text": [
      "\n",
      "3-50,i,tds+td+sd\n"
     ]
    },
    {
     "data": {
      "application/vnd.jupyter.widget-view+json": {
       "model_id": "33add9db4db048219078ccc5df62eea7",
       "version_major": 2,
       "version_minor": 0
      },
      "text/plain": [
       "HBox(children=(FloatProgress(value=0.0, max=5.0), HTML(value='')))"
      ]
     },
     "metadata": {},
     "output_type": "display_data"
    },
    {
     "name": "stdout",
     "output_type": "stream",
     "text": [
      "\n",
      "CPU times: user 4.14 s, sys: 688 ms, total: 4.83 s\n",
      "Wall time: 23min 1s\n"
     ]
    }
   ],
   "source": [
    "%%time\n",
    "\n",
    "ft = {\n",
    "    \"td+sd\": [\"tdiff_mean\",\"tdiff_std\",\"session_duration\"],\n",
    "    \"tds+sd\": tdiff_cols + [\"session_duration\"],\n",
    "    \"tds+td\": tdiff_cols + [\"tdiff_mean\",\"tdiff_std\"],\n",
    "    \"tds+td+sd\": tdiff_cols + [\"tdiff_mean\",\"tdiff_std\",\"session_duration\"],\n",
    "}\n",
    "\n",
    "for n, f in ft.items():\n",
    "    print(f\"{base_name},i,{n}\")\n",
    "    cvrs[f\"{base_name},i,{n}\"] = cvtest_model(base_X, ft_scale=f)"
   ]
  },
  {
   "cell_type": "code",
   "execution_count": 56,
   "metadata": {
    "scrolled": true
   },
   "outputs": [
    {
     "data": {
      "text/html": [
       "<div>\n",
       "<style scoped>\n",
       "    .dataframe tbody tr th:only-of-type {\n",
       "        vertical-align: middle;\n",
       "    }\n",
       "\n",
       "    .dataframe tbody tr th {\n",
       "        vertical-align: top;\n",
       "    }\n",
       "\n",
       "    .dataframe thead th {\n",
       "        text-align: right;\n",
       "    }\n",
       "</style>\n",
       "<table border=\"1\" class=\"dataframe\">\n",
       "  <thead>\n",
       "    <tr style=\"text-align: right;\">\n",
       "      <th></th>\n",
       "      <th>split0</th>\n",
       "      <th>split1</th>\n",
       "      <th>split2</th>\n",
       "      <th>split3</th>\n",
       "      <th>split4</th>\n",
       "      <th>split5</th>\n",
       "      <th>split6</th>\n",
       "      <th>split7</th>\n",
       "      <th>split8</th>\n",
       "      <th>split9</th>\n",
       "      <th>mean</th>\n",
       "      <th>std</th>\n",
       "    </tr>\n",
       "  </thead>\n",
       "  <tbody>\n",
       "    <tr>\n",
       "      <th>3-50,i,td+sd</th>\n",
       "      <td>0.831872</td>\n",
       "      <td>0.663854</td>\n",
       "      <td>0.884417</td>\n",
       "      <td>0.941611</td>\n",
       "      <td>0.855383</td>\n",
       "      <td>0.888891</td>\n",
       "      <td>0.939581</td>\n",
       "      <td>0.871804</td>\n",
       "      <td>0.934554</td>\n",
       "      <td>0.923777</td>\n",
       "      <td>0.905002</td>\n",
       "      <td>0.0338255</td>\n",
       "    </tr>\n",
       "    <tr>\n",
       "      <th>3-50,i,td_meanstd</th>\n",
       "      <td>0.831975</td>\n",
       "      <td>0.663852</td>\n",
       "      <td>0.884409</td>\n",
       "      <td>0.941592</td>\n",
       "      <td>0.855368</td>\n",
       "      <td>0.888896</td>\n",
       "      <td>0.939589</td>\n",
       "      <td>0.871799</td>\n",
       "      <td>0.934558</td>\n",
       "      <td>0.923775</td>\n",
       "      <td>0.904998</td>\n",
       "      <td>0.0338284</td>\n",
       "    </tr>\n",
       "    <tr>\n",
       "      <th>3-50,i,td_mean</th>\n",
       "      <td>0.831292</td>\n",
       "      <td>0.663936</td>\n",
       "      <td>0.88425</td>\n",
       "      <td>0.94144</td>\n",
       "      <td>0.855303</td>\n",
       "      <td>0.888899</td>\n",
       "      <td>0.939569</td>\n",
       "      <td>0.871814</td>\n",
       "      <td>0.934556</td>\n",
       "      <td>0.92386</td>\n",
       "      <td>0.904961</td>\n",
       "      <td>0.0338338</td>\n",
       "    </tr>\n",
       "    <tr>\n",
       "      <th>3-50,i,sd</th>\n",
       "      <td>0.831292</td>\n",
       "      <td>0.663936</td>\n",
       "      <td>0.884256</td>\n",
       "      <td>0.94144</td>\n",
       "      <td>0.855303</td>\n",
       "      <td>0.888899</td>\n",
       "      <td>0.939569</td>\n",
       "      <td>0.871809</td>\n",
       "      <td>0.934556</td>\n",
       "      <td>0.923858</td>\n",
       "      <td>0.904961</td>\n",
       "      <td>0.0338338</td>\n",
       "    </tr>\n",
       "    <tr>\n",
       "      <th>3-50,i,td_allstats</th>\n",
       "      <td>0.831431</td>\n",
       "      <td>0.66199</td>\n",
       "      <td>0.884281</td>\n",
       "      <td>0.941372</td>\n",
       "      <td>0.855283</td>\n",
       "      <td>0.888828</td>\n",
       "      <td>0.939393</td>\n",
       "      <td>0.871689</td>\n",
       "      <td>0.934656</td>\n",
       "      <td>0.923734</td>\n",
       "      <td>0.904904</td>\n",
       "      <td>0.033824</td>\n",
       "    </tr>\n",
       "    <tr>\n",
       "      <th>3-50,i,td_short_meanstd</th>\n",
       "      <td>0.827448</td>\n",
       "      <td>0.662755</td>\n",
       "      <td>0.883306</td>\n",
       "      <td>0.941212</td>\n",
       "      <td>0.855464</td>\n",
       "      <td>0.888933</td>\n",
       "      <td>0.939576</td>\n",
       "      <td>0.87176</td>\n",
       "      <td>0.934585</td>\n",
       "      <td>0.923805</td>\n",
       "      <td>0.90483</td>\n",
       "      <td>0.0338548</td>\n",
       "    </tr>\n",
       "    <tr>\n",
       "      <th>3-50,i,td_medain</th>\n",
       "      <td>0.837909</td>\n",
       "      <td>0.661291</td>\n",
       "      <td>0.88453</td>\n",
       "      <td>0.940806</td>\n",
       "      <td>0.854192</td>\n",
       "      <td>0.887547</td>\n",
       "      <td>0.939777</td>\n",
       "      <td>0.870554</td>\n",
       "      <td>0.934198</td>\n",
       "      <td>0.922824</td>\n",
       "      <td>0.904303</td>\n",
       "      <td>0.0341205</td>\n",
       "    </tr>\n",
       "    <tr>\n",
       "      <th>3-50,i,td_medainmad</th>\n",
       "      <td>0.838046</td>\n",
       "      <td>0.65881</td>\n",
       "      <td>0.884009</td>\n",
       "      <td>0.940834</td>\n",
       "      <td>0.854404</td>\n",
       "      <td>0.887408</td>\n",
       "      <td>0.939838</td>\n",
       "      <td>0.870632</td>\n",
       "      <td>0.934191</td>\n",
       "      <td>0.922773</td>\n",
       "      <td>0.904261</td>\n",
       "      <td>0.0341272</td>\n",
       "    </tr>\n",
       "    <tr>\n",
       "      <th>3-50,i,tds</th>\n",
       "      <td>0.825475</td>\n",
       "      <td>0.663753</td>\n",
       "      <td>0.876545</td>\n",
       "      <td>0.942093</td>\n",
       "      <td>0.854372</td>\n",
       "      <td>0.88939</td>\n",
       "      <td>0.93982</td>\n",
       "      <td>0.872229</td>\n",
       "      <td>0.934952</td>\n",
       "      <td>0.923626</td>\n",
       "      <td>0.904128</td>\n",
       "      <td>0.0348811</td>\n",
       "    </tr>\n",
       "    <tr>\n",
       "      <th>3-50,i,tds+sd</th>\n",
       "      <td>0.825265</td>\n",
       "      <td>0.663743</td>\n",
       "      <td>0.876537</td>\n",
       "      <td>0.942093</td>\n",
       "      <td>0.854382</td>\n",
       "      <td>0.889391</td>\n",
       "      <td>0.939817</td>\n",
       "      <td>0.872226</td>\n",
       "      <td>0.934952</td>\n",
       "      <td>0.923626</td>\n",
       "      <td>0.904128</td>\n",
       "      <td>0.0348799</td>\n",
       "    </tr>\n",
       "    <tr>\n",
       "      <th>3-50,i,tds+td+sd</th>\n",
       "      <td>0.825153</td>\n",
       "      <td>0.663573</td>\n",
       "      <td>0.874387</td>\n",
       "      <td>0.942165</td>\n",
       "      <td>0.854351</td>\n",
       "      <td>0.88933</td>\n",
       "      <td>0.939764</td>\n",
       "      <td>0.872241</td>\n",
       "      <td>0.934885</td>\n",
       "      <td>0.923598</td>\n",
       "      <td>0.90384</td>\n",
       "      <td>0.0351307</td>\n",
       "    </tr>\n",
       "    <tr>\n",
       "      <th>3-50,i,tds+td</th>\n",
       "      <td>0.825279</td>\n",
       "      <td>0.663562</td>\n",
       "      <td>0.874347</td>\n",
       "      <td>0.942176</td>\n",
       "      <td>0.854335</td>\n",
       "      <td>0.889326</td>\n",
       "      <td>0.939763</td>\n",
       "      <td>0.872245</td>\n",
       "      <td>0.934877</td>\n",
       "      <td>0.923602</td>\n",
       "      <td>0.903834</td>\n",
       "      <td>0.0351393</td>\n",
       "    </tr>\n",
       "    <tr>\n",
       "      <th>3-50</th>\n",
       "      <td>0.839623</td>\n",
       "      <td>0.66036</td>\n",
       "      <td>0.883565</td>\n",
       "      <td>0.94031</td>\n",
       "      <td>0.853747</td>\n",
       "      <td>0.886663</td>\n",
       "      <td>0.939052</td>\n",
       "      <td>0.870371</td>\n",
       "      <td>0.93321</td>\n",
       "      <td>0.923106</td>\n",
       "      <td>0.903753</td>\n",
       "      <td>0.0340989</td>\n",
       "    </tr>\n",
       "  </tbody>\n",
       "</table>\n",
       "</div>"
      ],
      "text/plain": [
       "                           split0    split1    split2    split3    split4  \\\n",
       "3-50,i,td+sd             0.831872  0.663854  0.884417  0.941611  0.855383   \n",
       "3-50,i,td_meanstd        0.831975  0.663852  0.884409  0.941592  0.855368   \n",
       "3-50,i,td_mean           0.831292  0.663936   0.88425   0.94144  0.855303   \n",
       "3-50,i,sd                0.831292  0.663936  0.884256   0.94144  0.855303   \n",
       "3-50,i,td_allstats       0.831431   0.66199  0.884281  0.941372  0.855283   \n",
       "3-50,i,td_short_meanstd  0.827448  0.662755  0.883306  0.941212  0.855464   \n",
       "3-50,i,td_medain         0.837909  0.661291   0.88453  0.940806  0.854192   \n",
       "3-50,i,td_medainmad      0.838046   0.65881  0.884009  0.940834  0.854404   \n",
       "3-50,i,tds               0.825475  0.663753  0.876545  0.942093  0.854372   \n",
       "3-50,i,tds+sd            0.825265  0.663743  0.876537  0.942093  0.854382   \n",
       "3-50,i,tds+td+sd         0.825153  0.663573  0.874387  0.942165  0.854351   \n",
       "3-50,i,tds+td            0.825279  0.663562  0.874347  0.942176  0.854335   \n",
       "3-50                     0.839623   0.66036  0.883565   0.94031  0.853747   \n",
       "\n",
       "                           split5    split6    split7    split8    split9  \\\n",
       "3-50,i,td+sd             0.888891  0.939581  0.871804  0.934554  0.923777   \n",
       "3-50,i,td_meanstd        0.888896  0.939589  0.871799  0.934558  0.923775   \n",
       "3-50,i,td_mean           0.888899  0.939569  0.871814  0.934556   0.92386   \n",
       "3-50,i,sd                0.888899  0.939569  0.871809  0.934556  0.923858   \n",
       "3-50,i,td_allstats       0.888828  0.939393  0.871689  0.934656  0.923734   \n",
       "3-50,i,td_short_meanstd  0.888933  0.939576   0.87176  0.934585  0.923805   \n",
       "3-50,i,td_medain         0.887547  0.939777  0.870554  0.934198  0.922824   \n",
       "3-50,i,td_medainmad      0.887408  0.939838  0.870632  0.934191  0.922773   \n",
       "3-50,i,tds                0.88939   0.93982  0.872229  0.934952  0.923626   \n",
       "3-50,i,tds+sd            0.889391  0.939817  0.872226  0.934952  0.923626   \n",
       "3-50,i,tds+td+sd          0.88933  0.939764  0.872241  0.934885  0.923598   \n",
       "3-50,i,tds+td            0.889326  0.939763  0.872245  0.934877  0.923602   \n",
       "3-50                     0.886663  0.939052  0.870371   0.93321  0.923106   \n",
       "\n",
       "                             mean        std  \n",
       "3-50,i,td+sd             0.905002  0.0338255  \n",
       "3-50,i,td_meanstd        0.904998  0.0338284  \n",
       "3-50,i,td_mean           0.904961  0.0338338  \n",
       "3-50,i,sd                0.904961  0.0338338  \n",
       "3-50,i,td_allstats       0.904904   0.033824  \n",
       "3-50,i,td_short_meanstd   0.90483  0.0338548  \n",
       "3-50,i,td_medain         0.904303  0.0341205  \n",
       "3-50,i,td_medainmad      0.904261  0.0341272  \n",
       "3-50,i,tds               0.904128  0.0348811  \n",
       "3-50,i,tds+sd            0.904128  0.0348799  \n",
       "3-50,i,tds+td+sd          0.90384  0.0351307  \n",
       "3-50,i,tds+td            0.903834  0.0351393  \n",
       "3-50                     0.903753  0.0340989  "
      ]
     },
     "execution_count": 56,
     "metadata": {},
     "output_type": "execute_result"
    }
   ],
   "source": [
    "cvrsdf = cvrs_to_df(cvrs).loc[:,cvrs_cols].sort_values(\"mean\",ascending=False)\n",
    "idx = [ i for i in cvrsdf.index if re.match(r\"^3-50(,i,.*)?$\",i)]\n",
    "cvrsdf.loc[idx]"
   ]
  },
  {
   "cell_type": "markdown",
   "metadata": {},
   "source": [
    "Использование этих признаков не сильно улучшает качество модели. Остановимся на признаках \"tdiff_meanstd+sd\" и \"tdiff_meanstd\"."
   ]
  },
  {
   "cell_type": "markdown",
   "metadata": {},
   "source": [
    "## 5. Изучим влияние прочих признаков"
   ]
  },
  {
   "cell_type": "code",
   "execution_count": 57,
   "metadata": {},
   "outputs": [
    {
     "name": "stdout",
     "output_type": "stream",
     "text": [
      "3-50,m,nus\n"
     ]
    },
    {
     "data": {
      "application/vnd.jupyter.widget-view+json": {
       "model_id": "4a1489b8f0384a209aea8c6326bd864b",
       "version_major": 2,
       "version_minor": 0
      },
      "text/plain": [
       "HBox(children=(FloatProgress(value=0.0, max=5.0), HTML(value='')))"
      ]
     },
     "metadata": {},
     "output_type": "display_data"
    },
    {
     "name": "stdout",
     "output_type": "stream",
     "text": [
      "\n",
      "3-50,m,nut\n"
     ]
    },
    {
     "data": {
      "application/vnd.jupyter.widget-view+json": {
       "model_id": "cacff0405bff42549d76bf1f59c9a1df",
       "version_major": 2,
       "version_minor": 0
      },
      "text/plain": [
       "HBox(children=(FloatProgress(value=0.0, max=5.0), HTML(value='')))"
      ]
     },
     "metadata": {},
     "output_type": "display_data"
    },
    {
     "name": "stdout",
     "output_type": "stream",
     "text": [
      "\n",
      "3-50,m,nip\n"
     ]
    },
    {
     "data": {
      "application/vnd.jupyter.widget-view+json": {
       "model_id": "3b96858011ae407c87f9487e76f23c65",
       "version_major": 2,
       "version_minor": 0
      },
      "text/plain": [
       "HBox(children=(FloatProgress(value=0.0, max=5.0), HTML(value='')))"
      ]
     },
     "metadata": {},
     "output_type": "display_data"
    },
    {
     "name": "stdout",
     "output_type": "stream",
     "text": [
      "\n",
      "3-50,m,auto\n"
     ]
    },
    {
     "data": {
      "application/vnd.jupyter.widget-view+json": {
       "model_id": "cae869f19c71408eb129e35539e7da90",
       "version_major": 2,
       "version_minor": 0
      },
      "text/plain": [
       "HBox(children=(FloatProgress(value=0.0, max=5.0), HTML(value='')))"
      ]
     },
     "metadata": {},
     "output_type": "display_data"
    },
    {
     "name": "stdout",
     "output_type": "stream",
     "text": [
      "\n",
      "3-50,m,final\n"
     ]
    },
    {
     "data": {
      "application/vnd.jupyter.widget-view+json": {
       "model_id": "1c0117c9150c4e95bd5ebeda99b3fd99",
       "version_major": 2,
       "version_minor": 0
      },
      "text/plain": [
       "HBox(children=(FloatProgress(value=0.0, max=5.0), HTML(value='')))"
      ]
     },
     "metadata": {},
     "output_type": "display_data"
    },
    {
     "name": "stdout",
     "output_type": "stream",
     "text": [
      "\n",
      "CPU times: user 4.54 s, sys: 679 ms, total: 5.22 s\n",
      "Wall time: 4min 51s\n"
     ]
    }
   ],
   "source": [
    "%%time\n",
    "\n",
    "ft = {\n",
    "    \"nus\": [\"n_unique_sites\"],\n",
    "    \"nut\": [\"n_unique_tlds\"],\n",
    "    \"nip\": [\"n_ips\"],\n",
    "}\n",
    "\n",
    "for n, f in ft.items():\n",
    "    print(f\"{base_name},m,{n}\")\n",
    "    cvrs[f\"{base_name},m,{n}\"] = cvtest_model(base_X, ft_scale=f)\n",
    "\n",
    "ft = {\n",
    "    \"auto\": [\"automatic\"],\n",
    "    \"final\": [\"final\"],\n",
    "}\n",
    "\n",
    "for n, f in ft.items():\n",
    "    print(f\"{base_name},m,{n}\")\n",
    "    cvrs[f\"{base_name},m,{n}\"] = cvtest_model(base_X, ft_asis=f)"
   ]
  },
  {
   "cell_type": "code",
   "execution_count": 58,
   "metadata": {},
   "outputs": [
    {
     "data": {
      "text/html": [
       "<div>\n",
       "<style scoped>\n",
       "    .dataframe tbody tr th:only-of-type {\n",
       "        vertical-align: middle;\n",
       "    }\n",
       "\n",
       "    .dataframe tbody tr th {\n",
       "        vertical-align: top;\n",
       "    }\n",
       "\n",
       "    .dataframe thead th {\n",
       "        text-align: right;\n",
       "    }\n",
       "</style>\n",
       "<table border=\"1\" class=\"dataframe\">\n",
       "  <thead>\n",
       "    <tr style=\"text-align: right;\">\n",
       "      <th></th>\n",
       "      <th>split0</th>\n",
       "      <th>split1</th>\n",
       "      <th>split2</th>\n",
       "      <th>split3</th>\n",
       "      <th>split4</th>\n",
       "      <th>split5</th>\n",
       "      <th>split6</th>\n",
       "      <th>split7</th>\n",
       "      <th>split8</th>\n",
       "      <th>split9</th>\n",
       "      <th>mean</th>\n",
       "      <th>std</th>\n",
       "    </tr>\n",
       "  </thead>\n",
       "  <tbody>\n",
       "    <tr>\n",
       "      <th>3-50,m,auto</th>\n",
       "      <td>0.838418</td>\n",
       "      <td>0.660592</td>\n",
       "      <td>0.883783</td>\n",
       "      <td>0.940379</td>\n",
       "      <td>0.85387</td>\n",
       "      <td>0.886784</td>\n",
       "      <td>0.939089</td>\n",
       "      <td>0.870489</td>\n",
       "      <td>0.933743</td>\n",
       "      <td>0.923218</td>\n",
       "      <td>0.903919</td>\n",
       "      <td>0.034121</td>\n",
       "    </tr>\n",
       "    <tr>\n",
       "      <th>3-50,m,nus</th>\n",
       "      <td>0.831809</td>\n",
       "      <td>0.661867</td>\n",
       "      <td>0.883495</td>\n",
       "      <td>0.941038</td>\n",
       "      <td>0.853848</td>\n",
       "      <td>0.884671</td>\n",
       "      <td>0.942607</td>\n",
       "      <td>0.869265</td>\n",
       "      <td>0.932728</td>\n",
       "      <td>0.922625</td>\n",
       "      <td>0.903785</td>\n",
       "      <td>0.0349487</td>\n",
       "    </tr>\n",
       "    <tr>\n",
       "      <th>3-50</th>\n",
       "      <td>0.839623</td>\n",
       "      <td>0.66036</td>\n",
       "      <td>0.883565</td>\n",
       "      <td>0.94031</td>\n",
       "      <td>0.853747</td>\n",
       "      <td>0.886663</td>\n",
       "      <td>0.939052</td>\n",
       "      <td>0.870371</td>\n",
       "      <td>0.93321</td>\n",
       "      <td>0.923106</td>\n",
       "      <td>0.903753</td>\n",
       "      <td>0.0340989</td>\n",
       "    </tr>\n",
       "    <tr>\n",
       "      <th>3-50,m,nip</th>\n",
       "      <td>0.840194</td>\n",
       "      <td>0.66217</td>\n",
       "      <td>0.883668</td>\n",
       "      <td>0.939841</td>\n",
       "      <td>0.853784</td>\n",
       "      <td>0.886002</td>\n",
       "      <td>0.938686</td>\n",
       "      <td>0.87012</td>\n",
       "      <td>0.932881</td>\n",
       "      <td>0.921677</td>\n",
       "      <td>0.903332</td>\n",
       "      <td>0.0338854</td>\n",
       "    </tr>\n",
       "    <tr>\n",
       "      <th>3-50,m,nut</th>\n",
       "      <td>0.831944</td>\n",
       "      <td>0.6636</td>\n",
       "      <td>0.880352</td>\n",
       "      <td>0.940018</td>\n",
       "      <td>0.853644</td>\n",
       "      <td>0.889635</td>\n",
       "      <td>0.933682</td>\n",
       "      <td>0.869692</td>\n",
       "      <td>0.93396</td>\n",
       "      <td>0.923738</td>\n",
       "      <td>0.90309</td>\n",
       "      <td>0.0336734</td>\n",
       "    </tr>\n",
       "    <tr>\n",
       "      <th>3-50,m,final</th>\n",
       "      <td>0.842638</td>\n",
       "      <td>0.668378</td>\n",
       "      <td>0.882551</td>\n",
       "      <td>0.937561</td>\n",
       "      <td>0.853524</td>\n",
       "      <td>0.885484</td>\n",
       "      <td>0.925097</td>\n",
       "      <td>0.870188</td>\n",
       "      <td>0.930458</td>\n",
       "      <td>0.924961</td>\n",
       "      <td>0.901228</td>\n",
       "      <td>0.031945</td>\n",
       "    </tr>\n",
       "  </tbody>\n",
       "</table>\n",
       "</div>"
      ],
      "text/plain": [
       "                split0    split1    split2    split3    split4    split5  \\\n",
       "3-50,m,auto   0.838418  0.660592  0.883783  0.940379   0.85387  0.886784   \n",
       "3-50,m,nus    0.831809  0.661867  0.883495  0.941038  0.853848  0.884671   \n",
       "3-50          0.839623   0.66036  0.883565   0.94031  0.853747  0.886663   \n",
       "3-50,m,nip    0.840194   0.66217  0.883668  0.939841  0.853784  0.886002   \n",
       "3-50,m,nut    0.831944    0.6636  0.880352  0.940018  0.853644  0.889635   \n",
       "3-50,m,final  0.842638  0.668378  0.882551  0.937561  0.853524  0.885484   \n",
       "\n",
       "                split6    split7    split8    split9      mean        std  \n",
       "3-50,m,auto   0.939089  0.870489  0.933743  0.923218  0.903919   0.034121  \n",
       "3-50,m,nus    0.942607  0.869265  0.932728  0.922625  0.903785  0.0349487  \n",
       "3-50          0.939052  0.870371   0.93321  0.923106  0.903753  0.0340989  \n",
       "3-50,m,nip    0.938686   0.87012  0.932881  0.921677  0.903332  0.0338854  \n",
       "3-50,m,nut    0.933682  0.869692   0.93396  0.923738   0.90309  0.0336734  \n",
       "3-50,m,final  0.925097  0.870188  0.930458  0.924961  0.901228   0.031945  "
      ]
     },
     "execution_count": 58,
     "metadata": {},
     "output_type": "execute_result"
    }
   ],
   "source": [
    "cvrsdf = cvrs_to_df(cvrs).loc[:,cvrs_cols].sort_values(\"mean\",ascending=False)\n",
    "idx = [ i for i in cvrsdf.index if re.match(r\"^3-50(,m,.*)?$\",i)]\n",
    "cvrsdf.loc[idx]"
   ]
  },
  {
   "cell_type": "code",
   "execution_count": 59,
   "metadata": {},
   "outputs": [
    {
     "name": "stdout",
     "output_type": "stream",
     "text": [
      "3-50,m,nus+auto\n"
     ]
    },
    {
     "data": {
      "application/vnd.jupyter.widget-view+json": {
       "model_id": "15e95674db88426da6063974df631abb",
       "version_major": 2,
       "version_minor": 0
      },
      "text/plain": [
       "HBox(children=(FloatProgress(value=0.0, max=5.0), HTML(value='')))"
      ]
     },
     "metadata": {},
     "output_type": "display_data"
    },
    {
     "name": "stdout",
     "output_type": "stream",
     "text": [
      "\n",
      "CPU times: user 970 ms, sys: 150 ms, total: 1.12 s\n",
      "Wall time: 1min\n"
     ]
    }
   ],
   "source": [
    "%%time\n",
    "\n",
    "print(f\"{base_name},m,nus+auto\")\n",
    "cvrs[f\"{base_name},m,nus+auto\"] = cvtest_model(base_X, ft_asis=[\"automatic\"], ft_scale=[\"n_unique_sites\"])"
   ]
  },
  {
   "cell_type": "code",
   "execution_count": 60,
   "metadata": {
    "scrolled": true
   },
   "outputs": [
    {
     "data": {
      "text/html": [
       "<div>\n",
       "<style scoped>\n",
       "    .dataframe tbody tr th:only-of-type {\n",
       "        vertical-align: middle;\n",
       "    }\n",
       "\n",
       "    .dataframe tbody tr th {\n",
       "        vertical-align: top;\n",
       "    }\n",
       "\n",
       "    .dataframe thead th {\n",
       "        text-align: right;\n",
       "    }\n",
       "</style>\n",
       "<table border=\"1\" class=\"dataframe\">\n",
       "  <thead>\n",
       "    <tr style=\"text-align: right;\">\n",
       "      <th></th>\n",
       "      <th>split0</th>\n",
       "      <th>split1</th>\n",
       "      <th>split2</th>\n",
       "      <th>split3</th>\n",
       "      <th>split4</th>\n",
       "      <th>split5</th>\n",
       "      <th>split6</th>\n",
       "      <th>split7</th>\n",
       "      <th>split8</th>\n",
       "      <th>split9</th>\n",
       "      <th>mean</th>\n",
       "      <th>std</th>\n",
       "    </tr>\n",
       "  </thead>\n",
       "  <tbody>\n",
       "    <tr>\n",
       "      <th>3-50,m,nus+auto</th>\n",
       "      <td>0.831298</td>\n",
       "      <td>0.661946</td>\n",
       "      <td>0.883702</td>\n",
       "      <td>0.941153</td>\n",
       "      <td>0.854041</td>\n",
       "      <td>0.884847</td>\n",
       "      <td>0.942774</td>\n",
       "      <td>0.869443</td>\n",
       "      <td>0.933189</td>\n",
       "      <td>0.922801</td>\n",
       "      <td>0.903994</td>\n",
       "      <td>0.0349656</td>\n",
       "    </tr>\n",
       "    <tr>\n",
       "      <th>3-50,m,auto</th>\n",
       "      <td>0.838418</td>\n",
       "      <td>0.660592</td>\n",
       "      <td>0.883783</td>\n",
       "      <td>0.940379</td>\n",
       "      <td>0.85387</td>\n",
       "      <td>0.886784</td>\n",
       "      <td>0.939089</td>\n",
       "      <td>0.870489</td>\n",
       "      <td>0.933743</td>\n",
       "      <td>0.923218</td>\n",
       "      <td>0.903919</td>\n",
       "      <td>0.034121</td>\n",
       "    </tr>\n",
       "    <tr>\n",
       "      <th>3-50,m,nus</th>\n",
       "      <td>0.831809</td>\n",
       "      <td>0.661867</td>\n",
       "      <td>0.883495</td>\n",
       "      <td>0.941038</td>\n",
       "      <td>0.853848</td>\n",
       "      <td>0.884671</td>\n",
       "      <td>0.942607</td>\n",
       "      <td>0.869265</td>\n",
       "      <td>0.932728</td>\n",
       "      <td>0.922625</td>\n",
       "      <td>0.903785</td>\n",
       "      <td>0.0349487</td>\n",
       "    </tr>\n",
       "    <tr>\n",
       "      <th>3-50</th>\n",
       "      <td>0.839623</td>\n",
       "      <td>0.66036</td>\n",
       "      <td>0.883565</td>\n",
       "      <td>0.94031</td>\n",
       "      <td>0.853747</td>\n",
       "      <td>0.886663</td>\n",
       "      <td>0.939052</td>\n",
       "      <td>0.870371</td>\n",
       "      <td>0.93321</td>\n",
       "      <td>0.923106</td>\n",
       "      <td>0.903753</td>\n",
       "      <td>0.0340989</td>\n",
       "    </tr>\n",
       "    <tr>\n",
       "      <th>3-50,m,nip</th>\n",
       "      <td>0.840194</td>\n",
       "      <td>0.66217</td>\n",
       "      <td>0.883668</td>\n",
       "      <td>0.939841</td>\n",
       "      <td>0.853784</td>\n",
       "      <td>0.886002</td>\n",
       "      <td>0.938686</td>\n",
       "      <td>0.87012</td>\n",
       "      <td>0.932881</td>\n",
       "      <td>0.921677</td>\n",
       "      <td>0.903332</td>\n",
       "      <td>0.0338854</td>\n",
       "    </tr>\n",
       "    <tr>\n",
       "      <th>3-50,m,nut</th>\n",
       "      <td>0.831944</td>\n",
       "      <td>0.6636</td>\n",
       "      <td>0.880352</td>\n",
       "      <td>0.940018</td>\n",
       "      <td>0.853644</td>\n",
       "      <td>0.889635</td>\n",
       "      <td>0.933682</td>\n",
       "      <td>0.869692</td>\n",
       "      <td>0.93396</td>\n",
       "      <td>0.923738</td>\n",
       "      <td>0.90309</td>\n",
       "      <td>0.0336734</td>\n",
       "    </tr>\n",
       "    <tr>\n",
       "      <th>3-50,m,final</th>\n",
       "      <td>0.842638</td>\n",
       "      <td>0.668378</td>\n",
       "      <td>0.882551</td>\n",
       "      <td>0.937561</td>\n",
       "      <td>0.853524</td>\n",
       "      <td>0.885484</td>\n",
       "      <td>0.925097</td>\n",
       "      <td>0.870188</td>\n",
       "      <td>0.930458</td>\n",
       "      <td>0.924961</td>\n",
       "      <td>0.901228</td>\n",
       "      <td>0.031945</td>\n",
       "    </tr>\n",
       "  </tbody>\n",
       "</table>\n",
       "</div>"
      ],
      "text/plain": [
       "                   split0    split1    split2    split3    split4    split5  \\\n",
       "3-50,m,nus+auto  0.831298  0.661946  0.883702  0.941153  0.854041  0.884847   \n",
       "3-50,m,auto      0.838418  0.660592  0.883783  0.940379   0.85387  0.886784   \n",
       "3-50,m,nus       0.831809  0.661867  0.883495  0.941038  0.853848  0.884671   \n",
       "3-50             0.839623   0.66036  0.883565   0.94031  0.853747  0.886663   \n",
       "3-50,m,nip       0.840194   0.66217  0.883668  0.939841  0.853784  0.886002   \n",
       "3-50,m,nut       0.831944    0.6636  0.880352  0.940018  0.853644  0.889635   \n",
       "3-50,m,final     0.842638  0.668378  0.882551  0.937561  0.853524  0.885484   \n",
       "\n",
       "                   split6    split7    split8    split9      mean        std  \n",
       "3-50,m,nus+auto  0.942774  0.869443  0.933189  0.922801  0.903994  0.0349656  \n",
       "3-50,m,auto      0.939089  0.870489  0.933743  0.923218  0.903919   0.034121  \n",
       "3-50,m,nus       0.942607  0.869265  0.932728  0.922625  0.903785  0.0349487  \n",
       "3-50             0.939052  0.870371   0.93321  0.923106  0.903753  0.0340989  \n",
       "3-50,m,nip       0.938686   0.87012  0.932881  0.921677  0.903332  0.0338854  \n",
       "3-50,m,nut       0.933682  0.869692   0.93396  0.923738   0.90309  0.0336734  \n",
       "3-50,m,final     0.925097  0.870188  0.930458  0.924961  0.901228   0.031945  "
      ]
     },
     "execution_count": 60,
     "metadata": {},
     "output_type": "execute_result"
    }
   ],
   "source": [
    "cvrsdf = cvrs_to_df(cvrs).loc[:,cvrs_cols].sort_values(\"mean\",ascending=False)\n",
    "idx = [ i for i in cvrsdf.index if re.match(r\"^3-50(,m,.*)?$\",i)]\n",
    "cvrsdf.loc[idx]"
   ]
  },
  {
   "cell_type": "markdown",
   "metadata": {},
   "source": [
    "Вновь, используемые признаки не дают существенного прироста качества классификации. Остановимся на \"nus+auto\""
   ]
  },
  {
   "cell_type": "markdown",
   "metadata": {},
   "source": [
    "## 6. Подберём итоговый набор признаков"
   ]
  },
  {
   "cell_type": "code",
   "execution_count": 61,
   "metadata": {},
   "outputs": [],
   "source": [
    "tod = [\"start_morning\",\"start_noon\",\"start_evening\"]\n",
    "hrd = [\"start_hour\"]\n",
    "\n",
    "td = [\"tdiff_mean\",\"tdiff_std\"]\n",
    "sd = [\"session_duration\"]\n",
    "\n",
    "auto = [\"automatic\"]\n",
    "nus = [\"n_unique_sites\"]"
   ]
  },
  {
   "cell_type": "code",
   "execution_count": 62,
   "metadata": {},
   "outputs": [
    {
     "name": "stdout",
     "output_type": "stream",
     "text": [
      "3-50,f,tod+hrd+td\n"
     ]
    },
    {
     "data": {
      "application/vnd.jupyter.widget-view+json": {
       "model_id": "081a5ffc5fc649fc99b45c63e76bd85a",
       "version_major": 2,
       "version_minor": 0
      },
      "text/plain": [
       "HBox(children=(FloatProgress(value=0.0, max=5.0), HTML(value='')))"
      ]
     },
     "metadata": {},
     "output_type": "display_data"
    },
    {
     "name": "stdout",
     "output_type": "stream",
     "text": [
      "\n",
      "3-50,f,tod+hrd+sd\n"
     ]
    },
    {
     "data": {
      "application/vnd.jupyter.widget-view+json": {
       "model_id": "4777cc17a2784f51bccfb46228b9b524",
       "version_major": 2,
       "version_minor": 0
      },
      "text/plain": [
       "HBox(children=(FloatProgress(value=0.0, max=5.0), HTML(value='')))"
      ]
     },
     "metadata": {},
     "output_type": "display_data"
    },
    {
     "name": "stdout",
     "output_type": "stream",
     "text": [
      "\n",
      "3-50,f,tod+hrd+td+sd\n"
     ]
    },
    {
     "data": {
      "application/vnd.jupyter.widget-view+json": {
       "model_id": "d7320c6e4a864afa9a285b93ab87f2c1",
       "version_major": 2,
       "version_minor": 0
      },
      "text/plain": [
       "HBox(children=(FloatProgress(value=0.0, max=5.0), HTML(value='')))"
      ]
     },
     "metadata": {},
     "output_type": "display_data"
    },
    {
     "name": "stdout",
     "output_type": "stream",
     "text": [
      "\n",
      "3-50,f,tod+hrd+td+auto+nus\n"
     ]
    },
    {
     "data": {
      "application/vnd.jupyter.widget-view+json": {
       "model_id": "517c95af6a2d42b2a9fe2463e05e0f74",
       "version_major": 2,
       "version_minor": 0
      },
      "text/plain": [
       "HBox(children=(FloatProgress(value=0.0, max=5.0), HTML(value='')))"
      ]
     },
     "metadata": {},
     "output_type": "display_data"
    },
    {
     "name": "stdout",
     "output_type": "stream",
     "text": [
      "\n",
      "3-50,f,tod+hrd+sd+auto+nus\n"
     ]
    },
    {
     "data": {
      "application/vnd.jupyter.widget-view+json": {
       "model_id": "2f43a352576a41418940b7e22e3a6ad6",
       "version_major": 2,
       "version_minor": 0
      },
      "text/plain": [
       "HBox(children=(FloatProgress(value=0.0, max=5.0), HTML(value='')))"
      ]
     },
     "metadata": {},
     "output_type": "display_data"
    },
    {
     "name": "stdout",
     "output_type": "stream",
     "text": [
      "\n",
      "3-50,f,tod+hrd+td+sd+auto+nus\n"
     ]
    },
    {
     "data": {
      "application/vnd.jupyter.widget-view+json": {
       "model_id": "3ba1fc302a6c4c1d895c869285f83825",
       "version_major": 2,
       "version_minor": 0
      },
      "text/plain": [
       "HBox(children=(FloatProgress(value=0.0, max=5.0), HTML(value='')))"
      ]
     },
     "metadata": {},
     "output_type": "display_data"
    },
    {
     "name": "stdout",
     "output_type": "stream",
     "text": [
      "\n",
      "CPU times: user 7.35 s, sys: 1.08 s, total: 8.44 s\n",
      "Wall time: 15min 11s\n"
     ]
    }
   ],
   "source": [
    "%%time\n",
    "\n",
    "print(f\"{base_name},f,tod+hrd+td\")\n",
    "cvrs[f\"{base_name},f,tod+hrd+td\"] = cvtest_model(base_X, ft_asis=tod, ft_scale=td, ft_dummy=hrd, start_range=(10,20,11))\n",
    "print(f\"{base_name},f,tod+hrd+sd\")\n",
    "cvrs[f\"{base_name},f,tod+hrd+sd\"] = cvtest_model(base_X, ft_asis=tod, ft_scale=sd, ft_dummy=hrd, start_range=(10,20,11))\n",
    "print(f\"{base_name},f,tod+hrd+td+sd\")\n",
    "cvrs[f\"{base_name},f,tod+hrd+td+sd\"] = cvtest_model(base_X, ft_asis=tod, ft_scale=td+sd, ft_dummy=hrd, start_range=(10,20,11))\n",
    "\n",
    "print(f\"{base_name},f,tod+hrd+td+auto+nus\")\n",
    "cvrs[f\"{base_name},f,tod+hrd+td+auto+nus\"] = cvtest_model(base_X, ft_asis=tod+auto, ft_scale=td+nus, ft_dummy=hrd, start_range=(10,20,11))\n",
    "print(f\"{base_name},f,tod+hrd+sd+auto+nus\")\n",
    "cvrs[f\"{base_name},f,tod+hrd+sd+auto+nus\"] = cvtest_model(base_X, ft_asis=tod+auto, ft_scale=sd+nus, ft_dummy=hrd, start_range=(10,20,11))\n",
    "print(f\"{base_name},f,tod+hrd+td+sd+auto+nus\")\n",
    "cvrs[f\"{base_name},f,tod+hrd+td+sd+auto+nus\"] = cvtest_model(base_X, ft_asis=tod+auto, ft_scale=td+sd+nus, ft_dummy=hrd, start_range=(10,20,11))"
   ]
  },
  {
   "cell_type": "code",
   "execution_count": 63,
   "metadata": {},
   "outputs": [
    {
     "data": {
      "text/html": [
       "<div>\n",
       "<style scoped>\n",
       "    .dataframe tbody tr th:only-of-type {\n",
       "        vertical-align: middle;\n",
       "    }\n",
       "\n",
       "    .dataframe tbody tr th {\n",
       "        vertical-align: top;\n",
       "    }\n",
       "\n",
       "    .dataframe thead th {\n",
       "        text-align: right;\n",
       "    }\n",
       "</style>\n",
       "<table border=\"1\" class=\"dataframe\">\n",
       "  <thead>\n",
       "    <tr style=\"text-align: right;\">\n",
       "      <th></th>\n",
       "      <th>split0</th>\n",
       "      <th>split1</th>\n",
       "      <th>split2</th>\n",
       "      <th>split3</th>\n",
       "      <th>split4</th>\n",
       "      <th>split5</th>\n",
       "      <th>split6</th>\n",
       "      <th>split7</th>\n",
       "      <th>split8</th>\n",
       "      <th>split9</th>\n",
       "      <th>mean</th>\n",
       "      <th>std</th>\n",
       "    </tr>\n",
       "  </thead>\n",
       "  <tbody>\n",
       "    <tr>\n",
       "      <th>3-50,f,tod+hrd+td+sd+auto+nus</th>\n",
       "      <td>0.662685</td>\n",
       "      <td>0.830887</td>\n",
       "      <td>0.970328</td>\n",
       "      <td>0.960464</td>\n",
       "      <td>0.933485</td>\n",
       "      <td>0.971982</td>\n",
       "      <td>0.938242</td>\n",
       "      <td>0.953358</td>\n",
       "      <td>0.973437</td>\n",
       "      <td>0.968724</td>\n",
       "      <td>0.958753</td>\n",
       "      <td>0.0156535</td>\n",
       "    </tr>\n",
       "    <tr>\n",
       "      <th>3-50,f,tod+hrd+td+auto+nus</th>\n",
       "      <td>0.662738</td>\n",
       "      <td>0.830829</td>\n",
       "      <td>0.970334</td>\n",
       "      <td>0.960455</td>\n",
       "      <td>0.933485</td>\n",
       "      <td>0.97198</td>\n",
       "      <td>0.938249</td>\n",
       "      <td>0.953355</td>\n",
       "      <td>0.973432</td>\n",
       "      <td>0.968725</td>\n",
       "      <td>0.958752</td>\n",
       "      <td>0.0156521</td>\n",
       "    </tr>\n",
       "    <tr>\n",
       "      <th>3-50,f,tod+hrd+sd+auto+nus</th>\n",
       "      <td>0.663186</td>\n",
       "      <td>0.830794</td>\n",
       "      <td>0.970165</td>\n",
       "      <td>0.960054</td>\n",
       "      <td>0.9335</td>\n",
       "      <td>0.972066</td>\n",
       "      <td>0.937699</td>\n",
       "      <td>0.953437</td>\n",
       "      <td>0.973453</td>\n",
       "      <td>0.968913</td>\n",
       "      <td>0.958661</td>\n",
       "      <td>0.0157557</td>\n",
       "    </tr>\n",
       "    <tr>\n",
       "      <th>3-50,f,tod+hrd+td</th>\n",
       "      <td>0.66549</td>\n",
       "      <td>0.830587</td>\n",
       "      <td>0.970292</td>\n",
       "      <td>0.959945</td>\n",
       "      <td>0.933582</td>\n",
       "      <td>0.97261</td>\n",
       "      <td>0.935741</td>\n",
       "      <td>0.95337</td>\n",
       "      <td>0.973249</td>\n",
       "      <td>0.968845</td>\n",
       "      <td>0.958454</td>\n",
       "      <td>0.0161687</td>\n",
       "    </tr>\n",
       "    <tr>\n",
       "      <th>3-50,f,tod+hrd+td+sd</th>\n",
       "      <td>0.665338</td>\n",
       "      <td>0.830543</td>\n",
       "      <td>0.970287</td>\n",
       "      <td>0.960045</td>\n",
       "      <td>0.933503</td>\n",
       "      <td>0.972437</td>\n",
       "      <td>0.936259</td>\n",
       "      <td>0.953213</td>\n",
       "      <td>0.973222</td>\n",
       "      <td>0.968634</td>\n",
       "      <td>0.95845</td>\n",
       "      <td>0.0160466</td>\n",
       "    </tr>\n",
       "    <tr>\n",
       "      <th>3-50,f,tod+hrd+sd</th>\n",
       "      <td>0.665565</td>\n",
       "      <td>0.830431</td>\n",
       "      <td>0.97012</td>\n",
       "      <td>0.959728</td>\n",
       "      <td>0.933438</td>\n",
       "      <td>0.972388</td>\n",
       "      <td>0.936251</td>\n",
       "      <td>0.953186</td>\n",
       "      <td>0.973202</td>\n",
       "      <td>0.968678</td>\n",
       "      <td>0.958374</td>\n",
       "      <td>0.0160373</td>\n",
       "    </tr>\n",
       "    <tr>\n",
       "      <th>3-50</th>\n",
       "      <td>0.839623</td>\n",
       "      <td>0.66036</td>\n",
       "      <td>0.883565</td>\n",
       "      <td>0.94031</td>\n",
       "      <td>0.853747</td>\n",
       "      <td>0.886663</td>\n",
       "      <td>0.939052</td>\n",
       "      <td>0.870371</td>\n",
       "      <td>0.93321</td>\n",
       "      <td>0.923106</td>\n",
       "      <td>0.903753</td>\n",
       "      <td>0.0340989</td>\n",
       "    </tr>\n",
       "  </tbody>\n",
       "</table>\n",
       "</div>"
      ],
      "text/plain": [
       "                                 split0    split1    split2    split3  \\\n",
       "3-50,f,tod+hrd+td+sd+auto+nus  0.662685  0.830887  0.970328  0.960464   \n",
       "3-50,f,tod+hrd+td+auto+nus     0.662738  0.830829  0.970334  0.960455   \n",
       "3-50,f,tod+hrd+sd+auto+nus     0.663186  0.830794  0.970165  0.960054   \n",
       "3-50,f,tod+hrd+td               0.66549  0.830587  0.970292  0.959945   \n",
       "3-50,f,tod+hrd+td+sd           0.665338  0.830543  0.970287  0.960045   \n",
       "3-50,f,tod+hrd+sd              0.665565  0.830431   0.97012  0.959728   \n",
       "3-50                           0.839623   0.66036  0.883565   0.94031   \n",
       "\n",
       "                                 split4    split5    split6    split7  \\\n",
       "3-50,f,tod+hrd+td+sd+auto+nus  0.933485  0.971982  0.938242  0.953358   \n",
       "3-50,f,tod+hrd+td+auto+nus     0.933485   0.97198  0.938249  0.953355   \n",
       "3-50,f,tod+hrd+sd+auto+nus       0.9335  0.972066  0.937699  0.953437   \n",
       "3-50,f,tod+hrd+td              0.933582   0.97261  0.935741   0.95337   \n",
       "3-50,f,tod+hrd+td+sd           0.933503  0.972437  0.936259  0.953213   \n",
       "3-50,f,tod+hrd+sd              0.933438  0.972388  0.936251  0.953186   \n",
       "3-50                           0.853747  0.886663  0.939052  0.870371   \n",
       "\n",
       "                                 split8    split9      mean        std  \n",
       "3-50,f,tod+hrd+td+sd+auto+nus  0.973437  0.968724  0.958753  0.0156535  \n",
       "3-50,f,tod+hrd+td+auto+nus     0.973432  0.968725  0.958752  0.0156521  \n",
       "3-50,f,tod+hrd+sd+auto+nus     0.973453  0.968913  0.958661  0.0157557  \n",
       "3-50,f,tod+hrd+td              0.973249  0.968845  0.958454  0.0161687  \n",
       "3-50,f,tod+hrd+td+sd           0.973222  0.968634   0.95845  0.0160466  \n",
       "3-50,f,tod+hrd+sd              0.973202  0.968678  0.958374  0.0160373  \n",
       "3-50                            0.93321  0.923106  0.903753  0.0340989  "
      ]
     },
     "execution_count": 63,
     "metadata": {},
     "output_type": "execute_result"
    }
   ],
   "source": [
    "cvrsdf = cvrs_to_df(cvrs).loc[:,cvrs_cols].sort_values(\"mean\",ascending=False)\n",
    "idx = [ i for i in cvrsdf.index if re.match(r\"^3-50(,f,.*)?$\",i)]\n",
    "cvrsdf.loc[idx]"
   ]
  },
  {
   "cell_type": "markdown",
   "metadata": {},
   "source": [
    "Посмотрим на ROC-AUC по фолдам"
   ]
  },
  {
   "cell_type": "code",
   "execution_count": 64,
   "metadata": {
    "scrolled": false
   },
   "outputs": [
    {
     "data": {
      "image/png": "[encoded data removed]",
      "text/plain": [
       "<Figure size 1152x576 with 1 Axes>"
      ]
     },
     "metadata": {
      "needs_background": "light"
     },
     "output_type": "display_data"
    }
   ],
   "source": [
    "models = [\n",
    "    \"3-50,t,tod+hrd\",\n",
    "#    \"3-50,f,tod+hrd+td+sd+nus\",\n",
    "    \"3-50,f,tod+hrd+td+sd+auto+nus\",\n",
    "#    '3-50,tod+hrd+min+dow',\n",
    "#     '3-50,hrd+min+dow',\n",
    "#     '3-50,hrd+dow',\n",
    "#     '3-50,tod+hrd+dow',\n",
    "#     '3-50,tod+hrd+min',\n",
    "#     '3-50,hrd+min',\n",
    "#    '3-50,hrd',\n",
    "#    '3-50'    \n",
    "]\n",
    "\n",
    "plt.figure(figsize=(16, 8))\n",
    "for model in models:\n",
    "    plt.plot(spl[2:], cvrsdf.loc[model, spl[2:]].values, label=model)\n",
    "plt.legend()\n",
    "plt.ylabel(\"ROC-AUC\")\n",
    "plt.grid()"
   ]
  },
  {
   "cell_type": "markdown",
   "metadata": {},
   "source": [
    "Видно, что два набора показывают хороший результат: \"tod+hrd\" дают большее среднее, а \"tod+hrd+td+sd+auto+nus\" в целом лучше по большему количеству фолдов. Запостим оба результата и посмотрим на разницу."
   ]
  },
  {
   "cell_type": "markdown",
   "metadata": {},
   "source": [
    "## 7. Итоговое обучение и постинг рещультатов"
   ]
  },
  {
   "cell_type": "code",
   "execution_count": 65,
   "metadata": {
    "scrolled": true
   },
   "outputs": [
    {
     "data": {
      "text/plain": [
       "LogisticRegression(C=12.0, max_iter=100000.0, n_jobs=-1)"
      ]
     },
     "execution_count": 65,
     "metadata": {},
     "output_type": "execute_result"
    }
   ],
   "source": [
    "X_train = sparse.hstack((X_sites_train_3_50k, fe_train[tod])).tocsr()\n",
    "X_test = sparse.hstack((X_sites_test_3_50k, fe_test[tod])).tocsr()\n",
    "\n",
    "X_train = sparse.hstack((X_train, pd.get_dummies(fe_train[hrd],columns=hrd, drop_first=True))).tocsr()\n",
    "X_test = sparse.hstack((X_test, pd.get_dummies(fe_test[hrd],columns=hrd, drop_first=True))).tocsr()\n",
    "\n",
    "logreg = LogisticRegression(max_iter=1e5, n_jobs=-1).set_params( **cvrs[\"3-50,t,tod+hrd\"][\"params\"] )\n",
    "logreg.fit(X_train, y)"
   ]
  },
  {
   "cell_type": "markdown",
   "metadata": {},
   "source": [
    "Посмотрим на коэффициенты регрессии для дополнительных признаков:"
   ]
  },
  {
   "cell_type": "code",
   "execution_count": 66,
   "metadata": {
    "scrolled": true
   },
   "outputs": [
    {
     "name": "stdout",
     "output_type": "stream",
     "text": [
      "start_morning        : -2.102714\n",
      "start_noon           :  2.176519\n",
      "start_evening        : -0.193537\n",
      "start_hour_8         : -2.127341\n",
      "start_hour_9         :  2.506417\n",
      "start_hour_10        : -2.688524\n",
      "start_hour_11        :  0.286802\n",
      "start_hour_12        :  1.016875\n",
      "start_hour_13        :  0.776480\n",
      "start_hour_14        : -3.632531\n",
      "start_hour_15        : -1.086744\n",
      "start_hour_16        :  2.667484\n",
      "start_hour_17        :  2.434955\n",
      "start_hour_18        :  4.961205\n",
      "start_hour_19        : -1.084956\n",
      "start_hour_20        : -0.896456\n",
      "start_hour_21        : -1.223675\n",
      "start_hour_22        : -1.140175\n",
      "start_hour_23        : -0.809480\n"
     ]
    }
   ],
   "source": [
    "ft_names = tod + list(pd.get_dummies(fe_train[hrd],columns=hrd, drop_first=True).columns)\n",
    "for ft, coef in zip(ft_names,logreg.coef_[0][-len(ft_names):]):\n",
    "    print(f\"{ft:<20} : {coef:>9.6f}\")"
   ]
  },
  {
   "cell_type": "code",
   "execution_count": 67,
   "metadata": {},
   "outputs": [
    {
     "name": "stdout",
     "output_type": "stream",
     "text": [
      "Минимальное значение коэффициентов: -13.2645\n",
      "\n",
      ".01 квантиль: -1.5868\n",
      ".05 квантиль: -0.6634\n",
      ".50 квантиль: -0.0241\n",
      ".95 квантиль: 1.0126\n",
      ".99 квантиль: 2.8480\n",
      "\n",
      "максимальное значение коэффициентов: 13.7815\n",
      "\n",
      "Cреднее коффициентов с ско: -0.0045 ± 0.6709\n"
     ]
    }
   ],
   "source": [
    "print(f\"Минимальное значение коэффициентов: {logreg.coef_[0].min():.4f}\")\n",
    "print()\n",
    "print(f\".01 квантиль: {np.quantile(logreg.coef_[0], .01):.4f}\")\n",
    "print(f\".05 квантиль: {np.quantile(logreg.coef_[0], .05):.4f}\")\n",
    "print(f\".50 квантиль: {np.quantile(logreg.coef_[0], .50):.4f}\")\n",
    "print(f\".95 квантиль: {np.quantile(logreg.coef_[0], .95):.4f}\")\n",
    "print(f\".99 квантиль: {np.quantile(logreg.coef_[0], .99):.4f}\")\n",
    "print()\n",
    "print(f\"максимальное значение коэффициентов: {logreg.coef_[0].max():.4f}\")\n",
    "print()\n",
    "print(f\"Cреднее коффициентов с ско: {logreg.coef_[0].mean():.4f} ± {logreg.coef_[0].std():.4f}\")"
   ]
  },
  {
   "cell_type": "code",
   "execution_count": 68,
   "metadata": {},
   "outputs": [
    {
     "name": "stdout",
     "output_type": "stream",
     "text": [
      "\tCV: 0.91637 ± 0.091847\n",
      "\tCV scores: [0.66909, 0.83055, 0.97040, 0.95884, 0.93344, 0.97278, 0.93289, 0.95352, 0.97294, 0.96925]\n"
     ]
    },
    {
     "data": {
      "image/png": "[encoded data removed]",
      "text/plain": [
       "<Figure size 1152x576 with 1 Axes>"
      ]
     },
     "metadata": {
      "needs_background": "light"
     },
     "output_type": "display_data"
    }
   ],
   "source": [
    "cv_scores = cross_val_score(logreg, X_train, y, cv=ts, scoring='roc_auc', n_jobs=-1)\n",
    "print_cv_scores(cv_scores, \"\\t\")\n",
    "plt.figure(figsize=(16,8))\n",
    "plt.plot(spl, cv_scores, label=\"Итоговая модель\")\n",
    "plt.plot(spl, cvrsdf.loc[\"3-50\", spl].values, label=\"baseline\")\n",
    "plt.ylabel(\"ROC-AUC\")\n",
    "plt.legend()\n",
    "plt.grid()\n",
    "plt.show()"
   ]
  },
  {
   "cell_type": "code",
   "execution_count": 69,
   "metadata": {},
   "outputs": [],
   "source": [
    "write_to_submission_file(logreg.predict_proba(X_test)[:,1], os.path.join(PATH_TO_DATA, \"submission_tod_hrd.csv\"))"
   ]
  },
  {
   "cell_type": "markdown",
   "metadata": {},
   "source": [
    "На тестовой выборке с этими признаками полчена оценка ROC-AUC равная 0.94466. Бэнчмарк \"Logit +3 features\" (.92784) побит."
   ]
  },
  {
   "cell_type": "markdown",
   "metadata": {},
   "source": [
    "Теперь обучим модель для набора признаков \"tod+hrd+td+sd+auto+nus\""
   ]
  },
  {
   "cell_type": "code",
   "execution_count": 70,
   "metadata": {},
   "outputs": [
    {
     "data": {
      "text/plain": [
       "LogisticRegression(C=18.0, max_iter=100000.0, n_jobs=-1)"
      ]
     },
     "execution_count": 70,
     "metadata": {},
     "output_type": "execute_result"
    }
   ],
   "source": [
    "X_train = sparse.hstack((X_sites_train_3_50k, fe_train[tod+auto])).tocsr()\n",
    "X_test = sparse.hstack((X_sites_test_3_50k, fe_test[tod+auto])).tocsr()\n",
    "\n",
    "ss = StandardScaler().fit(fe_train[td+sd+nus])\n",
    "X_train = sparse.hstack((X_train, ss.transform(fe_train[td+sd+nus]))).tocsr()\n",
    "X_test = sparse.hstack((X_test, ss.transform(fe_test[td+sd+nus]))).tocsr()\n",
    "\n",
    "X_train = sparse.hstack((X_train, pd.get_dummies(fe_train[hrd],columns=hrd, drop_first=True))).tocsr()\n",
    "X_test = sparse.hstack((X_test, pd.get_dummies(fe_test[hrd],columns=hrd, drop_first=True))).tocsr()\n",
    "\n",
    "logreg = LogisticRegression(max_iter=1e5, n_jobs=-1).set_params( **cvrs[\"3-50,f,tod+hrd+td+sd+auto+nus\"][\"params\"] )\n",
    "logreg.fit(X_train, y)"
   ]
  },
  {
   "cell_type": "code",
   "execution_count": 71,
   "metadata": {
    "scrolled": false
   },
   "outputs": [
    {
     "name": "stdout",
     "output_type": "stream",
     "text": [
      "start_morning        : -2.197451\n",
      "start_noon           :  2.288526\n",
      "start_evening        : -0.296753\n",
      "automatic            : -1.061432\n",
      "tdiff_mean           : -0.166330\n",
      "tdiff_std            :  0.120881\n",
      "session_duration     : -0.166330\n",
      "n_unique_sites       : -0.173901\n",
      "start_hour_8         : -2.277307\n",
      "start_hour_9         :  2.616508\n",
      "start_hour_10        : -2.885915\n",
      "start_hour_11        :  0.441767\n",
      "start_hour_12        :  1.036129\n",
      "start_hour_13        :  0.815296\n",
      "start_hour_14        : -3.773463\n",
      "start_hour_15        : -1.146510\n",
      "start_hour_16        :  2.807722\n",
      "start_hour_17        :  2.549352\n",
      "start_hour_18        :  5.289254\n",
      "start_hour_19        : -1.143795\n",
      "start_hour_20        : -1.061283\n",
      "start_hour_21        : -1.290203\n",
      "start_hour_22        : -1.245999\n",
      "start_hour_23        : -0.844728\n"
     ]
    }
   ],
   "source": [
    "ft_names = tod+auto+ td+sd+nus + list(pd.get_dummies(fe_train[hrd],columns=hrd, drop_first=True).columns)\n",
    "for ft, coef in zip(ft_names,logreg.coef_[0][-len(ft_names):]):\n",
    "    print(f\"{ft:<20} : {coef:>9.6f}\")"
   ]
  },
  {
   "cell_type": "code",
   "execution_count": 72,
   "metadata": {},
   "outputs": [
    {
     "name": "stdout",
     "output_type": "stream",
     "text": [
      "Минимальное значение коэффициентов: -14.8127\n",
      "\n",
      ".01 квантиль: -1.9095\n",
      ".05 квантиль: -0.8152\n",
      ".50 квантиль: -0.0234\n",
      ".95 квантиль: 1.2149\n",
      ".99 квантиль: 3.4346\n",
      "\n",
      "максимальное значение коэффициентов: 15.4278\n",
      "\n",
      "Cреднее коффициентов с ско: -0.0023 ± 0.7944\n"
     ]
    }
   ],
   "source": [
    "print(f\"Минимальное значение коэффициентов: {logreg.coef_[0].min():.4f}\")\n",
    "print()\n",
    "print(f\".01 квантиль: {np.quantile(logreg.coef_[0], .01):.4f}\")\n",
    "print(f\".05 квантиль: {np.quantile(logreg.coef_[0], .05):.4f}\")\n",
    "print(f\".50 квантиль: {np.quantile(logreg.coef_[0], .50):.4f}\")\n",
    "print(f\".95 квантиль: {np.quantile(logreg.coef_[0], .95):.4f}\")\n",
    "print(f\".99 квантиль: {np.quantile(logreg.coef_[0], .99):.4f}\")\n",
    "print()\n",
    "print(f\"максимальное значение коэффициентов: {logreg.coef_[0].max():.4f}\")\n",
    "print()\n",
    "print(f\"Cреднее коффициентов с ско: {logreg.coef_[0].mean():.4f} ± {logreg.coef_[0].std():.4f}\")"
   ]
  },
  {
   "cell_type": "code",
   "execution_count": 73,
   "metadata": {},
   "outputs": [
    {
     "name": "stdout",
     "output_type": "stream",
     "text": [
      "\tCV: 0.91712 ± 0.091897\n",
      "\tCV scores: [0.66898, 0.83183, 0.97030, 0.96067, 0.93348, 0.97198, 0.93834, 0.95338, 0.97344, 0.96874]\n"
     ]
    },
    {
     "data": {
      "image/png": "[encoded data removed]",
      "text/plain": [
       "<Figure size 1152x576 with 1 Axes>"
      ]
     },
     "metadata": {
      "needs_background": "light"
     },
     "output_type": "display_data"
    }
   ],
   "source": [
    "cv_scores = cross_val_score(logreg, X_train, y, cv=ts, scoring='roc_auc', n_jobs=-1)\n",
    "print_cv_scores(cv_scores, \"\\t\")\n",
    "plt.figure(figsize=(16,8))\n",
    "plt.plot(spl, cv_scores, label=\"Итоговая модель\")\n",
    "plt.plot(spl, cvrsdf.loc[\"3-50\", spl].values, label=\"baseline\")\n",
    "plt.ylabel(\"ROC-AUC\")\n",
    "plt.legend()\n",
    "plt.grid()\n",
    "plt.show()"
   ]
  },
  {
   "cell_type": "code",
   "execution_count": 74,
   "metadata": {},
   "outputs": [],
   "source": [
    "write_to_submission_file(logreg.predict_proba(X_test)[:,1], os.path.join(PATH_TO_DATA, \"submission_tod_hrd_td_sd_auto_nus.csv\"))"
   ]
  },
  {
   "cell_type": "markdown",
   "metadata": {},
   "source": [
    "На тестовой выборке с этими признаками полчена оценка ROC-AUC равная 0.94406. Бэнчмарк \"Logit +3 features\" (.92784) побит."
   ]
  },
  {
   "cell_type": "markdown",
   "metadata": {},
   "source": [
    "## Критерии оценки работы (только для Peer Review в специализации):\n",
    "- Правильные ли получились размерности матриц в п. 1? (max. 2 балла)\n",
    "- Правильным ли получилось значения ROC AUC в п. 2? (max. 4 балла)\n",
    "- Побит ли бенчмарк \"sgd_logit_benchmark.csv\" на публичной части рейтинга в соревновании Kaggle? (max. 2 балла)\n",
    "- Побит ли бенчмарк \"Logit +3 features\" на публичной части рейтинга в соревновании Kaggle? (max. 2 балла)"
   ]
  },
  {
   "cell_type": "markdown",
   "metadata": {
    "collapsed": true
   },
   "source": [
    "## Пути улучшения\n",
    "На этой неделе дается много времени на соревнование. Не забывайте вносить хорошие идеи, к которым Вы пришли по ходу соревнования, в описание финального проекта (`html`, `pdf` или `ipynb`). Это только в случае, если вы проходите специализацию.\n",
    "Что можно попробовать:\n",
    " - Использовать ранее построенные признаки для улучшения модели (проверить их можно на меньшей выборке по 150 пользователям, отделив одного из пользователей от остальных – это быстрее)\n",
    " - Настроить параметры моделей (например, коэффициенты регуляризации)\n",
    " - Если позволяют мощности (или хватает терпения), можно попробовать смешивание (блендинг) ответов бустинга и линейной модели. [Вот](http://mlwave.com/kaggle-ensembling-guide/) один из самых известных тьюториалов по смешиванию ответов алгоритмов, также хороша [статья](https://alexanderdyakonov.wordpress.com/2017/03/10/cтекинг-stacking-и-блендинг-blending) Александра Дьяконова\n",
    " - Обратите внимание, что в соревновании также даны исходные данные о посещенных веб-страницах Элис и остальными 1557 пользователями (*train.zip*). По этим данным можно сформировать свою обучающую выборку. \n",
    "\n",
    "На 6 неделе мы пройдем большой тьюториал по Vowpal Wabbit и попробуем его в деле, на данных соревнования."
   ]
  }
 ],
 "metadata": {
  "kernelspec": {
   "display_name": "Python 3",
   "language": "python",
   "name": "python3"
  },
  "language_info": {
   "codemirror_mode": {
    "name": "ipython",
    "version": 3
   },
   "file_extension": ".py",
   "mimetype": "text/x-python",
   "name": "python",
   "nbconvert_exporter": "python",
   "pygments_lexer": "ipython3",
   "version": "3.7.8"
  }
 },
 "nbformat": 4,
 "nbformat_minor": 1
}
